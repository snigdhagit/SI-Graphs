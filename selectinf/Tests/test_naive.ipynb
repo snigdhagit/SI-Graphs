{
 "cells": [
  {
   "cell_type": "code",
   "execution_count": 1,
   "metadata": {
    "collapsed": true
   },
   "outputs": [],
   "source": [
    "from __future__ import print_function\n",
    "\n",
    "import numpy as np\n",
    "import random\n",
    "\n",
    "from matplotlib import pyplot as plt\n",
    "\n",
    "from selectinf.nbd_lasso import nbd_lasso\n",
    "from selectinf.Utils.discrete_family import discrete_family\n",
    "from statsmodels.distributions.empirical_distribution import ECDF\n",
    "from instance import GGM_instance\n",
    "\n",
    "from nbd_naive_and_ds import *\n",
    "from scipy.integrate import quad\n",
    "from scipy.optimize import root_scalar"
   ]
  },
  {
   "cell_type": "code",
   "execution_count": 208,
   "outputs": [],
   "source": [
    "def print_nonzero_intervals(nonzero, intervals, prec, X):\n",
    "    # Intervals, prec, X are all in their original scale\n",
    "    n, p = X.shape\n",
    "    S = X.T @ X / n\n",
    "\n",
    "    for i in range(p):\n",
    "        for j in range(i + 1, p):\n",
    "            if nonzero[i, j]:\n",
    "                print(\"(\", i, \",\", j, \")\", \"selected\")\n",
    "                print(\"Theta\", \"(\", i, \",\", j, \")\", \"interval:\", intervals[i, j, :])\n",
    "                print(\"Theta\", \"(\", i, \",\", j, \")\", prec[i, j])\n",
    "                print(\"S/n\", \"(\", i, \",\", j, \")\", S[i, j])"
   ],
   "metadata": {
    "collapsed": false
   }
  },
  {
   "cell_type": "code",
   "execution_count": 254,
   "outputs": [
    {
     "name": "stdout",
     "output_type": "stream",
     "text": [
      "(50, 49)\n",
      "10.0\n",
      "78.0\n",
      "42\n"
     ]
    }
   ],
   "source": [
    "# TODO: Add root n to the randomization covariance\n",
    "# Remark: Not needed (?) anymore since X is now scaled\n",
    "prec,cov,X = GGM_instance(n=200,p=50, max_edges=1)\n",
    "nbd_instance = nbd_lasso.gaussian(X, n_scaled=False, weights_const=0.4)\n",
    "active_signs_nonrandom = nbd_instance.fit(perturb=np.zeros((50,49)))\n",
    "active_signs_random = nbd_instance.fit()\n",
    "print(active_signs_nonrandom.shape)\n",
    "print(np.abs(active_signs_nonrandom).sum())\n",
    "print(np.abs(active_signs_random).sum())\n",
    "print(np.abs(prec != 0).sum() - 10)"
   ],
   "metadata": {
    "collapsed": false
   }
  },
  {
   "cell_type": "code",
   "execution_count": 255,
   "outputs": [],
   "source": [
    "n,p = X.shape\n",
    "X_n = X / np.sqrt(n)\n",
    "prec_n = prec * n\n",
    "nonzero = get_nonzero(active_signs_nonrandom)"
   ],
   "metadata": {
    "collapsed": false
   }
  },
  {
   "cell_type": "code",
   "execution_count": 256,
   "outputs": [
    {
     "name": "stdout",
     "output_type": "stream",
     "text": [
      "Normalized pdf is nan\n",
      "theta: 1.0855805792587502e+308\n",
      "suff stat max: 3.0 suff stat min: -3.0\n",
      "Min log order: -inf\n",
      "Min _thetaX: -inf\n",
      "Min log weights: -inf\n",
      "Max log order: nan\n",
      "# nan in _thetaX: 0\n",
      "Normalized pdf is nan\n",
      "theta: 8.141854344440626e+307\n",
      "suff stat max: 3.0 suff stat min: -3.0\n",
      "Min log order: -inf\n",
      "Min _thetaX: -inf\n",
      "Min log weights: -inf\n",
      "Max log order: nan\n",
      "# nan in _thetaX: 0\n",
      "Normalized pdf is nan\n",
      "theta: 1.0855805792587502e+308\n",
      "suff stat max: 3.0 suff stat min: -3.0\n",
      "Min log order: -inf\n",
      "Min _thetaX: -inf\n",
      "Min log weights: -inf\n",
      "Max log order: nan\n",
      "# nan in _thetaX: 0\n",
      "Normalized pdf is nan\n",
      "theta: 8.141854344440626e+307\n",
      "suff stat max: 3.0 suff stat min: -3.0\n",
      "Min log order: -inf\n",
      "Min _thetaX: -inf\n",
      "Min log weights: -inf\n",
      "Max log order: nan\n",
      "# nan in _thetaX: 0\n",
      "WARNING: SHORT INTERVAL\n",
      "0.625\n"
     ]
    }
   ],
   "source": [
    "intervals = conditional_inference(X_n, nonzero)\n",
    "# coverage is upper-triangular\n",
    "coverage = get_coverage(nonzero, intervals, prec_n, n, p)\n",
    "\n",
    "interval_len = 0\n",
    "nonzero_count = 0  # nonzero_count is essentially upper-triangular\n",
    "for i in range(p):\n",
    "    for j in range(i+1,p):\n",
    "        if nonzero[i,j]:\n",
    "            interval = intervals[i,j,:]\n",
    "            interval_len = interval_len + (interval[1] - interval[0])\n",
    "            nonzero_count = nonzero_count + 1\n",
    "if nonzero_count > 0:\n",
    "    avg_len = interval_len / nonzero_count\n",
    "    cov_rate = coverage.sum() / nonzero_count\n",
    "    print(cov_rate)\n",
    "else:\n",
    "    print(\"No selection\")"
   ],
   "metadata": {
    "collapsed": false
   }
  },
  {
   "cell_type": "code",
   "execution_count": 257,
   "outputs": [
    {
     "name": "stdout",
     "output_type": "stream",
     "text": [
      "( 0 , 45 ) selected\n",
      "Theta ( 0 , 45 ) interval: [0.05307822 0.3456344 ]\n",
      "Theta ( 0 , 45 ) -0.0\n",
      "S/n ( 0 , 45 ) -0.24586886933880886\n",
      "( 2 , 21 ) selected\n",
      "Theta ( 2 , 21 ) interval: [-0.2293921   0.07628459]\n",
      "Theta ( 2 , 21 ) -0.0\n",
      "S/n ( 2 , 21 ) 0.34674454756492196\n",
      "( 2 , 39 ) selected\n",
      "Theta ( 2 , 39 ) interval: [-0.16304337  0.1381958 ]\n",
      "Theta ( 2 , 39 ) 0.0\n",
      "S/n ( 2 , 39 ) 0.33812718963534566\n",
      "( 14 , 39 ) selected\n",
      "Theta ( 14 , 39 ) interval: [-0.39140583 -0.1118494 ]\n",
      "Theta ( 14 , 39 ) -0.0\n",
      "S/n ( 14 , 39 ) 0.2536207573301948\n",
      "( 16 , 39 ) selected\n",
      "Theta ( 16 , 39 ) interval: [-0.09312802  0.22181834]\n",
      "Theta ( 16 , 39 ) -0.0\n",
      "S/n ( 16 , 39 ) -0.23210903600317706\n",
      "( 19 , 39 ) selected\n",
      "Theta ( 19 , 39 ) interval: [-0.06249556  0.23747341]\n",
      "Theta ( 19 , 39 ) -0.0\n",
      "S/n ( 19 , 39 ) -0.2699399168282541\n",
      "( 21 , 33 ) selected\n",
      "Theta ( 21 , 33 ) interval: [-0.04540548  0.24123728]\n",
      "Theta ( 21 , 33 ) -0.0\n",
      "S/n ( 21 , 33 ) -0.23383202003838882\n",
      "( 21 , 39 ) selected\n",
      "Theta ( 21 , 39 ) interval: [-4.07092717e+305 -4.07092717e+305]\n",
      "Theta ( 21 , 39 ) -0.841052522132685\n",
      "S/n ( 21 , 39 ) 3.38991237129958\n"
     ]
    }
   ],
   "source": [
    "print_nonzero_intervals(nonzero, intervals, prec, X)"
   ],
   "metadata": {
    "collapsed": false
   }
  },
  {
   "cell_type": "code",
   "execution_count": 262,
   "outputs": [],
   "source": [
    "def edge_inference(j0k0, S, n, p, var=None,\n",
    "                   ngrid=10000):\n",
    "    j0 = j0k0[0]\n",
    "    k0 = j0k0[1]\n",
    "    # n_total: the total data points in data splitting\n",
    "    #        : the raw dimension of X in naive\n",
    "    inner_prod = S[j0,k0]\n",
    "    # print(\"inner_prod\", \"(\", j0, \",\", k0, \"):\" , inner_prod)\n",
    "    # print(\"var:\", var)\n",
    "\n",
    "    S_copy = np.copy(S)\n",
    "\n",
    "    #stat_grid = np.zeros((ngrid,))\n",
    "    #print(\"n=100 assumed\")\n",
    "    stat_grid = np.linspace(-10,10,num=ngrid)\n",
    "    def log_det_S_j_k(s_val):\n",
    "        S_j_k = S_copy\n",
    "        S_j_k[j0,k0] = s_val\n",
    "        S_j_k[k0,j0] = s_val\n",
    "        if np.linalg.det(S_j_k) < 0:\n",
    "            #print(\"negative det\", np.linalg.det(S_j_k),\n",
    "            #      \"grid\", s_val)\n",
    "            return -np.inf\n",
    "        return np.log((np.linalg.det(S_j_k))) * (n-p-1)/2\n",
    "\n",
    "    logWeights = np.zeros((ngrid,))\n",
    "    for g in range(ngrid):\n",
    "        logWeights[g] = log_det_S_j_k(stat_grid[g])\n",
    "\n",
    "    # normalize logWeights\n",
    "    logWeights = logWeights - np.max(logWeights)\n",
    "    # Set extremely small values (< e^-500) to e^-500 for numerical stability\n",
    "    # logWeights_zero = (logWeights < -500)\n",
    "    # logWeights[logWeights_zero] = -500\n",
    "\n",
    "    condlWishart = discrete_family(stat_grid, np.exp(logWeights),\n",
    "                                   logweights=logWeights)\n",
    "\n",
    "    neg_interval = condlWishart.equal_tailed_interval(observed=inner_prod,\n",
    "                                                      alpha=0.1)\n",
    "    if np.isnan(neg_interval[0]) or np.isnan(neg_interval[1]):\n",
    "        print(\"Failed to construct intervals: nan\")\n",
    "\n",
    "    interval = invert_interval(neg_interval)\n",
    "\n",
    "    pivot = condlWishart.ccdf(theta=0)\n",
    "\n",
    "    return pivot, interval[0], interval[1]#neg_interval, condlWishart"
   ],
   "metadata": {
    "collapsed": false
   }
  },
  {
   "cell_type": "code",
   "execution_count": 263,
   "outputs": [],
   "source": [
    "S_ = X.T @ X / n"
   ],
   "metadata": {
    "collapsed": false
   }
  },
  {
   "cell_type": "code",
   "execution_count": 264,
   "outputs": [],
   "source": [
    "pivot, lcb, ucb = edge_inference(j0k0=(21,39), S=S_, n=n, p=p, ngrid=10000)"
   ],
   "metadata": {
    "collapsed": false
   }
  },
  {
   "cell_type": "code",
   "execution_count": 265,
   "outputs": [
    {
     "data": {
      "text/plain": "(-1.1691259993492786, -0.7780059277458823)"
     },
     "execution_count": 265,
     "metadata": {},
     "output_type": "execute_result"
    }
   ],
   "source": [
    "lcb / n , ucb / n"
   ],
   "metadata": {
    "collapsed": false
   }
  },
  {
   "cell_type": "code",
   "execution_count": 261,
   "outputs": [],
   "source": [],
   "metadata": {
    "collapsed": false
   }
  },
  {
   "cell_type": "code",
   "execution_count": 120,
   "outputs": [
    {
     "name": "stdout",
     "output_type": "stream",
     "text": [
      "[[False False False False False False False False False False False False\n",
      "  False False False False False False False False]\n",
      " [False False False False False False False False False False False False\n",
      "  False False False False False False False False]\n",
      " [False False False False False False False False False False False False\n",
      "  False False False False False  True False False]\n",
      " [False False False False False False False False False False False False\n",
      "  False False False False False False False False]\n",
      " [False False False False False False False False False False False False\n",
      "  False False False False False False False False]\n",
      " [False False False False False False False False False False False False\n",
      "  False False False False False False False False]\n",
      " [False False False False False False False False False False False False\n",
      "  False False False False False False False False]\n",
      " [False False False False False False False False False False False False\n",
      "  False False False False False False False False]\n",
      " [False False False False False False False False False False False  True\n",
      "  False False False False False False False False]\n",
      " [False False False False False False False False False False False False\n",
      "  False False False False False False False False]\n",
      " [False False False False False False False False False False False False\n",
      "  False False False False False False False False]\n",
      " [False False False False False False False False  True False False False\n",
      "  False False False False False False False False]\n",
      " [False False False False False False False False False False False False\n",
      "  False False False False False False False False]\n",
      " [False False False False False False False False False False False False\n",
      "  False False False False False False False False]\n",
      " [False False False False False False False False False False False False\n",
      "  False False False False False False False False]\n",
      " [False False False False False False False False False False False False\n",
      "  False False False False False False False False]\n",
      " [False False False False False False False False False False False False\n",
      "  False False False False False False False False]\n",
      " [False False  True False False False False False False False False False\n",
      "  False False False False False False False False]\n",
      " [False False False False False False False False False False False False\n",
      "  False False False False False False False False]\n",
      " [False False False False False False False False False False False False\n",
      "  False False False False False False False False]]\n"
     ]
    }
   ],
   "source": [
    "print(nonzero)"
   ],
   "metadata": {
    "collapsed": false
   }
  },
  {
   "cell_type": "code",
   "execution_count": null,
   "outputs": [],
   "source": [],
   "metadata": {
    "collapsed": false
   }
  }
 ],
 "metadata": {
  "kernelspec": {
   "display_name": "Python 3",
   "language": "python",
   "name": "python3"
  },
  "language_info": {
   "codemirror_mode": {
    "name": "ipython",
    "version": 2
   },
   "file_extension": ".py",
   "mimetype": "text/x-python",
   "name": "python",
   "nbconvert_exporter": "python",
   "pygments_lexer": "ipython2",
   "version": "2.7.6"
  }
 },
 "nbformat": 4,
 "nbformat_minor": 0
}
