{
 "cells": [
  {
   "cell_type": "code",
   "execution_count": 1,
   "metadata": {
    "collapsed": true,
    "ExecuteTime": {
     "end_time": "2023-11-03T19:37:55.102757Z",
     "start_time": "2023-11-03T19:37:54.358912Z"
    }
   },
   "outputs": [],
   "source": [
    "import numpy as np\n",
    "import random\n",
    "from scipy.stats import norm\n",
    "from selectinf.nbd_lasso import nbd_lasso\n",
    "from selectinf.Utils.discrete_family import discrete_family\n",
    "from selectinf.Tests.instance import GGM_instance\n",
    "from selectinf.nbd_helpers import is_sym\n",
    "\n",
    "from selectinf.Tests.nbd_naive_and_ds import *"
   ]
  },
  {
   "cell_type": "code",
   "execution_count": 2,
   "outputs": [],
   "source": [
    "n=1000\n",
    "p=10\n",
    "prec,cov,X = GGM_instance(n=n, p=p, max_edges=4)"
   ],
   "metadata": {
    "collapsed": false,
    "ExecuteTime": {
     "end_time": "2023-11-03T19:37:59.893106Z",
     "start_time": "2023-11-03T19:37:59.831343Z"
    }
   }
  },
  {
   "cell_type": "code",
   "execution_count": 3,
   "outputs": [
    {
     "name": "stdout",
     "output_type": "stream",
     "text": [
      "[[ 1.039 -0.08   0.    -0.     0.    -0.    -0.    -0.148 -0.     0.103]\n",
      " [-0.08   1.042  0.    -0.     0.13   0.    -0.    -0.     0.139 -0.   ]\n",
      " [ 0.     0.     1.     0.     0.     0.     0.     0.     0.     0.   ]\n",
      " [-0.    -0.     0.     1.05   0.     0.    -0.094 -0.     0.195 -0.074]\n",
      " [-0.     0.13   0.    -0.     1.06  -0.     0.214  0.     0.    -0.   ]\n",
      " [ 0.    -0.     0.    -0.    -0.     1.069  0.    -0.261 -0.     0.07 ]\n",
      " [-0.     0.     0.    -0.094  0.214 -0.     1.053 -0.007  0.     0.029]\n",
      " [-0.148 -0.     0.    -0.     0.    -0.261 -0.007  1.088  0.047  0.   ]\n",
      " [-0.     0.139  0.     0.195  0.    -0.     0.     0.047  1.058  0.   ]\n",
      " [ 0.103 -0.     0.    -0.074 -0.     0.07   0.029  0.     0.     1.022]]\n"
     ]
    }
   ],
   "source": [
    "np.set_printoptions(precision=3, suppress=True)\n",
    "print(prec)"
   ],
   "metadata": {
    "collapsed": false,
    "ExecuteTime": {
     "end_time": "2023-11-03T19:38:00.660040Z",
     "start_time": "2023-11-03T19:38:00.646375Z"
    }
   }
  },
  {
   "cell_type": "code",
   "execution_count": null,
   "outputs": [],
   "source": [
    "weights_const=1.\n",
    "ridge_const=1.\n",
    "randomizer_scale=1.\n",
    "\n",
    "nbd_instance = nbd_lasso.gaussian(X, n_scaled=False, weights_const=weights_const,\n",
    "                                      ridge_terms=ridge_const, randomizer_scale=randomizer_scale)\n",
    "active_signs_random = nbd_instance.fit()\n",
    "nonzero = nbd_instance.nonzero\n",
    "\n",
    "# Construct intervals\n",
    "if nonzero.sum() > 0:\n",
    "    # Intervals returned is in its original (unscaled) order\n",
    "    intervals = nbd_instance.inference(parallel=False)"
   ],
   "metadata": {
    "collapsed": false
   }
  },
  {
   "cell_type": "code",
   "execution_count": null,
   "outputs": [],
   "source": [
    "coverage = get_coverage(nonzero, intervals, prec, n=n, p=p, scale=False)\n",
    "interval_len = 0\n",
    "nonzero_count = 0  # nonzero_count is essentially upper-triangular\n",
    "for i in range(p):\n",
    "    for j in range(i+1,p):\n",
    "        if nonzero[i,j]:\n",
    "            interval = intervals[i,j,:]\n",
    "            interval_len = interval_len + (interval[1] - interval[0])\n",
    "            nonzero_count = nonzero_count + 1\n",
    "avg_len = interval_len / nonzero_count\n",
    "cov_rate = coverage.sum() / nonzero_count\n",
    "F1_approx = calculate_F1_score_graph(prec, selection=nonzero)"
   ],
   "metadata": {
    "collapsed": false
   }
  },
  {
   "cell_type": "code",
   "execution_count": null,
   "outputs": [],
   "source": [
    "cov_rate"
   ],
   "metadata": {
    "collapsed": false
   }
  },
  {
   "cell_type": "code",
   "execution_count": null,
   "outputs": [],
   "source": [
    "avg_len"
   ],
   "metadata": {
    "collapsed": false
   }
  },
  {
   "cell_type": "code",
   "execution_count": null,
   "outputs": [],
   "source": [
    "F1_approx"
   ],
   "metadata": {
    "collapsed": false
   }
  },
  {
   "cell_type": "code",
   "execution_count": null,
   "outputs": [],
   "source": [
    "def print_nonzero_intervals(nonzero, intervals, prec, X):\n",
    "    # Intervals, prec, X are all in their original scale\n",
    "    n, p = X.shape\n",
    "    S = X.T @ X / n\n",
    "\n",
    "    for i in range(p):\n",
    "            for j in range(i+1,p):\n",
    "                if nonzero[i,j]:\n",
    "                    print(\"(\",i,\",\",j,\")\", \"selected\")\n",
    "                    print(\"Theta\", \"(\",i,\",\",j,\")\", \"interval:\", intervals[i,j,:])\n",
    "                    print(\"Theta\", \"(\",i,\",\",j,\")\", prec[i,j])\n",
    "                    print(\"S/n\", \"(\",i,\",\",j,\")\", S[i,j])\n",
    "print_nonzero_intervals(nonzero, intervals, prec, X)"
   ],
   "metadata": {
    "collapsed": false
   }
  },
  {
   "cell_type": "code",
   "execution_count": null,
   "outputs": [],
   "source": [
    "(np.abs(prec) > 1e-10).sum() / (p**2)"
   ],
   "metadata": {
    "collapsed": false
   }
  },
  {
   "cell_type": "code",
   "execution_count": null,
   "outputs": [],
   "source": [
    "((np.abs(prec) > 1e-10) * nonzero).sum() / nonzero.sum()"
   ],
   "metadata": {
    "collapsed": false
   }
  },
  {
   "cell_type": "code",
   "execution_count": null,
   "outputs": [],
   "source": [
    "nonzero.sum() / (p**2)"
   ],
   "metadata": {
    "collapsed": false
   }
  },
  {
   "cell_type": "markdown",
   "source": [
    "## Random Edges Instance"
   ],
   "metadata": {
    "collapsed": false
   }
  },
  {
   "cell_type": "code",
   "execution_count": null,
   "outputs": [],
   "source": [
    "def is_invertible(a):\n",
    "    return a.shape[0] == a.shape[1] and np.linalg.matrix_rank(a) == a.shape[0]"
   ],
   "metadata": {
    "collapsed": false
   }
  },
  {
   "cell_type": "code",
   "execution_count": null,
   "outputs": [],
   "source": [
    "def GGM_random_instances(n=200, p=50, theta=-0.2):\n",
    "\n",
    "    # Guarantee same sparsity level as in Friedman et al.:\n",
    "    # https://www.asc.ohio-state.edu/statistics/statgen/joul_aut2015/2010-Friedman-Hastie-Tibshirani.pdf\n",
    "    prob = 0.4 / (np.abs(theta)*p)\n",
    "\n",
    "    invertible = False\n",
    "\n",
    "    # Generate invertible precision\n",
    "    while not invertible:\n",
    "        prec = np.eye(p)\n",
    "\n",
    "        # Randomly selecting edges\n",
    "        for i in range(p):\n",
    "            for j in range(i + 1, p):\n",
    "                prec[i, j] = theta * np.random.binomial(n=1, p=prob)\n",
    "\n",
    "        # symmetrize\n",
    "        prec = prec + prec.T - np.eye(p)\n",
    "\n",
    "        invertible = is_invertible(prec)\n",
    "\n",
    "    cov = np.linalg.inv(prec)\n",
    "    # standardize the covariance\n",
    "    cov = cov / np.outer(np.sqrt(np.diag(cov)), np.sqrt(np.diag(cov)))\n",
    "    prec = np.linalg.inv(cov)\n",
    "\n",
    "    X = np.random.multivariate_normal(mean=np.zeros(p),\n",
    "                                      cov=cov, size=n)\n",
    "\n",
    "    return prec, cov, X"
   ],
   "metadata": {
    "collapsed": false
   }
  },
  {
   "cell_type": "code",
   "execution_count": null,
   "outputs": [],
   "source": [
    "n=1000\n",
    "p=50\n",
    "prec,cov,X = GGM_random_instances(n=n, p=p, theta=-0.2)"
   ],
   "metadata": {
    "collapsed": false
   }
  },
  {
   "cell_type": "code",
   "execution_count": null,
   "outputs": [],
   "source": [
    "weights_const=1.\n",
    "ridge_const=1.\n",
    "randomizer_scale=2#np.sqrt(np.sqrt(p))\n",
    "print(randomizer_scale)\n",
    "\n",
    "nbd_instance = nbd_lasso.gaussian(X, n_scaled=False, weights_const=weights_const,\n",
    "                                      ridge_terms=ridge_const, randomizer_scale=randomizer_scale)\n",
    "active_signs_random = nbd_instance.fit()\n",
    "nonzero = nbd_instance.nonzero\n",
    "\n",
    "# Construct intervals\n",
    "if nonzero.sum() > 0:\n",
    "    # Intervals returned is in its original (unscaled) order\n",
    "    intervals = nbd_instance.inference(parallel=False)"
   ],
   "metadata": {
    "collapsed": false
   }
  },
  {
   "cell_type": "code",
   "execution_count": null,
   "outputs": [],
   "source": [
    "coverage = get_coverage(nonzero, intervals, prec, n=n, p=p, scale=False)\n",
    "interval_len = 0\n",
    "nonzero_count = 0  # nonzero_count is essentially upper-triangular\n",
    "for i in range(p):\n",
    "    for j in range(i+1,p):\n",
    "        if nonzero[i,j]:\n",
    "            interval = intervals[i,j,:]\n",
    "            interval_len = interval_len + (interval[1] - interval[0])\n",
    "            nonzero_count = nonzero_count + 1\n",
    "avg_len = interval_len / nonzero_count\n",
    "cov_rate = coverage.sum() / nonzero_count\n",
    "F1_approx = calculate_F1_score_graph(prec, selection=nonzero)"
   ],
   "metadata": {
    "collapsed": false
   }
  },
  {
   "cell_type": "code",
   "execution_count": null,
   "outputs": [],
   "source": [
    "cov_rate"
   ],
   "metadata": {
    "collapsed": false
   }
  },
  {
   "cell_type": "code",
   "execution_count": null,
   "outputs": [],
   "source": [
    "avg_len"
   ],
   "metadata": {
    "collapsed": false
   }
  },
  {
   "cell_type": "code",
   "execution_count": null,
   "outputs": [],
   "source": [
    "F1_approx"
   ],
   "metadata": {
    "collapsed": false
   }
  },
  {
   "cell_type": "code",
   "execution_count": null,
   "outputs": [],
   "source": [
    "(np.abs(prec) > 1e-10).sum() / (p**2)"
   ],
   "metadata": {
    "collapsed": false
   }
  },
  {
   "cell_type": "code",
   "execution_count": null,
   "outputs": [],
   "source": [
    "((np.abs(prec) > 1e-10) * nonzero).sum() / nonzero.sum()"
   ],
   "metadata": {
    "collapsed": false
   }
  },
  {
   "cell_type": "code",
   "execution_count": null,
   "outputs": [],
   "source": [
    "nonzero.sum() / (p**2)"
   ],
   "metadata": {
    "collapsed": false
   }
  },
  {
   "cell_type": "code",
   "execution_count": null,
   "outputs": [],
   "source": [
    "def print_nonzero_intervals(nonzero, intervals, prec, X):\n",
    "    # Intervals, prec, X are all in their original scale\n",
    "    n, p = X.shape\n",
    "    S = X.T @ X / n\n",
    "\n",
    "    for i in range(p):\n",
    "            for j in range(i+1,p):\n",
    "                if nonzero[i,j]:\n",
    "                    print(\"(\",i,\",\",j,\")\", \"selected\")\n",
    "                    print(\"Theta\", \"(\",i,\",\",j,\")\", \"interval:\", intervals[i,j,:])\n",
    "                    print(\"Theta\", \"(\",i,\",\",j,\")\", prec[i,j])\n",
    "                    print(\"S/n\", \"(\",i,\",\",j,\")\", S[i,j])\n",
    "print_nonzero_intervals(nonzero, intervals, prec, X)"
   ],
   "metadata": {
    "collapsed": false
   }
  },
  {
   "cell_type": "code",
   "execution_count": null,
   "outputs": [],
   "source": [
    "sum(sum(np.abs(prec) > 1e-10))/2"
   ],
   "metadata": {
    "collapsed": false
   }
  },
  {
   "cell_type": "code",
   "execution_count": null,
   "outputs": [],
   "source": [
    "nonzero_count"
   ],
   "metadata": {
    "collapsed": false
   }
  },
  {
   "cell_type": "markdown",
   "source": [
    "## Hub Instance"
   ],
   "metadata": {
    "collapsed": false
   }
  },
  {
   "cell_type": "code",
   "execution_count": null,
   "outputs": [],
   "source": [
    "def GGM_hub_instances(n=200, p=50, K=10, theta=-0.175):\n",
    "    group_size = int(p / K)\n",
    "\n",
    "    invertible = False\n",
    "    while not invertible:\n",
    "        prec = np.eye(p)\n",
    "        for k in range(K):\n",
    "            group_k = range(k * group_size, (k + 1) * group_size)\n",
    "            hub = random.sample(list(group_k), 1)[0]\n",
    "            for i in group_k:\n",
    "                # fix column at hub, iterate over all rows in the group\n",
    "                if i != hub:\n",
    "                    prec[i, hub] = theta\n",
    "\n",
    "        # symmetrize\n",
    "        prec = prec + prec.T - np.eye(p)\n",
    "\n",
    "        invertible = is_invertible(prec)\n",
    "\n",
    "    cov = np.linalg.inv(prec)\n",
    "    # standardize the covariance\n",
    "    cov = cov / np.outer(np.sqrt(np.diag(cov)), np.sqrt(np.diag(cov)))\n",
    "    prec = np.linalg.inv(cov)\n",
    "\n",
    "    X = np.random.multivariate_normal(mean=np.zeros(p),\n",
    "                                      cov=cov, size=n)\n",
    "\n",
    "    return prec, cov, X"
   ],
   "metadata": {
    "collapsed": false
   }
  },
  {
   "cell_type": "code",
   "execution_count": null,
   "outputs": [],
   "source": [
    "n=1000\n",
    "p=50\n",
    "prec, cov, X = GGM_hub_instances(n=n, p=p, K=int(p/5), theta=-0.2)"
   ],
   "metadata": {
    "collapsed": false
   }
  },
  {
   "cell_type": "code",
   "execution_count": null,
   "outputs": [],
   "source": [
    "weights_const=1\n",
    "ridge_const=1.\n",
    "randomizer_scale=2\n",
    "\n",
    "nbd_instance = nbd_lasso.gaussian(X, n_scaled=False, weights_const=weights_const,\n",
    "                                      ridge_terms=ridge_const, randomizer_scale=randomizer_scale)\n",
    "active_signs_random = nbd_instance.fit()\n",
    "nonzero = nbd_instance.nonzero\n",
    "\n",
    "# Construct intervals\n",
    "if nonzero.sum() > 0:\n",
    "    # Intervals returned is in its original (unscaled) order\n",
    "    intervals = nbd_instance.inference(parallel=False)"
   ],
   "metadata": {
    "collapsed": false
   }
  },
  {
   "cell_type": "code",
   "execution_count": null,
   "outputs": [],
   "source": [
    "coverage = get_coverage(nonzero, intervals, prec, n=n, p=p, scale=False)\n",
    "interval_len = 0\n",
    "nonzero_count = 0  # nonzero_count is essentially upper-triangular\n",
    "for i in range(p):\n",
    "    for j in range(i+1,p):\n",
    "        if nonzero[i,j]:\n",
    "            interval = intervals[i,j,:]\n",
    "            interval_len = interval_len + (interval[1] - interval[0])\n",
    "            nonzero_count = nonzero_count + 1\n",
    "avg_len = interval_len / nonzero_count\n",
    "cov_rate = coverage.sum() / nonzero_count\n",
    "F1_approx = calculate_F1_score_graph(prec, selection=nonzero)"
   ],
   "metadata": {
    "collapsed": false
   }
  },
  {
   "cell_type": "code",
   "execution_count": null,
   "outputs": [],
   "source": [
    "cov_rate"
   ],
   "metadata": {
    "collapsed": false
   }
  },
  {
   "cell_type": "code",
   "execution_count": null,
   "outputs": [],
   "source": [
    "avg_len"
   ],
   "metadata": {
    "collapsed": false
   }
  },
  {
   "cell_type": "code",
   "execution_count": null,
   "outputs": [],
   "source": [
    "F1_approx"
   ],
   "metadata": {
    "collapsed": false
   }
  },
  {
   "cell_type": "code",
   "execution_count": null,
   "outputs": [],
   "source": [
    "def print_nonzero_intervals(nonzero, intervals, prec, X):\n",
    "    # Intervals, prec, X are all in their original scale\n",
    "    n, p = X.shape\n",
    "    S = X.T @ X / n\n",
    "\n",
    "    for i in range(p):\n",
    "            for j in range(i+1,p):\n",
    "                if nonzero[i,j]:\n",
    "                    print(\"(\",i,\",\",j,\")\", \"selected\")\n",
    "                    print(\"Theta\", \"(\",i,\",\",j,\")\", \"interval:\", intervals[i,j,:])\n",
    "                    print(\"Theta\", \"(\",i,\",\",j,\")\", prec[i,j])\n",
    "                    print(\"S/n\", \"(\",i,\",\",j,\")\", S[i,j])\n",
    "print_nonzero_intervals(nonzero, intervals, prec, X)"
   ],
   "metadata": {
    "collapsed": false
   }
  },
  {
   "cell_type": "code",
   "execution_count": null,
   "outputs": [],
   "source": [
    "(np.abs(prec) > 1e-10).sum() / (p**2)"
   ],
   "metadata": {
    "collapsed": false
   }
  },
  {
   "cell_type": "code",
   "execution_count": null,
   "outputs": [],
   "source": [
    "((np.abs(prec) > 1e-10) * nonzero).sum() / nonzero.sum()"
   ],
   "metadata": {
    "collapsed": false
   }
  },
  {
   "cell_type": "code",
   "execution_count": null,
   "outputs": [],
   "source": [
    "nonzero.sum() / (p**2)"
   ],
   "metadata": {
    "collapsed": false
   }
  },
  {
   "cell_type": "markdown",
   "source": [
    "## Clique Instance"
   ],
   "metadata": {
    "collapsed": false
   }
  },
  {
   "cell_type": "code",
   "execution_count": null,
   "outputs": [],
   "source": [
    "def GGM_clique_instances(n=200, p=400, K=20, group_size=7, theta=-0.175):\n",
    "    # Partition [p] into p/K (big_group_size) disjoint sets,\n",
    "    # then choose a fixed-size subset of each disjoint set\n",
    "\n",
    "    assert K * group_size < p\n",
    "    big_group_size = int(p/K)\n",
    "\n",
    "    invertible = False\n",
    "    while not invertible:\n",
    "        prec = np.eye(p)\n",
    "        for k in range(K):\n",
    "            group_k = range(k * big_group_size, (k + 1) * big_group_size)\n",
    "            variables_k = np.random.choice(group_k,\n",
    "                                           size=group_size, replace=False)\n",
    "            for i in variables_k:\n",
    "                for j in variables_k:\n",
    "                    # Set theta_ij = theta\n",
    "                    if i != j:\n",
    "                        prec[i, j] = theta\n",
    "\n",
    "        invertible = is_invertible(prec)\n",
    "\n",
    "    cov = np.linalg.inv(prec)\n",
    "    # standardize the covariance\n",
    "    cov = cov / np.outer(np.sqrt(np.diag(cov)), np.sqrt(np.diag(cov)))\n",
    "    prec = np.linalg.inv(cov)\n",
    "\n",
    "    X = np.random.multivariate_normal(mean=np.zeros(p),\n",
    "                                      cov=cov, size=n)\n",
    "\n",
    "    return prec, cov, X"
   ],
   "metadata": {
    "collapsed": false
   }
  },
  {
   "cell_type": "code",
   "execution_count": null,
   "outputs": [],
   "source": [
    "prec, cov, X = GGM_clique_instances(n=1000, p=50, K=10, group_size=4, theta=-0.2)"
   ],
   "metadata": {
    "collapsed": false
   }
  },
  {
   "cell_type": "code",
   "execution_count": null,
   "outputs": [],
   "source": [
    "weights_const=1.\n",
    "ridge_const=1.\n",
    "randomizer_scale=2.\n",
    "\n",
    "nbd_instance = nbd_lasso.gaussian(X, n_scaled=False, weights_const=weights_const,\n",
    "                                      ridge_terms=ridge_const, randomizer_scale=randomizer_scale)\n",
    "active_signs_random = nbd_instance.fit()\n",
    "nonzero = nbd_instance.nonzero\n",
    "\n",
    "# Construct intervals\n",
    "if nonzero.sum() > 0:\n",
    "    # Intervals returned is in its original (unscaled) order\n",
    "    intervals = nbd_instance.inference(parallel=False)"
   ],
   "metadata": {
    "collapsed": false
   }
  },
  {
   "cell_type": "code",
   "execution_count": null,
   "outputs": [],
   "source": [
    "n=1000\n",
    "p=50\n",
    "coverage = get_coverage(nonzero, intervals, prec, n=3000, p=50, scale=False)\n",
    "interval_len = 0\n",
    "nonzero_count = 0  # nonzero_count is essentially upper-triangular\n",
    "for i in range(p):\n",
    "    for j in range(i+1,p):\n",
    "        if nonzero[i,j]:\n",
    "            interval = intervals[i,j,:]\n",
    "            interval_len = interval_len + (interval[1] - interval[0])\n",
    "            nonzero_count = nonzero_count + 1\n",
    "avg_len = interval_len / nonzero_count\n",
    "cov_rate = coverage.sum() / nonzero_count\n",
    "F1_approx = calculate_F1_score_graph(prec, selection=nonzero)"
   ],
   "metadata": {
    "collapsed": false
   }
  },
  {
   "cell_type": "code",
   "execution_count": null,
   "outputs": [],
   "source": [
    "cov_rate"
   ],
   "metadata": {
    "collapsed": false
   }
  },
  {
   "cell_type": "code",
   "execution_count": null,
   "outputs": [],
   "source": [
    "avg_len"
   ],
   "metadata": {
    "collapsed": false
   }
  },
  {
   "cell_type": "code",
   "execution_count": null,
   "outputs": [],
   "source": [
    "F1_approx"
   ],
   "metadata": {
    "collapsed": false
   }
  },
  {
   "cell_type": "code",
   "execution_count": null,
   "outputs": [],
   "source": [
    "def print_nonzero_intervals(nonzero, intervals, prec, X):\n",
    "    # Intervals, prec, X are all in their original scale\n",
    "    n, p = X.shape\n",
    "    S = X.T @ X / n\n",
    "\n",
    "    for i in range(p):\n",
    "            for j in range(i+1,p):\n",
    "                if nonzero[i,j]:\n",
    "                    print(\"(\",i,\",\",j,\")\", \"selected\")\n",
    "                    print(\"Theta\", \"(\",i,\",\",j,\")\", \"interval:\", intervals[i,j,:])\n",
    "                    print(\"Theta\", \"(\",i,\",\",j,\")\", prec[i,j])\n",
    "                    print(\"S/n\", \"(\",i,\",\",j,\")\", S[i,j])\n",
    "print_nonzero_intervals(nonzero, intervals, prec, X)"
   ],
   "metadata": {
    "collapsed": false
   }
  },
  {
   "cell_type": "code",
   "execution_count": null,
   "outputs": [],
   "source": [
    "(np.abs(prec) > 1e-10).sum() / (p**2)"
   ],
   "metadata": {
    "collapsed": false
   }
  },
  {
   "cell_type": "code",
   "execution_count": null,
   "outputs": [],
   "source": [
    "((np.abs(prec) > 1e-10) * nonzero).sum() / nonzero.sum()"
   ],
   "metadata": {
    "collapsed": false
   }
  },
  {
   "cell_type": "code",
   "execution_count": null,
   "outputs": [],
   "source": [
    "nonzero.sum() / (p**2)"
   ],
   "metadata": {
    "collapsed": false
   }
  },
  {
   "cell_type": "code",
   "execution_count": null,
   "outputs": [],
   "source": [],
   "metadata": {
    "collapsed": false
   }
  }
 ],
 "metadata": {
  "kernelspec": {
   "display_name": "Python 3",
   "language": "python",
   "name": "python3"
  },
  "language_info": {
   "codemirror_mode": {
    "name": "ipython",
    "version": 2
   },
   "file_extension": ".py",
   "mimetype": "text/x-python",
   "name": "python",
   "nbconvert_exporter": "python",
   "pygments_lexer": "ipython2",
   "version": "2.7.6"
  }
 },
 "nbformat": 4,
 "nbformat_minor": 0
}
