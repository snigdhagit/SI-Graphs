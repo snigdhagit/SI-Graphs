{
 "cells": [
  {
   "cell_type": "code",
   "execution_count": 6,
   "metadata": {
    "collapsed": true,
    "ExecuteTime": {
     "end_time": "2023-11-05T19:22:13.741715Z",
     "start_time": "2023-11-05T19:22:13.728091Z"
    }
   },
   "outputs": [],
   "source": [
    "import numpy as np\n",
    "import random\n",
    "from scipy.stats import norm\n",
    "from selectinf.nbd_lasso import nbd_lasso\n",
    "from selectinf.Utils.discrete_family import discrete_family\n",
    "from selectinf.Tests.instance import GGM_instance\n",
    "from selectinf.nbd_helpers import is_sym\n",
    "\n",
    "from selectinf.Tests.nbd_naive_and_ds import *"
   ]
  },
  {
   "cell_type": "code",
   "execution_count": 74,
   "outputs": [],
   "source": [
    "n=800\n",
    "p=50\n",
    "prec,cov,X = GGM_instance(n=n, p=p, max_edges=4)"
   ],
   "metadata": {
    "collapsed": false,
    "ExecuteTime": {
     "end_time": "2023-11-05T19:32:41.027707Z",
     "start_time": "2023-11-05T19:32:40.973516Z"
    }
   }
  },
  {
   "cell_type": "code",
   "execution_count": 70,
   "outputs": [
    {
     "name": "stdout",
     "output_type": "stream",
     "text": [
      "[[ 1.008  0.    -0.    ...  0.     0.     0.   ]\n",
      " [ 0.     1.001  0.    ...  0.     0.     0.   ]\n",
      " [-0.    -0.     1.002 ... -0.     0.01   0.   ]\n",
      " ...\n",
      " [ 0.     0.    -0.    ...  1.017  0.     0.   ]\n",
      " [ 0.     0.     0.01  ...  0.     1.016  0.   ]\n",
      " [ 0.     0.     0.    ...  0.     0.     1.   ]]\n"
     ]
    }
   ],
   "source": [
    "np.set_printoptions(precision=3, suppress=True)\n",
    "print(prec)"
   ],
   "metadata": {
    "collapsed": false,
    "ExecuteTime": {
     "end_time": "2023-11-05T19:32:24.675787Z",
     "start_time": "2023-11-05T19:32:24.663210Z"
    }
   }
  },
  {
   "cell_type": "code",
   "execution_count": 71,
   "outputs": [],
   "source": [
    "weights_const=0.5\n",
    "ridge_const=0.5\n",
    "randomizer_scale=1."
   ],
   "metadata": {
    "collapsed": false,
    "ExecuteTime": {
     "end_time": "2023-11-05T19:32:28.670739Z",
     "start_time": "2023-11-05T19:32:28.663814Z"
    }
   }
  },
  {
   "cell_type": "code",
   "execution_count": 49,
   "outputs": [
    {
     "name": "stdout",
     "output_type": "stream",
     "text": [
      "Inference for 0 , 47\n",
      "Inference for 9 , 14\n",
      "Inference for 16 , 47\n",
      "Inference for 17 , 40\n",
      "Inference for 21 , 27\n",
      "Inference for 22 , 34\n",
      "Inference for 23 , 30\n",
      "Inference for 24 , 48\n",
      "Inference for 29 , 37\n",
      "Inference for 48 , 49\n"
     ]
    }
   ],
   "source": [
    "nbd_instance = nbd_lasso.gaussian(X, n_scaled=False, weights_const=weights_const,\n",
    "                                      ridge_terms=ridge_const, randomizer_scale=randomizer_scale)\n",
    "active_signs_random = nbd_instance.fit(logic=\"OR\")\n",
    "nonzero = nbd_instance.nonzero\n",
    "\n",
    "# Construct intervals\n",
    "if nonzero.sum() > 0:\n",
    "    # Intervals returned is in its original (unscaled) order\n",
    "    intervals = nbd_instance.inference(parallel=False)"
   ],
   "metadata": {
    "collapsed": false,
    "ExecuteTime": {
     "end_time": "2023-11-05T19:30:14.058982Z",
     "start_time": "2023-11-05T19:30:03.947435Z"
    }
   }
  },
  {
   "cell_type": "code",
   "execution_count": 93,
   "outputs": [
    {
     "name": "stdout",
     "output_type": "stream",
     "text": [
      "E estimated\n"
     ]
    },
    {
     "data": {
      "text/plain": "0.625"
     },
     "execution_count": 93,
     "metadata": {},
     "output_type": "execute_result"
    }
   ],
   "source": [
    "n=1000\n",
    "p=50\n",
    "prec,cov,X = GGM_instance(n=n, p=p, max_edges=4)\n",
    "nonzero_n, intervals_n, cov_rate_n, avg_len_n = naive_inference(X, prec,\n",
    "                                                                weights_const=weights_const,\n",
    "                                                                true_nonzero=None, logic='OR',\n",
    "                                                                solve_only=False, continued=False)\n",
    "cov_rate_n"
   ],
   "metadata": {
    "collapsed": false,
    "ExecuteTime": {
     "end_time": "2023-11-05T19:34:26.968256Z",
     "start_time": "2023-11-05T19:34:23.504934Z"
    }
   }
  },
  {
   "cell_type": "code",
   "execution_count": 73,
   "outputs": [
    {
     "ename": "AttributeError",
     "evalue": "'NoneType' object has no attribute 'sum'",
     "output_type": "error",
     "traceback": [
      "\u001B[0;31m---------------------------------------------------------------------------\u001B[0m",
      "\u001B[0;31mAttributeError\u001B[0m                            Traceback (most recent call last)",
      "Cell \u001B[0;32mIn[73], line 1\u001B[0m\n\u001B[0;32m----> 1\u001B[0m \u001B[43mnonzero_n\u001B[49m\u001B[38;5;241;43m.\u001B[39;49m\u001B[43msum\u001B[49m()\n",
      "\u001B[0;31mAttributeError\u001B[0m: 'NoneType' object has no attribute 'sum'"
     ]
    }
   ],
   "source": [
    "nonzero_n.sum()"
   ],
   "metadata": {
    "collapsed": false,
    "ExecuteTime": {
     "end_time": "2023-11-05T19:32:34.436875Z",
     "start_time": "2023-11-05T19:32:34.389720Z"
    }
   }
  },
  {
   "cell_type": "code",
   "execution_count": null,
   "outputs": [],
   "source": [
    "coverage = get_coverage(nonzero, intervals, prec, n=n, p=p, scale=False)\n",
    "interval_len = 0\n",
    "nonzero_count = 0  # nonzero_count is essentially upper-triangular\n",
    "for i in range(p):\n",
    "    for j in range(i+1,p):\n",
    "        if nonzero[i,j]:\n",
    "            interval = intervals[i,j,:]\n",
    "            interval_len = interval_len + (interval[1] - interval[0])\n",
    "            nonzero_count = nonzero_count + 1\n",
    "avg_len = interval_len / nonzero_count\n",
    "cov_rate = coverage.sum() / nonzero_count\n",
    "F1_approx = calculate_F1_score_graph(prec, selection=nonzero)"
   ],
   "metadata": {
    "collapsed": false
   }
  },
  {
   "cell_type": "code",
   "execution_count": null,
   "outputs": [],
   "source": [
    "cov_rate"
   ],
   "metadata": {
    "collapsed": false
   }
  },
  {
   "cell_type": "code",
   "execution_count": null,
   "outputs": [],
   "source": [
    "avg_len"
   ],
   "metadata": {
    "collapsed": false
   }
  },
  {
   "cell_type": "code",
   "execution_count": null,
   "outputs": [],
   "source": [
    "F1_approx"
   ],
   "metadata": {
    "collapsed": false
   }
  },
  {
   "cell_type": "code",
   "execution_count": null,
   "outputs": [],
   "source": [
    "def print_nonzero_intervals(nonzero, intervals, prec, X):\n",
    "    # Intervals, prec, X are all in their original scale\n",
    "    n, p = X.shape\n",
    "    S = X.T @ X / n\n",
    "\n",
    "    for i in range(p):\n",
    "            for j in range(i+1,p):\n",
    "                if nonzero[i,j]:\n",
    "                    print(\"(\",i,\",\",j,\")\", \"selected\")\n",
    "                    print(\"Theta\", \"(\",i,\",\",j,\")\", \"interval:\", intervals[i,j,:])\n",
    "                    print(\"Theta\", \"(\",i,\",\",j,\")\", prec[i,j])\n",
    "                    print(\"S/n\", \"(\",i,\",\",j,\")\", S[i,j])\n",
    "print_nonzero_intervals(nonzero, intervals, prec, X)"
   ],
   "metadata": {
    "collapsed": false
   }
  },
  {
   "cell_type": "code",
   "execution_count": null,
   "outputs": [],
   "source": [
    "(np.abs(prec) > 1e-10).sum() / (p**2)"
   ],
   "metadata": {
    "collapsed": false
   }
  },
  {
   "cell_type": "code",
   "execution_count": null,
   "outputs": [],
   "source": [
    "((np.abs(prec) > 1e-10) * nonzero).sum() / nonzero.sum()"
   ],
   "metadata": {
    "collapsed": false
   }
  },
  {
   "cell_type": "code",
   "execution_count": null,
   "outputs": [],
   "source": [
    "nonzero.sum() / (p**2)"
   ],
   "metadata": {
    "collapsed": false
   }
  },
  {
   "cell_type": "markdown",
   "source": [
    "## Random Edges Instance"
   ],
   "metadata": {
    "collapsed": false
   }
  },
  {
   "cell_type": "code",
   "execution_count": null,
   "outputs": [],
   "source": [
    "def is_invertible(a):\n",
    "    return a.shape[0] == a.shape[1] and np.linalg.matrix_rank(a) == a.shape[0]"
   ],
   "metadata": {
    "collapsed": false
   }
  },
  {
   "cell_type": "code",
   "execution_count": null,
   "outputs": [],
   "source": [
    "def GGM_random_instances(n=200, p=50, theta=-0.2):\n",
    "\n",
    "    # Guarantee same sparsity level as in Friedman et al.:\n",
    "    # https://www.asc.ohio-state.edu/statistics/statgen/joul_aut2015/2010-Friedman-Hastie-Tibshirani.pdf\n",
    "    prob = 0.4 / (np.abs(theta)*p)\n",
    "\n",
    "    invertible = False\n",
    "\n",
    "    # Generate invertible precision\n",
    "    while not invertible:\n",
    "        prec = np.eye(p)\n",
    "\n",
    "        # Randomly selecting edges\n",
    "        for i in range(p):\n",
    "            for j in range(i + 1, p):\n",
    "                prec[i, j] = theta * np.random.binomial(n=1, p=prob)\n",
    "\n",
    "        # symmetrize\n",
    "        prec = prec + prec.T - np.eye(p)\n",
    "\n",
    "        invertible = is_invertible(prec)\n",
    "\n",
    "    cov = np.linalg.inv(prec)\n",
    "    # standardize the covariance\n",
    "    cov = cov / np.outer(np.sqrt(np.diag(cov)), np.sqrt(np.diag(cov)))\n",
    "    prec = np.linalg.inv(cov)\n",
    "\n",
    "    X = np.random.multivariate_normal(mean=np.zeros(p),\n",
    "                                      cov=cov, size=n)\n",
    "\n",
    "    return prec, cov, X"
   ],
   "metadata": {
    "collapsed": false
   }
  },
  {
   "cell_type": "code",
   "execution_count": null,
   "outputs": [],
   "source": [
    "n=1000\n",
    "p=50\n",
    "prec,cov,X = GGM_random_instances(n=n, p=p, theta=-0.2)"
   ],
   "metadata": {
    "collapsed": false
   }
  },
  {
   "cell_type": "code",
   "execution_count": null,
   "outputs": [],
   "source": [
    "weights_const=1.\n",
    "ridge_const=1.\n",
    "randomizer_scale=2#np.sqrt(np.sqrt(p))\n",
    "print(randomizer_scale)\n",
    "\n",
    "nbd_instance = nbd_lasso.gaussian(X, n_scaled=False, weights_const=weights_const,\n",
    "                                      ridge_terms=ridge_const, randomizer_scale=randomizer_scale)\n",
    "active_signs_random = nbd_instance.fit()\n",
    "nonzero = nbd_instance.nonzero\n",
    "\n",
    "# Construct intervals\n",
    "if nonzero.sum() > 0:\n",
    "    # Intervals returned is in its original (unscaled) order\n",
    "    intervals = nbd_instance.inference(parallel=False)"
   ],
   "metadata": {
    "collapsed": false
   }
  },
  {
   "cell_type": "code",
   "execution_count": null,
   "outputs": [],
   "source": [
    "coverage = get_coverage(nonzero, intervals, prec, n=n, p=p, scale=False)\n",
    "interval_len = 0\n",
    "nonzero_count = 0  # nonzero_count is essentially upper-triangular\n",
    "for i in range(p):\n",
    "    for j in range(i+1,p):\n",
    "        if nonzero[i,j]:\n",
    "            interval = intervals[i,j,:]\n",
    "            interval_len = interval_len + (interval[1] - interval[0])\n",
    "            nonzero_count = nonzero_count + 1\n",
    "avg_len = interval_len / nonzero_count\n",
    "cov_rate = coverage.sum() / nonzero_count\n",
    "F1_approx = calculate_F1_score_graph(prec, selection=nonzero)"
   ],
   "metadata": {
    "collapsed": false
   }
  },
  {
   "cell_type": "code",
   "execution_count": null,
   "outputs": [],
   "source": [
    "cov_rate"
   ],
   "metadata": {
    "collapsed": false
   }
  },
  {
   "cell_type": "code",
   "execution_count": null,
   "outputs": [],
   "source": [
    "avg_len"
   ],
   "metadata": {
    "collapsed": false
   }
  },
  {
   "cell_type": "code",
   "execution_count": null,
   "outputs": [],
   "source": [
    "F1_approx"
   ],
   "metadata": {
    "collapsed": false
   }
  },
  {
   "cell_type": "code",
   "execution_count": null,
   "outputs": [],
   "source": [
    "(np.abs(prec) > 1e-10).sum() / (p**2)"
   ],
   "metadata": {
    "collapsed": false
   }
  },
  {
   "cell_type": "code",
   "execution_count": null,
   "outputs": [],
   "source": [
    "((np.abs(prec) > 1e-10) * nonzero).sum() / nonzero.sum()"
   ],
   "metadata": {
    "collapsed": false
   }
  },
  {
   "cell_type": "code",
   "execution_count": null,
   "outputs": [],
   "source": [
    "nonzero.sum() / (p**2)"
   ],
   "metadata": {
    "collapsed": false
   }
  },
  {
   "cell_type": "code",
   "execution_count": null,
   "outputs": [],
   "source": [
    "def print_nonzero_intervals(nonzero, intervals, prec, X):\n",
    "    # Intervals, prec, X are all in their original scale\n",
    "    n, p = X.shape\n",
    "    S = X.T @ X / n\n",
    "\n",
    "    for i in range(p):\n",
    "            for j in range(i+1,p):\n",
    "                if nonzero[i,j]:\n",
    "                    print(\"(\",i,\",\",j,\")\", \"selected\")\n",
    "                    print(\"Theta\", \"(\",i,\",\",j,\")\", \"interval:\", intervals[i,j,:])\n",
    "                    print(\"Theta\", \"(\",i,\",\",j,\")\", prec[i,j])\n",
    "                    print(\"S/n\", \"(\",i,\",\",j,\")\", S[i,j])\n",
    "print_nonzero_intervals(nonzero, intervals, prec, X)"
   ],
   "metadata": {
    "collapsed": false
   }
  },
  {
   "cell_type": "code",
   "execution_count": null,
   "outputs": [],
   "source": [
    "sum(sum(np.abs(prec) > 1e-10))/2"
   ],
   "metadata": {
    "collapsed": false
   }
  },
  {
   "cell_type": "code",
   "execution_count": null,
   "outputs": [],
   "source": [
    "nonzero_count"
   ],
   "metadata": {
    "collapsed": false
   }
  },
  {
   "cell_type": "markdown",
   "source": [
    "## Hub Instance"
   ],
   "metadata": {
    "collapsed": false
   }
  },
  {
   "cell_type": "code",
   "execution_count": null,
   "outputs": [],
   "source": [
    "def GGM_hub_instances(n=200, p=50, K=10, theta=-0.175):\n",
    "    group_size = int(p / K)\n",
    "\n",
    "    invertible = False\n",
    "    while not invertible:\n",
    "        prec = np.eye(p)\n",
    "        for k in range(K):\n",
    "            group_k = range(k * group_size, (k + 1) * group_size)\n",
    "            hub = random.sample(list(group_k), 1)[0]\n",
    "            for i in group_k:\n",
    "                # fix column at hub, iterate over all rows in the group\n",
    "                if i != hub:\n",
    "                    prec[i, hub] = theta\n",
    "\n",
    "        # symmetrize\n",
    "        prec = prec + prec.T - np.eye(p)\n",
    "\n",
    "        invertible = is_invertible(prec)\n",
    "\n",
    "    cov = np.linalg.inv(prec)\n",
    "    # standardize the covariance\n",
    "    cov = cov / np.outer(np.sqrt(np.diag(cov)), np.sqrt(np.diag(cov)))\n",
    "    prec = np.linalg.inv(cov)\n",
    "\n",
    "    X = np.random.multivariate_normal(mean=np.zeros(p),\n",
    "                                      cov=cov, size=n)\n",
    "\n",
    "    return prec, cov, X"
   ],
   "metadata": {
    "collapsed": false
   }
  },
  {
   "cell_type": "code",
   "execution_count": null,
   "outputs": [],
   "source": [
    "n=1000\n",
    "p=50\n",
    "prec, cov, X = GGM_hub_instances(n=n, p=p, K=int(p/5), theta=-0.2)"
   ],
   "metadata": {
    "collapsed": false
   }
  },
  {
   "cell_type": "code",
   "execution_count": null,
   "outputs": [],
   "source": [
    "weights_const=1\n",
    "ridge_const=1.\n",
    "randomizer_scale=2\n",
    "\n",
    "nbd_instance = nbd_lasso.gaussian(X, n_scaled=False, weights_const=weights_const,\n",
    "                                      ridge_terms=ridge_const, randomizer_scale=randomizer_scale)\n",
    "active_signs_random = nbd_instance.fit()\n",
    "nonzero = nbd_instance.nonzero\n",
    "\n",
    "# Construct intervals\n",
    "if nonzero.sum() > 0:\n",
    "    # Intervals returned is in its original (unscaled) order\n",
    "    intervals = nbd_instance.inference(parallel=False)"
   ],
   "metadata": {
    "collapsed": false
   }
  },
  {
   "cell_type": "code",
   "execution_count": null,
   "outputs": [],
   "source": [
    "coverage = get_coverage(nonzero, intervals, prec, n=n, p=p, scale=False)\n",
    "interval_len = 0\n",
    "nonzero_count = 0  # nonzero_count is essentially upper-triangular\n",
    "for i in range(p):\n",
    "    for j in range(i+1,p):\n",
    "        if nonzero[i,j]:\n",
    "            interval = intervals[i,j,:]\n",
    "            interval_len = interval_len + (interval[1] - interval[0])\n",
    "            nonzero_count = nonzero_count + 1\n",
    "avg_len = interval_len / nonzero_count\n",
    "cov_rate = coverage.sum() / nonzero_count\n",
    "F1_approx = calculate_F1_score_graph(prec, selection=nonzero)"
   ],
   "metadata": {
    "collapsed": false
   }
  },
  {
   "cell_type": "code",
   "execution_count": null,
   "outputs": [],
   "source": [
    "cov_rate"
   ],
   "metadata": {
    "collapsed": false
   }
  },
  {
   "cell_type": "code",
   "execution_count": null,
   "outputs": [],
   "source": [
    "avg_len"
   ],
   "metadata": {
    "collapsed": false
   }
  },
  {
   "cell_type": "code",
   "execution_count": null,
   "outputs": [],
   "source": [
    "F1_approx"
   ],
   "metadata": {
    "collapsed": false
   }
  },
  {
   "cell_type": "code",
   "execution_count": null,
   "outputs": [],
   "source": [
    "def print_nonzero_intervals(nonzero, intervals, prec, X):\n",
    "    # Intervals, prec, X are all in their original scale\n",
    "    n, p = X.shape\n",
    "    S = X.T @ X / n\n",
    "\n",
    "    for i in range(p):\n",
    "            for j in range(i+1,p):\n",
    "                if nonzero[i,j]:\n",
    "                    print(\"(\",i,\",\",j,\")\", \"selected\")\n",
    "                    print(\"Theta\", \"(\",i,\",\",j,\")\", \"interval:\", intervals[i,j,:])\n",
    "                    print(\"Theta\", \"(\",i,\",\",j,\")\", prec[i,j])\n",
    "                    print(\"S/n\", \"(\",i,\",\",j,\")\", S[i,j])\n",
    "print_nonzero_intervals(nonzero, intervals, prec, X)"
   ],
   "metadata": {
    "collapsed": false
   }
  },
  {
   "cell_type": "code",
   "execution_count": null,
   "outputs": [],
   "source": [
    "(np.abs(prec) > 1e-10).sum() / (p**2)"
   ],
   "metadata": {
    "collapsed": false
   }
  },
  {
   "cell_type": "code",
   "execution_count": null,
   "outputs": [],
   "source": [
    "((np.abs(prec) > 1e-10) * nonzero).sum() / nonzero.sum()"
   ],
   "metadata": {
    "collapsed": false
   }
  },
  {
   "cell_type": "code",
   "execution_count": null,
   "outputs": [],
   "source": [
    "nonzero.sum() / (p**2)"
   ],
   "metadata": {
    "collapsed": false
   }
  },
  {
   "cell_type": "markdown",
   "source": [
    "## Clique Instance"
   ],
   "metadata": {
    "collapsed": false
   }
  },
  {
   "cell_type": "code",
   "execution_count": null,
   "outputs": [],
   "source": [
    "def GGM_clique_instances(n=200, p=400, K=20, group_size=7, theta=-0.175):\n",
    "    # Partition [p] into p/K (big_group_size) disjoint sets,\n",
    "    # then choose a fixed-size subset of each disjoint set\n",
    "\n",
    "    assert K * group_size < p\n",
    "    big_group_size = int(p/K)\n",
    "\n",
    "    invertible = False\n",
    "    while not invertible:\n",
    "        prec = np.eye(p)\n",
    "        for k in range(K):\n",
    "            group_k = range(k * big_group_size, (k + 1) * big_group_size)\n",
    "            variables_k = np.random.choice(group_k,\n",
    "                                           size=group_size, replace=False)\n",
    "            for i in variables_k:\n",
    "                for j in variables_k:\n",
    "                    # Set theta_ij = theta\n",
    "                    if i != j:\n",
    "                        prec[i, j] = theta\n",
    "\n",
    "        invertible = is_invertible(prec)\n",
    "\n",
    "    cov = np.linalg.inv(prec)\n",
    "    # standardize the covariance\n",
    "    cov = cov / np.outer(np.sqrt(np.diag(cov)), np.sqrt(np.diag(cov)))\n",
    "    prec = np.linalg.inv(cov)\n",
    "\n",
    "    X = np.random.multivariate_normal(mean=np.zeros(p),\n",
    "                                      cov=cov, size=n)\n",
    "\n",
    "    return prec, cov, X"
   ],
   "metadata": {
    "collapsed": false
   }
  },
  {
   "cell_type": "code",
   "execution_count": null,
   "outputs": [],
   "source": [
    "prec, cov, X = GGM_clique_instances(n=1000, p=50, K=10, group_size=4, theta=-0.2)"
   ],
   "metadata": {
    "collapsed": false
   }
  },
  {
   "cell_type": "code",
   "execution_count": null,
   "outputs": [],
   "source": [
    "weights_const=1.\n",
    "ridge_const=1.\n",
    "randomizer_scale=2.\n",
    "\n",
    "nbd_instance = nbd_lasso.gaussian(X, n_scaled=False, weights_const=weights_const,\n",
    "                                      ridge_terms=ridge_const, randomizer_scale=randomizer_scale)\n",
    "active_signs_random = nbd_instance.fit()\n",
    "nonzero = nbd_instance.nonzero\n",
    "\n",
    "# Construct intervals\n",
    "if nonzero.sum() > 0:\n",
    "    # Intervals returned is in its original (unscaled) order\n",
    "    intervals = nbd_instance.inference(parallel=False)"
   ],
   "metadata": {
    "collapsed": false
   }
  },
  {
   "cell_type": "code",
   "execution_count": null,
   "outputs": [],
   "source": [
    "n=1000\n",
    "p=50\n",
    "coverage = get_coverage(nonzero, intervals, prec, n=3000, p=50, scale=False)\n",
    "interval_len = 0\n",
    "nonzero_count = 0  # nonzero_count is essentially upper-triangular\n",
    "for i in range(p):\n",
    "    for j in range(i+1,p):\n",
    "        if nonzero[i,j]:\n",
    "            interval = intervals[i,j,:]\n",
    "            interval_len = interval_len + (interval[1] - interval[0])\n",
    "            nonzero_count = nonzero_count + 1\n",
    "avg_len = interval_len / nonzero_count\n",
    "cov_rate = coverage.sum() / nonzero_count\n",
    "F1_approx = calculate_F1_score_graph(prec, selection=nonzero)"
   ],
   "metadata": {
    "collapsed": false
   }
  },
  {
   "cell_type": "code",
   "execution_count": null,
   "outputs": [],
   "source": [
    "cov_rate"
   ],
   "metadata": {
    "collapsed": false
   }
  },
  {
   "cell_type": "code",
   "execution_count": null,
   "outputs": [],
   "source": [
    "avg_len"
   ],
   "metadata": {
    "collapsed": false
   }
  },
  {
   "cell_type": "code",
   "execution_count": null,
   "outputs": [],
   "source": [
    "F1_approx"
   ],
   "metadata": {
    "collapsed": false
   }
  },
  {
   "cell_type": "code",
   "execution_count": null,
   "outputs": [],
   "source": [
    "def print_nonzero_intervals(nonzero, intervals, prec, X):\n",
    "    # Intervals, prec, X are all in their original scale\n",
    "    n, p = X.shape\n",
    "    S = X.T @ X / n\n",
    "\n",
    "    for i in range(p):\n",
    "            for j in range(i+1,p):\n",
    "                if nonzero[i,j]:\n",
    "                    print(\"(\",i,\",\",j,\")\", \"selected\")\n",
    "                    print(\"Theta\", \"(\",i,\",\",j,\")\", \"interval:\", intervals[i,j,:])\n",
    "                    print(\"Theta\", \"(\",i,\",\",j,\")\", prec[i,j])\n",
    "                    print(\"S/n\", \"(\",i,\",\",j,\")\", S[i,j])\n",
    "print_nonzero_intervals(nonzero, intervals, prec, X)"
   ],
   "metadata": {
    "collapsed": false
   }
  },
  {
   "cell_type": "code",
   "execution_count": null,
   "outputs": [],
   "source": [
    "(np.abs(prec) > 1e-10).sum() / (p**2)"
   ],
   "metadata": {
    "collapsed": false
   }
  },
  {
   "cell_type": "code",
   "execution_count": null,
   "outputs": [],
   "source": [
    "((np.abs(prec) > 1e-10) * nonzero).sum() / nonzero.sum()"
   ],
   "metadata": {
    "collapsed": false
   }
  },
  {
   "cell_type": "code",
   "execution_count": null,
   "outputs": [],
   "source": [
    "nonzero.sum() / (p**2)"
   ],
   "metadata": {
    "collapsed": false
   }
  },
  {
   "cell_type": "code",
   "execution_count": null,
   "outputs": [],
   "source": [],
   "metadata": {
    "collapsed": false
   }
  }
 ],
 "metadata": {
  "kernelspec": {
   "display_name": "Python 3",
   "language": "python",
   "name": "python3"
  },
  "language_info": {
   "codemirror_mode": {
    "name": "ipython",
    "version": 2
   },
   "file_extension": ".py",
   "mimetype": "text/x-python",
   "name": "python",
   "nbconvert_exporter": "python",
   "pygments_lexer": "ipython2",
   "version": "2.7.6"
  }
 },
 "nbformat": 4,
 "nbformat_minor": 0
}
