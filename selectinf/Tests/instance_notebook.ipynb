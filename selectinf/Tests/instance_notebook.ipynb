{
 "cells": [
  {
   "cell_type": "code",
   "execution_count": 2,
   "metadata": {
    "collapsed": true
   },
   "outputs": [],
   "source": [
    "import numpy as np\n",
    "import random\n",
    "from scipy.stats import norm"
   ]
  },
  {
   "cell_type": "code",
   "execution_count": 3,
   "outputs": [],
   "source": [
    "def GGM_instance(n=100, p=100, max_edges=10):\n",
    "    def generate_vertices(p):\n",
    "        vertices = np.random.uniform(size=(p,2))\n",
    "        return vertices\n",
    "    def connecting_prob(v1,v2,p):\n",
    "        # Euclidean distance of v1, v2\n",
    "        d = np.linalg.norm(v1-v2)\n",
    "        # calculating connecting probability\n",
    "        prob = norm.pdf(d/np.sqrt(p))\n",
    "        return prob\n",
    "    def remove_edges(p, adj, max_edges):\n",
    "        idx = list(range(p))\n",
    "        np.random.shuffle(idx)\n",
    "\n",
    "        for i in idx:\n",
    "            if np.all(np.sum(adj, axis=1) <= (max_edges+1)):\n",
    "                break\n",
    "            # Indices of nodes connected to v_i\n",
    "            nonzero_i = list(np.nonzero(adj[i])[0])\n",
    "            n_edges = len(nonzero_i)\n",
    "\n",
    "            # Delete some edges if there are redundancies\n",
    "            if n_edges > (max_edges+1):\n",
    "                nonzero_i.remove(i)\n",
    "                removed_idx_i = random.sample(nonzero_i,n_edges-max_edges)\n",
    "                # Remove other edges\n",
    "                adj[i,removed_idx_i] = 0\n",
    "                adj[removed_idx_i,i] = 0\n",
    "\n",
    "        return adj\n",
    "\n",
    "    vertices = generate_vertices(p)\n",
    "\n",
    "    adj_mat = np.eye(p)\n",
    "\n",
    "    for i in range(p):\n",
    "        for j in range(i+1,p):\n",
    "            v_i = vertices[i]\n",
    "            v_j = vertices[j]\n",
    "            adj_mat[i,j] = np.random.binomial(n=1,\n",
    "                                              p=connecting_prob(v1=v_i,\n",
    "                                                                v2=v_j,\n",
    "                                                                p=p))\n",
    "\n",
    "    # symmetrize\n",
    "    adj_mat = adj_mat + adj_mat.T - np.eye(p)\n",
    "\n",
    "    # remove redundant edges\n",
    "    adj_mat = remove_edges(p, adj_mat, max_edges)\n",
    "\n",
    "    # maximal off-diag value to guarantee diagonal dominance\n",
    "    max_off_diag = 1/max_edges\n",
    "    max_off_diag = max_off_diag*0.9\n",
    "\n",
    "    # generate a PD precision\n",
    "    precision = np.random.uniform(low=-max_off_diag,high=max_off_diag,\n",
    "                                  size=(p,p))\n",
    "    # symmetrize precision\n",
    "    precision = np.tril(precision)\n",
    "    precision = precision + precision.T\n",
    "    # sparsify precision based on adjacency matrix\n",
    "    precision = precision * adj_mat\n",
    "    np.fill_diagonal(precision, 1)\n",
    "    cov = np.linalg.inv(precision)\n",
    "\n",
    "    # standardize the covariance\n",
    "    cov = cov/np.outer(np.sqrt(np.diag(cov)), np.sqrt(np.diag(cov)))\n",
    "    precision = np.linalg.inv(cov)\n",
    "\n",
    "    X = np.random.multivariate_normal(mean=np.zeros(p),\n",
    "                                      cov=cov, size=n)\n",
    "\n",
    "    return precision, cov, X"
   ],
   "metadata": {
    "collapsed": false
   }
  },
  {
   "cell_type": "code",
   "execution_count": 4,
   "outputs": [],
   "source": [
    "prec,cov,X = GGM_instance(p=10, max_edges=3)"
   ],
   "metadata": {
    "collapsed": false
   }
  },
  {
   "cell_type": "code",
   "execution_count": 8,
   "outputs": [
    {
     "name": "stdout",
     "output_type": "stream",
     "text": [
      "[[ 1.      0.0004 -0.0001  0.0003 -0.008   0.1313  0.0265 -0.0054  0.002\n",
      "   0.0168]\n",
      " [ 0.0004  1.      0.0006 -0.0035  0.0465 -0.0059  0.1533  0.0676 -0.0227\n",
      "  -0.2103]\n",
      " [-0.0001  0.0006  1.     -0.1688  0.0012 -0.0002  0.0004  0.0081 -0.0261\n",
      "  -0.0026]\n",
      " [ 0.0003 -0.0035 -0.1688  1.     -0.007   0.0009 -0.0025 -0.0477  0.1548\n",
      "   0.0153]\n",
      " [-0.008   0.0465  0.0012 -0.007   1.     -0.1296  0.298   0.0168 -0.0453\n",
      "  -0.0141]\n",
      " [ 0.1313 -0.0059 -0.0002  0.0009 -0.1296  1.     -0.0349 -0.0029  0.0061\n",
      "   0.004 ]\n",
      " [ 0.0265  0.1533  0.0004 -0.0025  0.298  -0.0349  1.      0.0142 -0.0163\n",
      "  -0.033 ]\n",
      " [-0.0054  0.0676  0.0081 -0.0477  0.0168 -0.0029  0.0142  1.     -0.3084\n",
      "  -0.319 ]\n",
      " [ 0.002  -0.0227 -0.0261  0.1548 -0.0453  0.0061 -0.0163 -0.3084  1.\n",
      "   0.0987]\n",
      " [ 0.0168 -0.2103 -0.0026  0.0153 -0.0141  0.004  -0.033  -0.319   0.0987\n",
      "   1.    ]]\n"
     ]
    }
   ],
   "source": [
    "np.set_printoptions(precision=4, suppress=True)\n",
    "print(cov)"
   ],
   "metadata": {
    "collapsed": false
   }
  },
  {
   "cell_type": "code",
   "execution_count": 9,
   "outputs": [
    {
     "name": "stdout",
     "output_type": "stream",
     "text": [
      "[[ 1.0189 -0.     -0.     -0.     -0.     -0.1349 -0.0323  0.      0.\n",
      "  -0.0176]\n",
      " [ 0.      1.0703 -0.     -0.     -0.     -0.     -0.1568 -0.      0.\n",
      "   0.2199]\n",
      " [ 0.      0.      1.0293  0.1738  0.      0.     -0.      0.      0.\n",
      "  -0.    ]\n",
      " [ 0.     -0.      0.1738  1.0539  0.      0.     -0.     -0.     -0.1586\n",
      "  -0.    ]\n",
      " [-0.     -0.      0.      0.      1.1168  0.1331 -0.3275 -0.      0.0445\n",
      "  -0.    ]\n",
      " [-0.1349 -0.      0.      0.      0.1331  1.035   0.     -0.     -0.\n",
      "  -0.    ]\n",
      " [-0.0323 -0.1568  0.     -0.     -0.3275  0.      1.1225  0.      0.\n",
      "   0.    ]\n",
      " [ 0.      0.      0.     -0.      0.     -0.      0.      1.2182  0.3406\n",
      "   0.3549]\n",
      " [-0.      0.     -0.     -0.1586  0.0445 -0.      0.      0.3406  1.1316\n",
      "   0.    ]\n",
      " [-0.0176  0.2199  0.     -0.      0.     -0.      0.      0.3549  0.\n",
      "   1.1598]]\n"
     ]
    }
   ],
   "source": [
    "print(prec)"
   ],
   "metadata": {
    "collapsed": false
   }
  },
  {
   "cell_type": "code",
   "execution_count": null,
   "outputs": [],
   "source": [],
   "metadata": {
    "collapsed": false
   }
  }
 ],
 "metadata": {
  "kernelspec": {
   "display_name": "Python 3",
   "language": "python",
   "name": "python3"
  },
  "language_info": {
   "codemirror_mode": {
    "name": "ipython",
    "version": 2
   },
   "file_extension": ".py",
   "mimetype": "text/x-python",
   "name": "python",
   "nbconvert_exporter": "python",
   "pygments_lexer": "ipython2",
   "version": "2.7.6"
  }
 },
 "nbformat": 4,
 "nbformat_minor": 0
}
