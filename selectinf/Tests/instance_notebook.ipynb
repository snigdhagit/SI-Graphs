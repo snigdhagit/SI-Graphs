{
 "cells": [
  {
   "cell_type": "code",
   "execution_count": 1,
   "metadata": {
    "collapsed": true
   },
   "outputs": [],
   "source": [
    "import numpy as np\n",
    "import random\n",
    "from scipy.stats import norm\n",
    "from selectinf.nbd_lasso import nbd_lasso\n",
    "from selectinf.Utils.discrete_family import discrete_family\n",
    "from selectinf.Tests.instance import GGM_instance\n",
    "from selectinf.nbd_helpers import is_sym\n",
    "\n",
    "from selectinf.Tests.nbd_naive_and_ds import *"
   ]
  },
  {
   "cell_type": "code",
   "execution_count": 256,
   "outputs": [],
   "source": [
    "def GGM_instance(n=100, p=100, max_edges=10):\n",
    "    def generate_vertices(p):\n",
    "        vertices = np.random.uniform(size=(p,2))\n",
    "        return vertices\n",
    "    def connecting_prob(v1,v2,p):\n",
    "        # Euclidean distance of v1, v2\n",
    "        d = np.linalg.norm(v1-v2)\n",
    "        # calculating connecting probability\n",
    "        prob = norm.pdf(d/np.sqrt(p))\n",
    "        return prob\n",
    "    def remove_edges(p, adj, max_edges):\n",
    "        idx = list(range(p))\n",
    "        np.random.shuffle(idx)\n",
    "\n",
    "        for i in idx:\n",
    "            if np.all(np.sum(adj, axis=1) <= (max_edges+1)):\n",
    "                break\n",
    "            # Indices of nodes connected to v_i\n",
    "            nonzero_i = list(np.nonzero(adj[i])[0])\n",
    "            n_edges = len(nonzero_i)\n",
    "\n",
    "            # Delete some edges if there are redundancies\n",
    "            if n_edges > (max_edges+1):\n",
    "                nonzero_i.remove(i)\n",
    "                removed_idx_i = random.sample(nonzero_i,n_edges-max_edges)\n",
    "                # Remove other edges\n",
    "                adj[i,removed_idx_i] = 0\n",
    "                adj[removed_idx_i,i] = 0\n",
    "\n",
    "        return adj\n",
    "\n",
    "    vertices = generate_vertices(p)\n",
    "\n",
    "    adj_mat = np.eye(p)\n",
    "\n",
    "    for i in range(p):\n",
    "        for j in range(i+1,p):\n",
    "            v_i = vertices[i]\n",
    "            v_j = vertices[j]\n",
    "            adj_mat[i,j] = np.random.binomial(n=1,\n",
    "                                              p=connecting_prob(v1=v_i,\n",
    "                                                                v2=v_j,\n",
    "                                                                p=p))\n",
    "\n",
    "    # symmetrize\n",
    "    adj_mat = adj_mat + adj_mat.T - np.eye(p)\n",
    "\n",
    "    # remove redundant edges\n",
    "    adj_mat = remove_edges(p, adj_mat, max_edges)\n",
    "\n",
    "    # maximal off-diag value to guarantee diagonal dominance\n",
    "    max_off_diag = 1/max_edges\n",
    "    max_off_diag = max_off_diag*0.9\n",
    "\n",
    "    # generate a PD precision\n",
    "    precision = np.random.uniform(low=-max_off_diag,high=max_off_diag,\n",
    "                                  size=(p,p))\n",
    "    # symmetrize precision\n",
    "    precision = np.tril(precision)\n",
    "    precision = precision + precision.T\n",
    "    # sparsify precision based on adjacency matrix\n",
    "    precision = precision * adj_mat\n",
    "    np.fill_diagonal(precision, 1)\n",
    "    cov = np.linalg.inv(precision)\n",
    "\n",
    "    # standardize the covariance\n",
    "    cov = cov/np.outer(np.sqrt(np.diag(cov)), np.sqrt(np.diag(cov)))\n",
    "    precision = np.linalg.inv(cov)\n",
    "\n",
    "    X = np.random.multivariate_normal(mean=np.zeros(p),\n",
    "                                      cov=cov, size=n)\n",
    "\n",
    "    return precision, cov, X"
   ],
   "metadata": {
    "collapsed": false
   }
  },
  {
   "cell_type": "code",
   "execution_count": 259,
   "outputs": [],
   "source": [
    "prec,cov,X = GGM_instance(n=3000, p=50, max_edges=3)"
   ],
   "metadata": {
    "collapsed": false
   }
  },
  {
   "cell_type": "code",
   "execution_count": 260,
   "outputs": [
    {
     "name": "stdout",
     "output_type": "stream",
     "text": [
      "Inference for 2 , 49\n",
      "Inference for 3 , 13\n",
      "Inference for 6 , 40\n",
      "Inference for 7 , 13\n",
      "Inference for 8 , 40\n",
      "Inference for 9 , 19\n",
      "Inference for 10 , 47\n",
      "Inference for 11 , 12\n",
      "Inference for 12 , 22\n",
      "Inference for 12 , 28\n",
      "Inference for 15 , 37\n",
      "Inference for 15 , 45\n",
      "Inference for 18 , 27\n",
      "Inference for 18 , 28\n",
      "Inference for 24 , 31\n",
      "Inference for 24 , 42\n",
      "Inference for 25 , 45\n",
      "Inference for 31 , 47\n",
      "Inference for 32 , 37\n",
      "Inference for 34 , 39\n",
      "Inference for 35 , 47\n",
      "Inference for 37 , 44\n"
     ]
    }
   ],
   "source": [
    "weights_const=1.75\n",
    "ridge_const=1.\n",
    "randomizer_scale=5.\n",
    "\n",
    "nbd_instance = nbd_lasso.gaussian(X, n_scaled=False, weights_const=weights_const,\n",
    "                                      ridge_terms=ridge_const, randomizer_scale=randomizer_scale)\n",
    "active_signs_random = nbd_instance.fit()\n",
    "nonzero = nbd_instance.nonzero\n",
    "\n",
    "# Construct intervals\n",
    "if nonzero.sum() > 0:\n",
    "    # Intervals returned is in its original (unscaled) order\n",
    "    intervals = nbd_instance.inference(parallel=False)"
   ],
   "metadata": {
    "collapsed": false
   }
  },
  {
   "cell_type": "code",
   "execution_count": 261,
   "outputs": [],
   "source": [
    "n=3000\n",
    "p=50\n",
    "coverage = get_coverage(nonzero, intervals, prec, n=3000, p=50, scale=False)\n",
    "interval_len = 0\n",
    "nonzero_count = 0  # nonzero_count is essentially upper-triangular\n",
    "for i in range(p):\n",
    "    for j in range(i+1,p):\n",
    "        if nonzero[i,j]:\n",
    "            interval = intervals[i,j,:]\n",
    "            interval_len = interval_len + (interval[1] - interval[0])\n",
    "            nonzero_count = nonzero_count + 1\n",
    "avg_len = interval_len / nonzero_count\n",
    "cov_rate = coverage.sum() / nonzero_count\n",
    "F1_approx = calculate_F1_score_graph(prec, selection=nonzero)"
   ],
   "metadata": {
    "collapsed": false
   }
  },
  {
   "cell_type": "code",
   "execution_count": 262,
   "outputs": [
    {
     "data": {
      "text/plain": "0.8636363636363636"
     },
     "execution_count": 262,
     "metadata": {},
     "output_type": "execute_result"
    }
   ],
   "source": [
    "cov_rate"
   ],
   "metadata": {
    "collapsed": false
   }
  },
  {
   "cell_type": "code",
   "execution_count": 263,
   "outputs": [
    {
     "data": {
      "text/plain": "0.06587257265832323"
     },
     "execution_count": 263,
     "metadata": {},
     "output_type": "execute_result"
    }
   ],
   "source": [
    "avg_len"
   ],
   "metadata": {
    "collapsed": false
   }
  },
  {
   "cell_type": "code",
   "execution_count": 264,
   "outputs": [
    {
     "data": {
      "text/plain": "0.21390374331550804"
     },
     "execution_count": 264,
     "metadata": {},
     "output_type": "execute_result"
    }
   ],
   "source": [
    "F1_approx"
   ],
   "metadata": {
    "collapsed": false
   }
  },
  {
   "cell_type": "code",
   "execution_count": 220,
   "outputs": [
    {
     "data": {
      "text/plain": "array([0., 0.])"
     },
     "execution_count": 220,
     "metadata": {},
     "output_type": "execute_result"
    }
   ],
   "source": [
    "intervals[29,42,:]"
   ],
   "metadata": {
    "collapsed": false
   }
  },
  {
   "cell_type": "code",
   "execution_count": 15,
   "outputs": [
    {
     "data": {
      "text/plain": "-1.1994980566305345e-19"
     },
     "execution_count": 15,
     "metadata": {},
     "output_type": "execute_result"
    }
   ],
   "source": [
    "prec[29,42]"
   ],
   "metadata": {
    "collapsed": false
   }
  },
  {
   "cell_type": "code",
   "execution_count": 78,
   "outputs": [
    {
     "name": "stdout",
     "output_type": "stream",
     "text": [
      "( 0 , 40 ) selected\n",
      "Theta ( 0 , 40 ) interval: [-0.27950555 -0.19836488]\n",
      "Theta ( 0 , 40 ) -0.2418773674317705\n",
      "S/n ( 0 , 40 ) 0.27323961786239637\n",
      "( 8 , 12 ) selected\n",
      "Theta ( 8 , 12 ) interval: [-0.26610986 -0.1814441 ]\n",
      "Theta ( 8 , 12 ) -0.2367285672028064\n",
      "S/n ( 8 , 12 ) 0.22377826508321755\n",
      "( 10 , 16 ) selected\n",
      "Theta ( 10 , 16 ) interval: [-0.29178851 -0.21623954]\n",
      "Theta ( 10 , 16 ) -0.23181282989712362\n",
      "S/n ( 10 , 16 ) 0.27547688097100087\n",
      "( 12 , 35 ) selected\n",
      "Theta ( 12 , 35 ) interval: [-0.26256417 -0.18403046]\n",
      "Theta ( 12 , 35 ) -0.2361518908837335\n",
      "S/n ( 12 , 35 ) 0.23539716390157203\n",
      "( 15 , 38 ) selected\n",
      "Theta ( 15 , 38 ) interval: [-0.26406449 -0.18878303]\n",
      "Theta ( 15 , 38 ) -0.224035239893576\n",
      "S/n ( 15 , 38 ) 0.2396799828011466\n",
      "( 19 , 30 ) selected\n",
      "Theta ( 19 , 30 ) interval: [-0.29206633 -0.20795965]\n",
      "Theta ( 19 , 30 ) -0.24833629755997633\n",
      "S/n ( 19 , 30 ) 0.22928719203778375\n",
      "( 19 , 31 ) selected\n",
      "Theta ( 19 , 31 ) interval: [-0.27103762 -0.18703016]\n",
      "Theta ( 19 , 31 ) -0.26251670201630967\n",
      "S/n ( 19 , 31 ) 0.2873639390043791\n",
      "( 25 , 41 ) selected\n",
      "Theta ( 25 , 41 ) interval: [-0.26528532 -0.18173647]\n",
      "Theta ( 25 , 41 ) -0.23554115113874335\n",
      "S/n ( 25 , 41 ) 0.24399763074205708\n",
      "( 27 , 31 ) selected\n",
      "Theta ( 27 , 31 ) interval: [-0.29947127 -0.20989435]\n",
      "Theta ( 27 , 31 ) -0.26600988888486676\n",
      "S/n ( 27 , 31 ) 0.33209259972518185\n",
      "( 28 , 43 ) selected\n",
      "Theta ( 28 , 43 ) interval: [-0.25948829 -0.17971428]\n",
      "Theta ( 28 , 43 ) -0.23806823595112517\n",
      "S/n ( 28 , 43 ) 0.23045092702511405\n",
      "( 31 , 41 ) selected\n",
      "Theta ( 31 , 41 ) interval: [-0.29067793 -0.20440833]\n",
      "Theta ( 31 , 41 ) -0.25584315303989763\n",
      "S/n ( 31 , 41 ) 0.2925694565569938\n",
      "( 40 , 42 ) selected\n",
      "Theta ( 40 , 42 ) interval: [-0.3112457  -0.23103934]\n",
      "Theta ( 40 , 42 ) -0.2418773674317706\n",
      "S/n ( 40 , 42 ) 0.3069603367124845\n"
     ]
    }
   ],
   "source": [
    "def print_nonzero_intervals(nonzero, intervals, prec, X):\n",
    "    # Intervals, prec, X are all in their original scale\n",
    "    n, p = X.shape\n",
    "    S = X.T @ X / n\n",
    "\n",
    "    for i in range(p):\n",
    "            for j in range(i+1,p):\n",
    "                if nonzero[i,j]:\n",
    "                    print(\"(\",i,\",\",j,\")\", \"selected\")\n",
    "                    print(\"Theta\", \"(\",i,\",\",j,\")\", \"interval:\", intervals[i,j,:])\n",
    "                    print(\"Theta\", \"(\",i,\",\",j,\")\", prec[i,j])\n",
    "                    print(\"S/n\", \"(\",i,\",\",j,\")\", S[i,j])\n",
    "print_nonzero_intervals(nonzero, intervals, prec, X)"
   ],
   "metadata": {
    "collapsed": false
   }
  },
  {
   "cell_type": "markdown",
   "source": [
    "## Random Edges Instance"
   ],
   "metadata": {
    "collapsed": false
   }
  },
  {
   "cell_type": "code",
   "execution_count": 6,
   "outputs": [],
   "source": [
    "def is_invertible(a):\n",
    "    return a.shape[0] == a.shape[1] and np.linalg.matrix_rank(a) == a.shape[0]"
   ],
   "metadata": {
    "collapsed": false
   }
  },
  {
   "cell_type": "code",
   "execution_count": 7,
   "outputs": [],
   "source": [
    "def GGM_random_instances(n=200, p=50, theta=-0.2):\n",
    "\n",
    "    # Guarantee same sparsity level as in Friedman et al.:\n",
    "    # https://www.asc.ohio-state.edu/statistics/statgen/joul_aut2015/2010-Friedman-Hastie-Tibshirani.pdf\n",
    "    prob = 0.4 / (np.abs(theta)*p)\n",
    "\n",
    "    invertible = False\n",
    "\n",
    "    # Generate invertible precision\n",
    "    while not invertible:\n",
    "        prec = np.eye(p)\n",
    "\n",
    "        # Randomly selecting edges\n",
    "        for i in range(p):\n",
    "            for j in range(i + 1, p):\n",
    "                prec[i, j] = theta * np.random.binomial(n=1, p=prob)\n",
    "\n",
    "        # symmetrize\n",
    "        prec = prec + prec.T - np.eye(p)\n",
    "\n",
    "        invertible = is_invertible(prec)\n",
    "\n",
    "    cov = np.linalg.inv(prec)\n",
    "    # standardize the covariance\n",
    "    cov = cov / np.outer(np.sqrt(np.diag(cov)), np.sqrt(np.diag(cov)))\n",
    "    prec = np.linalg.inv(cov)\n",
    "\n",
    "    X = np.random.multivariate_normal(mean=np.zeros(p),\n",
    "                                      cov=cov, size=n)\n",
    "\n",
    "    return prec, cov, X"
   ],
   "metadata": {
    "collapsed": false
   }
  },
  {
   "cell_type": "code",
   "execution_count": 221,
   "outputs": [],
   "source": [
    "prec,cov,X = GGM_random_instances(n=3000, p=50, theta=-0.2)"
   ],
   "metadata": {
    "collapsed": false
   }
  },
  {
   "cell_type": "code",
   "execution_count": 232,
   "outputs": [
    {
     "name": "stdout",
     "output_type": "stream",
     "text": [
      "Inference for 1 , 16\n",
      "Inference for 1 , 17\n",
      "Inference for 1 , 20\n",
      "Inference for 1 , 26\n",
      "Inference for 1 , 43\n",
      "Inference for 2 , 29\n",
      "Inference for 2 , 37\n",
      "Inference for 2 , 41\n",
      "Inference for 3 , 13\n",
      "Inference for 3 , 14\n",
      "Inference for 4 , 5\n",
      "Inference for 4 , 38\n",
      "Inference for 4 , 41\n",
      "Inference for 5 , 16\n",
      "Inference for 5 , 17\n",
      "Inference for 6 , 29\n",
      "Inference for 6 , 36\n",
      "Inference for 7 , 44\n",
      "Inference for 8 , 20\n",
      "Inference for 8 , 32\n",
      "Inference for 9 , 14\n",
      "Inference for 10 , 26\n",
      "Inference for 10 , 35\n",
      "Inference for 10 , 37\n",
      "Inference for 11 , 37\n",
      "Inference for 13 , 19\n",
      "Inference for 13 , 23\n",
      "Inference for 13 , 47\n",
      "Inference for 14 , 39\n",
      "Inference for 14 , 40\n",
      "Inference for 14 , 48\n",
      "Inference for 14 , 49\n",
      "Inference for 15 , 26\n",
      "Inference for 15 , 30\n",
      "Inference for 15 , 42\n",
      "Inference for 16 , 17\n",
      "Inference for 18 , 40\n",
      "Inference for 19 , 27\n",
      "Inference for 20 , 35\n",
      "Inference for 20 , 44\n",
      "Inference for 23 , 27\n",
      "Inference for 23 , 31\n",
      "Inference for 27 , 31\n",
      "Inference for 27 , 32\n",
      "Inference for 27 , 35\n",
      "Inference for 28 , 42\n",
      "Inference for 29 , 41\n",
      "Inference for 30 , 39\n",
      "Inference for 30 , 46\n",
      "Inference for 38 , 40\n",
      "Inference for 46 , 48\n",
      "Inference for 48 , 49\n"
     ]
    }
   ],
   "source": [
    "weights_const=1.75\n",
    "ridge_const=1.\n",
    "randomizer_scale=5.\n",
    "\n",
    "nbd_instance = nbd_lasso.gaussian(X, n_scaled=False, weights_const=weights_const,\n",
    "                                      ridge_terms=ridge_const, randomizer_scale=randomizer_scale)\n",
    "active_signs_random = nbd_instance.fit()\n",
    "nonzero = nbd_instance.nonzero\n",
    "\n",
    "# Construct intervals\n",
    "if nonzero.sum() > 0:\n",
    "    # Intervals returned is in its original (unscaled) order\n",
    "    intervals = nbd_instance.inference(parallel=False)"
   ],
   "metadata": {
    "collapsed": false
   }
  },
  {
   "cell_type": "code",
   "execution_count": 233,
   "outputs": [],
   "source": [
    "n=3000\n",
    "p=50\n",
    "coverage = get_coverage(nonzero, intervals, prec, n=3000, p=50, scale=False)\n",
    "interval_len = 0\n",
    "nonzero_count = 0  # nonzero_count is essentially upper-triangular\n",
    "for i in range(p):\n",
    "    for j in range(i+1,p):\n",
    "        if nonzero[i,j]:\n",
    "            interval = intervals[i,j,:]\n",
    "            interval_len = interval_len + (interval[1] - interval[0])\n",
    "            nonzero_count = nonzero_count + 1\n",
    "avg_len = interval_len / nonzero_count\n",
    "cov_rate = coverage.sum() / nonzero_count\n",
    "F1_approx = calculate_F1_score_graph(prec, selection=nonzero)"
   ],
   "metadata": {
    "collapsed": false
   }
  },
  {
   "cell_type": "code",
   "execution_count": 234,
   "outputs": [
    {
     "data": {
      "text/plain": "0.8653846153846154"
     },
     "execution_count": 234,
     "metadata": {},
     "output_type": "execute_result"
    }
   ],
   "source": [
    "cov_rate"
   ],
   "metadata": {
    "collapsed": false
   }
  },
  {
   "cell_type": "code",
   "execution_count": 235,
   "outputs": [
    {
     "data": {
      "text/plain": "0.07477661482446482"
     },
     "execution_count": 235,
     "metadata": {},
     "output_type": "execute_result"
    }
   ],
   "source": [
    "avg_len"
   ],
   "metadata": {
    "collapsed": false
   }
  },
  {
   "cell_type": "code",
   "execution_count": 236,
   "outputs": [
    {
     "data": {
      "text/plain": "0.10321221695629278"
     },
     "execution_count": 236,
     "metadata": {},
     "output_type": "execute_result"
    }
   ],
   "source": [
    "F1_approx"
   ],
   "metadata": {
    "collapsed": false
   }
  },
  {
   "cell_type": "code",
   "execution_count": 220,
   "outputs": [
    {
     "data": {
      "text/plain": "array([0., 0.])"
     },
     "execution_count": 220,
     "metadata": {},
     "output_type": "execute_result"
    }
   ],
   "source": [
    "intervals[29,42,:]"
   ],
   "metadata": {
    "collapsed": false
   }
  },
  {
   "cell_type": "code",
   "execution_count": 15,
   "outputs": [
    {
     "data": {
      "text/plain": "-1.1994980566305345e-19"
     },
     "execution_count": 15,
     "metadata": {},
     "output_type": "execute_result"
    }
   ],
   "source": [
    "prec[29,42]"
   ],
   "metadata": {
    "collapsed": false
   }
  },
  {
   "cell_type": "code",
   "execution_count": 78,
   "outputs": [
    {
     "name": "stdout",
     "output_type": "stream",
     "text": [
      "( 0 , 40 ) selected\n",
      "Theta ( 0 , 40 ) interval: [-0.27950555 -0.19836488]\n",
      "Theta ( 0 , 40 ) -0.2418773674317705\n",
      "S/n ( 0 , 40 ) 0.27323961786239637\n",
      "( 8 , 12 ) selected\n",
      "Theta ( 8 , 12 ) interval: [-0.26610986 -0.1814441 ]\n",
      "Theta ( 8 , 12 ) -0.2367285672028064\n",
      "S/n ( 8 , 12 ) 0.22377826508321755\n",
      "( 10 , 16 ) selected\n",
      "Theta ( 10 , 16 ) interval: [-0.29178851 -0.21623954]\n",
      "Theta ( 10 , 16 ) -0.23181282989712362\n",
      "S/n ( 10 , 16 ) 0.27547688097100087\n",
      "( 12 , 35 ) selected\n",
      "Theta ( 12 , 35 ) interval: [-0.26256417 -0.18403046]\n",
      "Theta ( 12 , 35 ) -0.2361518908837335\n",
      "S/n ( 12 , 35 ) 0.23539716390157203\n",
      "( 15 , 38 ) selected\n",
      "Theta ( 15 , 38 ) interval: [-0.26406449 -0.18878303]\n",
      "Theta ( 15 , 38 ) -0.224035239893576\n",
      "S/n ( 15 , 38 ) 0.2396799828011466\n",
      "( 19 , 30 ) selected\n",
      "Theta ( 19 , 30 ) interval: [-0.29206633 -0.20795965]\n",
      "Theta ( 19 , 30 ) -0.24833629755997633\n",
      "S/n ( 19 , 30 ) 0.22928719203778375\n",
      "( 19 , 31 ) selected\n",
      "Theta ( 19 , 31 ) interval: [-0.27103762 -0.18703016]\n",
      "Theta ( 19 , 31 ) -0.26251670201630967\n",
      "S/n ( 19 , 31 ) 0.2873639390043791\n",
      "( 25 , 41 ) selected\n",
      "Theta ( 25 , 41 ) interval: [-0.26528532 -0.18173647]\n",
      "Theta ( 25 , 41 ) -0.23554115113874335\n",
      "S/n ( 25 , 41 ) 0.24399763074205708\n",
      "( 27 , 31 ) selected\n",
      "Theta ( 27 , 31 ) interval: [-0.29947127 -0.20989435]\n",
      "Theta ( 27 , 31 ) -0.26600988888486676\n",
      "S/n ( 27 , 31 ) 0.33209259972518185\n",
      "( 28 , 43 ) selected\n",
      "Theta ( 28 , 43 ) interval: [-0.25948829 -0.17971428]\n",
      "Theta ( 28 , 43 ) -0.23806823595112517\n",
      "S/n ( 28 , 43 ) 0.23045092702511405\n",
      "( 31 , 41 ) selected\n",
      "Theta ( 31 , 41 ) interval: [-0.29067793 -0.20440833]\n",
      "Theta ( 31 , 41 ) -0.25584315303989763\n",
      "S/n ( 31 , 41 ) 0.2925694565569938\n",
      "( 40 , 42 ) selected\n",
      "Theta ( 40 , 42 ) interval: [-0.3112457  -0.23103934]\n",
      "Theta ( 40 , 42 ) -0.2418773674317706\n",
      "S/n ( 40 , 42 ) 0.3069603367124845\n"
     ]
    }
   ],
   "source": [
    "def print_nonzero_intervals(nonzero, intervals, prec, X):\n",
    "    # Intervals, prec, X are all in their original scale\n",
    "    n, p = X.shape\n",
    "    S = X.T @ X / n\n",
    "\n",
    "    for i in range(p):\n",
    "            for j in range(i+1,p):\n",
    "                if nonzero[i,j]:\n",
    "                    print(\"(\",i,\",\",j,\")\", \"selected\")\n",
    "                    print(\"Theta\", \"(\",i,\",\",j,\")\", \"interval:\", intervals[i,j,:])\n",
    "                    print(\"Theta\", \"(\",i,\",\",j,\")\", prec[i,j])\n",
    "                    print(\"S/n\", \"(\",i,\",\",j,\")\", S[i,j])\n",
    "print_nonzero_intervals(nonzero, intervals, prec, X)"
   ],
   "metadata": {
    "collapsed": false
   }
  },
  {
   "cell_type": "code",
   "execution_count": 80,
   "outputs": [
    {
     "data": {
      "text/plain": "82.0"
     },
     "execution_count": 80,
     "metadata": {},
     "output_type": "execute_result"
    }
   ],
   "source": [
    "sum(sum(np.abs(prec) > 1e-10))/2"
   ],
   "metadata": {
    "collapsed": false
   }
  },
  {
   "cell_type": "code",
   "execution_count": 81,
   "outputs": [
    {
     "data": {
      "text/plain": "12"
     },
     "execution_count": 81,
     "metadata": {},
     "output_type": "execute_result"
    }
   ],
   "source": [
    "nonzero_count"
   ],
   "metadata": {
    "collapsed": false
   }
  },
  {
   "cell_type": "markdown",
   "source": [
    "## Hub Instance"
   ],
   "metadata": {
    "collapsed": false
   }
  },
  {
   "cell_type": "code",
   "execution_count": 58,
   "outputs": [],
   "source": [
    "def GGM_hub_instances(n=200, p=50, K=10, theta=-0.175):\n",
    "    group_size = int(p / K)\n",
    "\n",
    "    invertible = False\n",
    "    while not invertible:\n",
    "        prec = np.eye(p)\n",
    "        for k in range(K):\n",
    "            group_k = range(k * group_size, (k + 1) * group_size)\n",
    "            hub = random.sample(list(group_k), 1)[0]\n",
    "            for i in group_k:\n",
    "                # fix column at hub, iterate over all rows in the group\n",
    "                if i != hub:\n",
    "                    prec[i, hub] = theta\n",
    "\n",
    "        # symmetrize\n",
    "        prec = prec + prec.T - np.eye(p)\n",
    "\n",
    "        invertible = is_invertible(prec)\n",
    "\n",
    "    cov = np.linalg.inv(prec)\n",
    "    # standardize the covariance\n",
    "    cov = cov / np.outer(np.sqrt(np.diag(cov)), np.sqrt(np.diag(cov)))\n",
    "    prec = np.linalg.inv(cov)\n",
    "\n",
    "    X = np.random.multivariate_normal(mean=np.zeros(p),\n",
    "                                      cov=cov, size=n)\n",
    "\n",
    "    return prec, cov, X"
   ],
   "metadata": {
    "collapsed": false
   }
  },
  {
   "cell_type": "code",
   "execution_count": 237,
   "outputs": [],
   "source": [
    "prec, cov, X = GGM_hub_instances(n=3000, p=50, K=10, theta=-0.2)"
   ],
   "metadata": {
    "collapsed": false
   }
  },
  {
   "cell_type": "code",
   "execution_count": 238,
   "outputs": [
    {
     "name": "stdout",
     "output_type": "stream",
     "text": [
      "Inference for 0 , 4\n",
      "Inference for 5 , 6\n",
      "Inference for 5 , 7\n",
      "Inference for 11 , 14\n",
      "Inference for 14 , 22\n",
      "Inference for 15 , 18\n",
      "Inference for 16 , 18\n",
      "Inference for 25 , 27\n",
      "Inference for 27 , 28\n",
      "Inference for 28 , 47\n",
      "Inference for 30 , 34\n",
      "Inference for 32 , 34\n",
      "Inference for 33 , 34\n",
      "Inference for 35 , 36\n",
      "Inference for 35 , 38\n",
      "Inference for 41 , 43\n",
      "Inference for 42 , 43\n",
      "Inference for 45 , 48\n"
     ]
    }
   ],
   "source": [
    "weights_const=2\n",
    "ridge_const=1.\n",
    "randomizer_scale=5\n",
    "\n",
    "nbd_instance = nbd_lasso.gaussian(X, n_scaled=False, weights_const=weights_const,\n",
    "                                      ridge_terms=ridge_const, randomizer_scale=randomizer_scale)\n",
    "active_signs_random = nbd_instance.fit()\n",
    "nonzero = nbd_instance.nonzero\n",
    "\n",
    "# Construct intervals\n",
    "if nonzero.sum() > 0:\n",
    "    # Intervals returned is in its original (unscaled) order\n",
    "    intervals = nbd_instance.inference(parallel=False)"
   ],
   "metadata": {
    "collapsed": false
   }
  },
  {
   "cell_type": "code",
   "execution_count": 239,
   "outputs": [],
   "source": [
    "n=3000\n",
    "p=50\n",
    "coverage = get_coverage(nonzero, intervals, prec, n=3000, p=50, scale=False)\n",
    "interval_len = 0\n",
    "nonzero_count = 0  # nonzero_count is essentially upper-triangular\n",
    "for i in range(p):\n",
    "    for j in range(i+1,p):\n",
    "        if nonzero[i,j]:\n",
    "            interval = intervals[i,j,:]\n",
    "            interval_len = interval_len + (interval[1] - interval[0])\n",
    "            nonzero_count = nonzero_count + 1\n",
    "avg_len = interval_len / nonzero_count\n",
    "cov_rate = coverage.sum() / nonzero_count\n",
    "F1_approx = calculate_F1_score_graph(prec, selection=nonzero)"
   ],
   "metadata": {
    "collapsed": false
   }
  },
  {
   "cell_type": "code",
   "execution_count": 240,
   "outputs": [
    {
     "data": {
      "text/plain": "0.8888888888888888"
     },
     "execution_count": 240,
     "metadata": {},
     "output_type": "execute_result"
    }
   ],
   "source": [
    "cov_rate"
   ],
   "metadata": {
    "collapsed": false
   }
  },
  {
   "cell_type": "code",
   "execution_count": 241,
   "outputs": [
    {
     "data": {
      "text/plain": "0.07009583081064891"
     },
     "execution_count": 241,
     "metadata": {},
     "output_type": "execute_result"
    }
   ],
   "source": [
    "avg_len"
   ],
   "metadata": {
    "collapsed": false
   }
  },
  {
   "cell_type": "code",
   "execution_count": 242,
   "outputs": [
    {
     "data": {
      "text/plain": "0.2922374429223744"
     },
     "execution_count": 242,
     "metadata": {},
     "output_type": "execute_result"
    }
   ],
   "source": [
    "F1_approx"
   ],
   "metadata": {
    "collapsed": false
   }
  },
  {
   "cell_type": "code",
   "execution_count": 243,
   "outputs": [
    {
     "name": "stdout",
     "output_type": "stream",
     "text": [
      "( 0 , 4 ) selected\n",
      "Theta ( 0 , 4 ) interval: [-0.276  -0.2047]\n",
      "Theta ( 0 , 4 ) -0.22335313142016328\n",
      "S/n ( 0 , 4 ) 0.23516095438525988\n",
      "( 5 , 6 ) selected\n",
      "Theta ( 5 , 6 ) interval: [-0.2444 -0.1729]\n",
      "Theta ( 5 , 6 ) -0.22335313142016336\n",
      "S/n ( 5 , 6 ) 0.1902661616819056\n",
      "( 5 , 7 ) selected\n",
      "Theta ( 5 , 7 ) interval: [-0.2444 -0.1715]\n",
      "Theta ( 5 , 7 ) -0.22335313142016333\n",
      "S/n ( 5 , 7 ) 0.1958561909890243\n",
      "( 11 , 14 ) selected\n",
      "Theta ( 11 , 14 ) interval: [-0.2704 -0.1993]\n",
      "Theta ( 11 , 14 ) -0.22335313142016333\n",
      "S/n ( 11 , 14 ) 0.22905076445323674\n",
      "( 14 , 22 ) selected\n",
      "Theta ( 14 , 22 ) interval: [-0.048   0.0187]\n",
      "Theta ( 14 , 22 ) 0.0\n",
      "S/n ( 14 , 22 ) 0.00806671789840488\n",
      "( 15 , 18 ) selected\n",
      "Theta ( 15 , 18 ) interval: [-0.2703 -0.2006]\n",
      "Theta ( 15 , 18 ) -0.2233531314201633\n",
      "S/n ( 15 , 18 ) 0.23692413504974938\n",
      "( 16 , 18 ) selected\n",
      "Theta ( 16 , 18 ) interval: [-0.2882 -0.2156]\n",
      "Theta ( 16 , 18 ) -0.22335313142016333\n",
      "S/n ( 16 , 18 ) 0.2335621826327831\n",
      "( 25 , 27 ) selected\n",
      "Theta ( 25 , 27 ) interval: [-0.2349 -0.1647]\n",
      "Theta ( 25 , 27 ) -0.22335313142016322\n",
      "S/n ( 25 , 27 ) 0.1970506587691721\n",
      "( 27 , 28 ) selected\n",
      "Theta ( 27 , 28 ) interval: [-0.2862 -0.2149]\n",
      "Theta ( 27 , 28 ) -0.22335313142016333\n",
      "S/n ( 27 , 28 ) 0.2307433992954223\n",
      "( 28 , 47 ) selected\n",
      "Theta ( 28 , 47 ) interval: [-0.0664 -0.0005]\n",
      "Theta ( 28 , 47 ) 0.0\n",
      "S/n ( 28 , 47 ) 0.03248881332836939\n",
      "( 30 , 34 ) selected\n",
      "Theta ( 30 , 34 ) interval: [-0.2149 -0.1461]\n",
      "Theta ( 30 , 34 ) -0.2233531314201633\n",
      "S/n ( 30 , 34 ) 0.18378457166612855\n",
      "( 32 , 34 ) selected\n",
      "Theta ( 32 , 34 ) interval: [-0.2408 -0.1725]\n",
      "Theta ( 32 , 34 ) -0.2233531314201633\n",
      "S/n ( 32 , 34 ) 0.21242966031699909\n",
      "( 33 , 34 ) selected\n",
      "Theta ( 33 , 34 ) interval: [-0.2563 -0.1872]\n",
      "Theta ( 33 , 34 ) -0.22335313142016325\n",
      "S/n ( 33 , 34 ) 0.22776871491075606\n",
      "( 35 , 36 ) selected\n",
      "Theta ( 35 , 36 ) interval: [-0.2682 -0.1956]\n",
      "Theta ( 35 , 36 ) -0.2233531314201633\n",
      "S/n ( 35 , 36 ) 0.2210862642283472\n",
      "( 35 , 38 ) selected\n",
      "Theta ( 35 , 38 ) interval: [-0.2855 -0.2135]\n",
      "Theta ( 35 , 38 ) -0.22335313142016333\n",
      "S/n ( 35 , 38 ) 0.24167015090996924\n",
      "( 41 , 43 ) selected\n",
      "Theta ( 41 , 43 ) interval: [-0.2391 -0.1695]\n",
      "Theta ( 41 , 43 ) -0.22335313142016333\n",
      "S/n ( 41 , 43 ) 0.20472347510174538\n",
      "( 42 , 43 ) selected\n",
      "Theta ( 42 , 43 ) interval: [-0.2576 -0.1889]\n",
      "Theta ( 42 , 43 ) -0.22335313142016333\n",
      "S/n ( 42 , 43 ) 0.22819192439902344\n",
      "( 45 , 48 ) selected\n",
      "Theta ( 45 , 48 ) interval: [-0.2474 -0.1778]\n",
      "Theta ( 45 , 48 ) -0.22335313142016328\n",
      "S/n ( 45 , 48 ) 0.2120574486654267\n"
     ]
    }
   ],
   "source": [
    "def print_nonzero_intervals(nonzero, intervals, prec, X):\n",
    "    # Intervals, prec, X are all in their original scale\n",
    "    n, p = X.shape\n",
    "    S = X.T @ X / n\n",
    "\n",
    "    for i in range(p):\n",
    "            for j in range(i+1,p):\n",
    "                if nonzero[i,j]:\n",
    "                    print(\"(\",i,\",\",j,\")\", \"selected\")\n",
    "                    print(\"Theta\", \"(\",i,\",\",j,\")\", \"interval:\", intervals[i,j,:])\n",
    "                    print(\"Theta\", \"(\",i,\",\",j,\")\", prec[i,j])\n",
    "                    print(\"S/n\", \"(\",i,\",\",j,\")\", S[i,j])\n",
    "print_nonzero_intervals(nonzero, intervals, prec, X)"
   ],
   "metadata": {
    "collapsed": false
   }
  },
  {
   "cell_type": "code",
   "execution_count": 264,
   "outputs": [
    {
     "data": {
      "text/plain": "65.0"
     },
     "execution_count": 264,
     "metadata": {},
     "output_type": "execute_result"
    }
   ],
   "source": [
    "sum(sum(np.abs(prec) > 1e-10))/2"
   ],
   "metadata": {
    "collapsed": false
   }
  },
  {
   "cell_type": "code",
   "execution_count": 266,
   "outputs": [
    {
     "data": {
      "text/plain": "68.0"
     },
     "execution_count": 266,
     "metadata": {},
     "output_type": "execute_result"
    }
   ],
   "source": [
    "sum(sum(nonzero))/2"
   ],
   "metadata": {
    "collapsed": false
   }
  },
  {
   "cell_type": "markdown",
   "source": [
    "## Clique Instance"
   ],
   "metadata": {
    "collapsed": false
   }
  },
  {
   "cell_type": "code",
   "execution_count": 87,
   "outputs": [],
   "source": [
    "def GGM_clique_instances(n=200, p=400, K=20, group_size=7, theta=-0.175):\n",
    "    # Partition [p] into p/K (big_group_size) disjoint sets,\n",
    "    # then choose a fixed-size subset of each disjoint set\n",
    "\n",
    "    assert K * group_size < p\n",
    "    big_group_size = int(p/K)\n",
    "\n",
    "    invertible = False\n",
    "    while not invertible:\n",
    "        prec = np.eye(p)\n",
    "        for k in range(K):\n",
    "            group_k = range(k * big_group_size, (k + 1) * big_group_size)\n",
    "            variables_k = np.random.choice(group_k,\n",
    "                                           size=group_size, replace=False)\n",
    "            for i in variables_k:\n",
    "                for j in variables_k:\n",
    "                    # Set theta_ij = theta\n",
    "                    if i != j:\n",
    "                        prec[i, j] = theta\n",
    "\n",
    "        invertible = is_invertible(prec)\n",
    "\n",
    "    cov = np.linalg.inv(prec)\n",
    "    # standardize the covariance\n",
    "    cov = cov / np.outer(np.sqrt(np.diag(cov)), np.sqrt(np.diag(cov)))\n",
    "    prec = np.linalg.inv(cov)\n",
    "\n",
    "    X = np.random.multivariate_normal(mean=np.zeros(p),\n",
    "                                      cov=cov, size=n)\n",
    "\n",
    "    return prec, cov, X"
   ],
   "metadata": {
    "collapsed": false
   }
  },
  {
   "cell_type": "code",
   "execution_count": 250,
   "outputs": [],
   "source": [
    "prec, cov, X = GGM_clique_instances(n=3000, p=50, K=10, group_size=4, theta=-0.2)"
   ],
   "metadata": {
    "collapsed": false
   }
  },
  {
   "cell_type": "code",
   "execution_count": 251,
   "outputs": [
    {
     "name": "stdout",
     "output_type": "stream",
     "text": [
      "Inference for 0 , 1\n",
      "Inference for 1 , 2\n",
      "Inference for 1 , 4\n",
      "Inference for 5 , 9\n",
      "Inference for 6 , 9\n",
      "Inference for 8 , 9\n",
      "Inference for 10 , 11\n",
      "Inference for 10 , 12\n",
      "Inference for 12 , 14\n",
      "Inference for 16 , 17\n",
      "Inference for 16 , 18\n",
      "Inference for 16 , 19\n",
      "Inference for 17 , 18\n",
      "Inference for 17 , 19\n",
      "Inference for 18 , 19\n",
      "Inference for 20 , 22\n",
      "Inference for 20 , 23\n",
      "Inference for 20 , 24\n",
      "Inference for 23 , 24\n",
      "Inference for 25 , 27\n",
      "Inference for 26 , 27\n",
      "Inference for 26 , 29\n",
      "Inference for 27 , 29\n",
      "Inference for 31 , 32\n",
      "Inference for 31 , 33\n",
      "Inference for 31 , 34\n",
      "Inference for 32 , 33\n",
      "Inference for 32 , 34\n",
      "Inference for 35 , 36\n",
      "Inference for 35 , 38\n",
      "Inference for 35 , 39\n",
      "Inference for 36 , 37\n",
      "Inference for 37 , 38\n",
      "Inference for 40 , 41\n",
      "Inference for 40 , 44\n",
      "Inference for 41 , 43\n",
      "Inference for 41 , 44\n",
      "Inference for 41 , 48\n",
      "Inference for 43 , 44\n",
      "Inference for 45 , 46\n",
      "Inference for 45 , 47\n",
      "Inference for 45 , 49\n",
      "Inference for 46 , 47\n",
      "Inference for 46 , 49\n"
     ]
    }
   ],
   "source": [
    "weights_const=2.\n",
    "ridge_const=1.\n",
    "randomizer_scale=5.\n",
    "\n",
    "nbd_instance = nbd_lasso.gaussian(X, n_scaled=False, weights_const=weights_const,\n",
    "                                      ridge_terms=ridge_const, randomizer_scale=randomizer_scale)\n",
    "active_signs_random = nbd_instance.fit()\n",
    "nonzero = nbd_instance.nonzero\n",
    "\n",
    "# Construct intervals\n",
    "if nonzero.sum() > 0:\n",
    "    # Intervals returned is in its original (unscaled) order\n",
    "    intervals = nbd_instance.inference(parallel=False)"
   ],
   "metadata": {
    "collapsed": false
   }
  },
  {
   "cell_type": "code",
   "execution_count": 252,
   "outputs": [],
   "source": [
    "n=3000\n",
    "p=50\n",
    "coverage = get_coverage(nonzero, intervals, prec, n=3000, p=50, scale=False)\n",
    "interval_len = 0\n",
    "nonzero_count = 0  # nonzero_count is essentially upper-triangular\n",
    "for i in range(p):\n",
    "    for j in range(i+1,p):\n",
    "        if nonzero[i,j]:\n",
    "            interval = intervals[i,j,:]\n",
    "            interval_len = interval_len + (interval[1] - interval[0])\n",
    "            nonzero_count = nonzero_count + 1\n",
    "avg_len = interval_len / nonzero_count\n",
    "cov_rate = coverage.sum() / nonzero_count\n",
    "F1_approx = calculate_F1_score_graph(prec, selection=nonzero)"
   ],
   "metadata": {
    "collapsed": false
   }
  },
  {
   "cell_type": "code",
   "execution_count": 253,
   "outputs": [
    {
     "data": {
      "text/plain": "0.9318181818181818"
     },
     "execution_count": 253,
     "metadata": {},
     "output_type": "execute_result"
    }
   ],
   "source": [
    "cov_rate"
   ],
   "metadata": {
    "collapsed": false
   }
  },
  {
   "cell_type": "code",
   "execution_count": 254,
   "outputs": [
    {
     "data": {
      "text/plain": "0.07836128656526237"
     },
     "execution_count": 254,
     "metadata": {},
     "output_type": "execute_result"
    }
   ],
   "source": [
    "avg_len"
   ],
   "metadata": {
    "collapsed": false
   }
  },
  {
   "cell_type": "code",
   "execution_count": 255,
   "outputs": [
    {
     "data": {
      "text/plain": "0.8076923076923077"
     },
     "execution_count": 255,
     "metadata": {},
     "output_type": "execute_result"
    }
   ],
   "source": [
    "F1_approx"
   ],
   "metadata": {
    "collapsed": false
   }
  },
  {
   "cell_type": "code",
   "execution_count": 100,
   "outputs": [
    {
     "name": "stdout",
     "output_type": "stream",
     "text": [
      "( 1 , 2 ) selected\n",
      "Theta ( 1 , 2 ) interval: [-0.3019 -0.2141]\n",
      "Theta ( 1 , 2 ) -0.25000000000000006\n",
      "S/n ( 1 , 2 ) 0.3335624118532152\n",
      "( 1 , 3 ) selected\n",
      "Theta ( 1 , 3 ) interval: [-0.2584 -0.1708]\n",
      "Theta ( 1 , 3 ) -0.2500000000000001\n",
      "S/n ( 1 , 3 ) 0.3058251012754842\n",
      "( 1 , 4 ) selected\n",
      "Theta ( 1 , 4 ) interval: [-0.3223 -0.2354]\n",
      "Theta ( 1 , 4 ) -0.2500000000000001\n",
      "S/n ( 1 , 4 ) 0.34856373433688903\n",
      "( 2 , 3 ) selected\n",
      "Theta ( 2 , 3 ) interval: [-0.3018 -0.2141]\n",
      "Theta ( 2 , 3 ) -0.25000000000000006\n",
      "S/n ( 2 , 3 ) 0.32573139452357397\n",
      "( 2 , 4 ) selected\n",
      "Theta ( 2 , 4 ) interval: [-0.3156 -0.2285]\n",
      "Theta ( 2 , 4 ) -0.25000000000000006\n",
      "S/n ( 2 , 4 ) 0.34589468163157866\n",
      "( 3 , 4 ) selected\n",
      "Theta ( 3 , 4 ) interval: [-0.2665 -0.1801]\n",
      "Theta ( 3 , 4 ) -0.25000000000000006\n",
      "S/n ( 3 , 4 ) 0.32352521302826587\n",
      "( 5 , 6 ) selected\n",
      "Theta ( 5 , 6 ) interval: [-0.3369 -0.2488]\n",
      "Theta ( 5 , 6 ) -0.25000000000000006\n",
      "S/n ( 5 , 6 ) 0.34567518226625954\n",
      "( 5 , 7 ) selected\n",
      "Theta ( 5 , 7 ) interval: [-0.2698 -0.1833]\n",
      "Theta ( 5 , 7 ) -0.2500000000000001\n",
      "S/n ( 5 , 7 ) 0.31828087477465794\n",
      "( 5 , 9 ) selected\n",
      "Theta ( 5 , 9 ) interval: [-0.2824 -0.1947]\n",
      "Theta ( 5 , 9 ) -0.2500000000000001\n",
      "S/n ( 5 , 9 ) 0.31928461225608284\n",
      "( 6 , 7 ) selected\n",
      "Theta ( 6 , 7 ) interval: [-0.2513 -0.1662]\n",
      "Theta ( 6 , 7 ) -0.25000000000000006\n",
      "S/n ( 6 , 7 ) 0.3196890532859188\n",
      "( 6 , 9 ) selected\n",
      "Theta ( 6 , 9 ) interval: [-0.2664 -0.1791]\n",
      "Theta ( 6 , 9 ) -0.25000000000000006\n",
      "S/n ( 6 , 9 ) 0.3168988085152113\n",
      "( 7 , 9 ) selected\n",
      "Theta ( 7 , 9 ) interval: [-0.2977 -0.2111]\n",
      "Theta ( 7 , 9 ) -0.25000000000000006\n",
      "S/n ( 7 , 9 ) 0.3194543347634543\n",
      "( 10 , 12 ) selected\n",
      "Theta ( 10 , 12 ) interval: [-0.2683 -0.1805]\n",
      "Theta ( 10 , 12 ) -0.25000000000000006\n",
      "S/n ( 10 , 12 ) 0.307748497214506\n",
      "( 10 , 14 ) selected\n",
      "Theta ( 10 , 14 ) interval: [-0.314 -0.226]\n",
      "Theta ( 10 , 14 ) -0.25000000000000006\n",
      "S/n ( 10 , 14 ) 0.3351356581527522\n",
      "( 12 , 14 ) selected\n",
      "Theta ( 12 , 14 ) interval: [-0.3238 -0.234 ]\n",
      "Theta ( 12 , 14 ) -0.25000000000000017\n",
      "S/n ( 12 , 14 ) 0.3272874877588486\n",
      "( 13 , 14 ) selected\n",
      "Theta ( 13 , 14 ) interval: [-0.3024 -0.2146]\n",
      "Theta ( 13 , 14 ) -0.2500000000000001\n",
      "S/n ( 13 , 14 ) 0.3164308389313386\n",
      "( 15 , 16 ) selected\n",
      "Theta ( 15 , 16 ) interval: [-0.2561 -0.1677]\n",
      "Theta ( 15 , 16 ) -0.25000000000000006\n",
      "S/n ( 15 , 16 ) 0.3072639009115865\n",
      "( 15 , 17 ) selected\n",
      "Theta ( 15 , 17 ) interval: [-0.2805 -0.1931]\n",
      "Theta ( 15 , 17 ) -0.25000000000000006\n",
      "S/n ( 15 , 17 ) 0.33469643796082965\n",
      "( 15 , 18 ) selected\n",
      "Theta ( 15 , 18 ) interval: [-0.2867 -0.1991]\n",
      "Theta ( 15 , 18 ) -0.25000000000000006\n",
      "S/n ( 15 , 18 ) 0.3282122386093541\n",
      "( 16 , 17 ) selected\n",
      "Theta ( 16 , 17 ) interval: [-0.3507 -0.26  ]\n",
      "Theta ( 16 , 17 ) -0.25000000000000017\n",
      "S/n ( 16 , 17 ) 0.3431494787875344\n",
      "( 16 , 18 ) selected\n",
      "Theta ( 16 , 18 ) interval: [-0.2839 -0.1956]\n",
      "Theta ( 16 , 18 ) -0.25000000000000017\n",
      "S/n ( 16 , 18 ) 0.32993675240458475\n",
      "( 17 , 18 ) selected\n",
      "Theta ( 17 , 18 ) interval: [-0.3328 -0.2434]\n",
      "Theta ( 17 , 18 ) -0.2500000000000001\n",
      "S/n ( 17 , 18 ) 0.3517774075604494\n",
      "( 20 , 21 ) selected\n",
      "Theta ( 20 , 21 ) interval: [-0.2935 -0.2078]\n",
      "Theta ( 20 , 21 ) -0.25000000000000006\n",
      "S/n ( 20 , 21 ) 0.35654643116476525\n",
      "( 20 , 22 ) selected\n",
      "Theta ( 20 , 22 ) interval: [-0.2768 -0.1903]\n",
      "Theta ( 20 , 22 ) -0.2500000000000001\n",
      "S/n ( 20 , 22 ) 0.34657412713687413\n",
      "( 21 , 22 ) selected\n",
      "Theta ( 21 , 22 ) interval: [-0.3251 -0.2375]\n",
      "Theta ( 21 , 22 ) -0.25000000000000006\n",
      "S/n ( 21 , 22 ) 0.3705059032901922\n",
      "( 22 , 24 ) selected\n",
      "Theta ( 22 , 24 ) interval: [-0.2883 -0.2   ]\n",
      "Theta ( 22 , 24 ) -0.25000000000000006\n",
      "S/n ( 22 , 24 ) 0.34052249279138513\n",
      "( 26 , 27 ) selected\n",
      "Theta ( 26 , 27 ) interval: [-0.3133 -0.2249]\n",
      "Theta ( 26 , 27 ) -0.25000000000000006\n",
      "S/n ( 26 , 27 ) 0.34460316323494194\n",
      "( 26 , 28 ) selected\n",
      "Theta ( 26 , 28 ) interval: [-0.2718 -0.1839]\n",
      "Theta ( 26 , 28 ) -0.25000000000000006\n",
      "S/n ( 26 , 28 ) 0.3241469617435017\n",
      "( 27 , 28 ) selected\n",
      "Theta ( 27 , 28 ) interval: [-0.2895 -0.2027]\n",
      "Theta ( 27 , 28 ) -0.25000000000000017\n",
      "S/n ( 27 , 28 ) 0.3219754942664732\n",
      "( 27 , 29 ) selected\n",
      "Theta ( 27 , 29 ) interval: [-0.2685 -0.1808]\n",
      "Theta ( 27 , 29 ) -0.25000000000000006\n",
      "S/n ( 27 , 29 ) 0.32659799213376167\n",
      "( 28 , 29 ) selected\n",
      "Theta ( 28 , 29 ) interval: [-0.2721 -0.1844]\n",
      "Theta ( 28 , 29 ) -0.2500000000000001\n",
      "S/n ( 28 , 29 ) 0.32138723269789765\n",
      "( 30 , 31 ) selected\n",
      "Theta ( 30 , 31 ) interval: [-0.3011 -0.2128]\n",
      "Theta ( 30 , 31 ) -0.25000000000000006\n",
      "S/n ( 30 , 31 ) 0.34317200339849735\n",
      "( 30 , 33 ) selected\n",
      "Theta ( 30 , 33 ) interval: [-0.33   -0.2421]\n",
      "Theta ( 30 , 33 ) -0.25000000000000006\n",
      "S/n ( 30 , 33 ) 0.36498705786913765\n",
      "( 30 , 34 ) selected\n",
      "Theta ( 30 , 34 ) interval: [-0.3073 -0.2185]\n",
      "Theta ( 30 , 34 ) -0.2500000000000001\n",
      "S/n ( 30 , 34 ) 0.35610118922212153\n",
      "( 31 , 33 ) selected\n",
      "Theta ( 31 , 33 ) interval: [-0.2447 -0.1598]\n",
      "Theta ( 31 , 33 ) -0.25000000000000017\n",
      "S/n ( 31 , 33 ) 0.33467280794879595\n",
      "( 31 , 34 ) selected\n",
      "Theta ( 31 , 34 ) interval: [-0.3023 -0.2141]\n",
      "Theta ( 31 , 34 ) -0.25000000000000006\n",
      "S/n ( 31 , 34 ) 0.3393366022152662\n",
      "( 33 , 34 ) selected\n",
      "Theta ( 33 , 34 ) interval: [-0.3235 -0.2357]\n",
      "Theta ( 33 , 34 ) -0.2500000000000001\n",
      "S/n ( 33 , 34 ) 0.3612124472670615\n",
      "( 35 , 36 ) selected\n",
      "Theta ( 35 , 36 ) interval: [-0.3014 -0.2146]\n",
      "Theta ( 35 , 36 ) -0.25000000000000006\n",
      "S/n ( 35 , 36 ) 0.35655208515587516\n",
      "( 35 , 37 ) selected\n",
      "Theta ( 35 , 37 ) interval: [-0.2843 -0.1988]\n",
      "Theta ( 35 , 37 ) -0.25000000000000006\n",
      "S/n ( 35 , 37 ) 0.34981994800322325\n",
      "( 35 , 39 ) selected\n",
      "Theta ( 35 , 39 ) interval: [-0.2912 -0.2047]\n",
      "Theta ( 35 , 39 ) -0.25000000000000006\n",
      "S/n ( 35 , 39 ) 0.34668189810088196\n",
      "( 36 , 37 ) selected\n",
      "Theta ( 36 , 37 ) interval: [-0.302  -0.2138]\n",
      "Theta ( 36 , 37 ) -0.25000000000000017\n",
      "S/n ( 36 , 37 ) 0.3415835425942675\n",
      "( 36 , 39 ) selected\n",
      "Theta ( 36 , 39 ) interval: [-0.297  -0.2084]\n",
      "Theta ( 36 , 39 ) -0.25000000000000017\n",
      "S/n ( 36 , 39 ) 0.34349363868599136\n",
      "( 37 , 39 ) selected\n",
      "Theta ( 37 , 39 ) interval: [-0.3147 -0.2276]\n",
      "Theta ( 37 , 39 ) -0.2500000000000001\n",
      "S/n ( 37 , 39 ) 0.3526099535110142\n",
      "( 40 , 41 ) selected\n",
      "Theta ( 40 , 41 ) interval: [-0.247  -0.1602]\n",
      "Theta ( 40 , 41 ) -0.25000000000000006\n",
      "S/n ( 40 , 41 ) 0.30939164835988175\n",
      "( 40 , 43 ) selected\n",
      "Theta ( 40 , 43 ) interval: [-0.309  -0.2206]\n",
      "Theta ( 40 , 43 ) -0.2500000000000001\n",
      "S/n ( 40 , 43 ) 0.3359805493664828\n",
      "( 40 , 44 ) selected\n",
      "Theta ( 40 , 44 ) interval: [-0.2978 -0.2093]\n",
      "Theta ( 40 , 44 ) -0.2500000000000001\n",
      "S/n ( 40 , 44 ) 0.3276880661846205\n",
      "( 41 , 43 ) selected\n",
      "Theta ( 41 , 43 ) interval: [-0.3025 -0.2178]\n",
      "Theta ( 41 , 43 ) -0.25000000000000006\n",
      "S/n ( 41 , 43 ) 0.35616856025041754\n",
      "( 43 , 44 ) selected\n",
      "Theta ( 43 , 44 ) interval: [-0.2747 -0.1874]\n",
      "Theta ( 43 , 44 ) -0.25000000000000006\n",
      "S/n ( 43 , 44 ) 0.3328166217684018\n",
      "( 45 , 46 ) selected\n",
      "Theta ( 45 , 46 ) interval: [-0.2893 -0.2005]\n",
      "Theta ( 45 , 46 ) -0.25000000000000006\n",
      "S/n ( 45 , 46 ) 0.3092081510347223\n",
      "( 45 , 49 ) selected\n",
      "Theta ( 45 , 49 ) interval: [-0.2809 -0.1943]\n",
      "Theta ( 45 , 49 ) -0.2500000000000001\n",
      "S/n ( 45 , 49 ) 0.3172465971330476\n",
      "( 46 , 47 ) selected\n",
      "Theta ( 46 , 47 ) interval: [-0.2989 -0.211 ]\n",
      "Theta ( 46 , 47 ) -0.25000000000000006\n",
      "S/n ( 46 , 47 ) 0.3157815482743011\n",
      "( 47 , 49 ) selected\n",
      "Theta ( 47 , 49 ) interval: [-0.3157 -0.2285]\n",
      "Theta ( 47 , 49 ) -0.25000000000000006\n",
      "S/n ( 47 , 49 ) 0.3234100418849163\n"
     ]
    }
   ],
   "source": [
    "def print_nonzero_intervals(nonzero, intervals, prec, X):\n",
    "    # Intervals, prec, X are all in their original scale\n",
    "    n, p = X.shape\n",
    "    S = X.T @ X / n\n",
    "\n",
    "    for i in range(p):\n",
    "            for j in range(i+1,p):\n",
    "                if nonzero[i,j]:\n",
    "                    print(\"(\",i,\",\",j,\")\", \"selected\")\n",
    "                    print(\"Theta\", \"(\",i,\",\",j,\")\", \"interval:\", intervals[i,j,:])\n",
    "                    print(\"Theta\", \"(\",i,\",\",j,\")\", prec[i,j])\n",
    "                    print(\"S/n\", \"(\",i,\",\",j,\")\", S[i,j])\n",
    "print_nonzero_intervals(nonzero, intervals, prec, X)"
   ],
   "metadata": {
    "collapsed": false
   }
  },
  {
   "cell_type": "code",
   "execution_count": 101,
   "outputs": [
    {
     "data": {
      "text/plain": "85.0"
     },
     "execution_count": 101,
     "metadata": {},
     "output_type": "execute_result"
    }
   ],
   "source": [
    "sum(sum(np.abs(prec) > 1e-10))/2"
   ],
   "metadata": {
    "collapsed": false
   }
  },
  {
   "cell_type": "code",
   "execution_count": 102,
   "outputs": [
    {
     "data": {
      "text/plain": "52.0"
     },
     "execution_count": 102,
     "metadata": {},
     "output_type": "execute_result"
    }
   ],
   "source": [
    "sum(sum(np.abs(nonzero) > 1e-10))/2"
   ],
   "metadata": {
    "collapsed": false
   }
  },
  {
   "cell_type": "code",
   "execution_count": null,
   "outputs": [],
   "source": [],
   "metadata": {
    "collapsed": false
   }
  }
 ],
 "metadata": {
  "kernelspec": {
   "display_name": "Python 3",
   "language": "python",
   "name": "python3"
  },
  "language_info": {
   "codemirror_mode": {
    "name": "ipython",
    "version": 2
   },
   "file_extension": ".py",
   "mimetype": "text/x-python",
   "name": "python",
   "nbconvert_exporter": "python",
   "pygments_lexer": "ipython2",
   "version": "2.7.6"
  }
 },
 "nbformat": 4,
 "nbformat_minor": 0
}
