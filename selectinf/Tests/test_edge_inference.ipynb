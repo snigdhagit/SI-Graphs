{
 "cells": [
  {
   "cell_type": "code",
   "execution_count": 1,
   "outputs": [],
   "source": [
    "from __future__ import print_function\n",
    "\n",
    "import numpy as np\n",
    "import random\n",
    "\n",
    "from matplotlib import pyplot as plt\n",
    "\n",
    "from selectinf.nbd_lasso import nbd_lasso\n",
    "from selectinf.Utils.discrete_family import discrete_family\n",
    "from statsmodels.distributions.empirical_distribution import ECDF\n",
    "from instance import GGM_instance\n",
    "\n",
    "from nbd_naive_and_ds import *\n",
    "from scipy.integrate import quad\n",
    "from scipy.optimize import root_scalar"
   ],
   "metadata": {
    "collapsed": false
   }
  },
  {
   "cell_type": "code",
   "execution_count": 9,
   "outputs": [
    {
     "name": "stdout",
     "output_type": "stream",
     "text": [
      "(20, 19)\n",
      "4.0\n",
      "4.0\n",
      "14\n"
     ]
    }
   ],
   "source": [
    "# TODO: Add root n to the randomization covariance\n",
    "# Remark: Not needed (?) anymore since X is now scaled\n",
    "prec,cov,X = GGM_instance(n=200,p=20, max_edges=1)\n",
    "nbd_instance = nbd_lasso.gaussian(X, n_scaled=False)\n",
    "active_signs_nonrandom = nbd_instance.fit(perturb=np.zeros((20,19)))\n",
    "active_signs_random = nbd_instance.fit()\n",
    "print(active_signs_nonrandom.shape)\n",
    "print(np.abs(active_signs_nonrandom).sum())\n",
    "print(np.abs(active_signs_random).sum())\n",
    "print(np.abs(prec != 0).sum() - 10)"
   ],
   "metadata": {
    "collapsed": false
   }
  },
  {
   "cell_type": "code",
   "execution_count": 10,
   "outputs": [
    {
     "name": "stdout",
     "output_type": "stream",
     "text": [
      "True nonzero used\n",
      "0.5\n"
     ]
    },
    {
     "name": "stderr",
     "output_type": "stream",
     "text": [
      "/Users/yilingh/Desktop/PhD/SI_Codes/SI-Graphs/selectinf/Utils/discrete_family.py:146: RuntimeWarning: overflow encountered in exp\n",
      "  self._partition *= np.exp(_largest)\n"
     ]
    }
   ],
   "source": [
    "true_non0 = (prec!=0)\n",
    "for j in range(prec.shape[0]):\n",
    "    true_non0[j,j] = False\n",
    "nonzero, intervals, cov_rate, avg_len = naive_inference(X, prec, true_nonzero=true_non0)\n",
    "print(cov_rate)"
   ],
   "metadata": {
    "collapsed": false
   }
  },
  {
   "cell_type": "code",
   "execution_count": 11,
   "outputs": [
    {
     "name": "stdout",
     "output_type": "stream",
     "text": [
      "( 5 , 12 ) selected\n",
      "Theta ( 5 , 12 ) interval: [0.52692951 0.82063092]\n",
      "Theta ( 5 , 12 ) 0.715513279632411\n",
      "S/n ( 5 , 12 ) -1.2340544017946828\n",
      "( 8 , 18 ) selected\n",
      "Theta ( 8 , 18 ) interval: [0.9590312  1.39457533]\n",
      "Theta ( 8 , 18 ) 0.7860938387279081\n",
      "S/n ( 8 , 18 ) -2.5446153157614693\n"
     ]
    }
   ],
   "source": [
    "def print_nonzero_intervals(nonzero, intervals, prec, X):\n",
    "    # Intervals, prec, X are all in their original scale\n",
    "    n, p = X.shape\n",
    "    S = X.T @ X / n\n",
    "\n",
    "    for i in range(p):\n",
    "            for j in range(i+1,p):\n",
    "                if nonzero[i,j]:\n",
    "                    print(\"(\",i,\",\",j,\")\", \"selected\")\n",
    "                    print(\"Theta\", \"(\",i,\",\",j,\")\", \"interval:\", intervals[i,j,:])\n",
    "                    print(\"Theta\", \"(\",i,\",\",j,\")\", prec[i,j])\n",
    "                    print(\"S/n\", \"(\",i,\",\",j,\")\", S[i,j])\n",
    "print_nonzero_intervals(nonzero, intervals, prec, X)"
   ],
   "metadata": {
    "collapsed": false
   }
  },
  {
   "cell_type": "code",
   "execution_count": 12,
   "outputs": [],
   "source": [
    "#nonzero = get_nonzero(active_signs_nonrandom)\n",
    "p=10\n",
    "n=500\n",
    "for i in range(p):\n",
    "    for j in range(i+1,p):\n",
    "        if nonzero[i,j]:\n",
    "            print(\"(i,j) = (\",i,\",\",j,\")\")\n",
    "            print(\"Theta\", prec[i,j])"
   ],
   "metadata": {
    "collapsed": false
   }
  },
  {
   "cell_type": "code",
   "execution_count": 13,
   "outputs": [
    {
     "name": "stderr",
     "output_type": "stream",
     "text": [
      "/Users/yilingh/Desktop/PhD/SI_Codes/SI-Graphs/selectinf/Tests/nbd_naive_and_ds.py:195: RuntimeWarning: divide by zero encountered in log\n",
      "  cdf_upper = np.exp(np.log(quad(condl_pdf_normalized, inner_prod, grid_ub,\n"
     ]
    },
    {
     "name": "stdout",
     "output_type": "stream",
     "text": [
      "-0.005781239256987874 0.00011780859457459092\n"
     ]
    }
   ],
   "source": [
    "p=10\n",
    "n=500\n",
    "S=X.T @ X/n\n",
    "theta_hat = np.linalg.inv(S)\n",
    "pivot, lcb, ucb = edge_inference_scipy(j0=5,k0=7,S=S,n=n,p=p,Theta_hat=theta_hat,ngrid=10000)\n",
    "print(lcb/n, ucb/n)"
   ],
   "metadata": {
    "collapsed": false
   }
  },
  {
   "cell_type": "code",
   "execution_count": 17,
   "outputs": [
    {
     "name": "stdout",
     "output_type": "stream",
     "text": [
      "[1.09859146 1.06775419 1.19826373 1.07099661 1.14623754 1.16075903\n",
      " 1.0522284  0.92166946 1.00847615 1.04040878]\n"
     ]
    }
   ],
   "source": [
    "print(np.diag(S))"
   ],
   "metadata": {
    "collapsed": false
   }
  },
  {
   "cell_type": "code",
   "execution_count": 7,
   "outputs": [
    {
     "name": "stdout",
     "output_type": "stream",
     "text": [
      "t_j_k (center of root finding) -80.66748017291589\n",
      "theta_hat -0.16133496034583178\n",
      "( 0 , 1 ): ( -0.23006612527808273 , -0.08847419488867843 )\n",
      "t_j_k (center of root finding) 100.62697505694439\n",
      "theta_hat 0.20125395011388877\n",
      "( 0 , 5 ): ( 0.128588878626462 , 0.2987750167795382 )\n",
      "t_j_k (center of root finding) -59.12579124805222\n",
      "theta_hat -0.11825158249610443\n",
      "( 1 , 3 ): ( -0.23670532356971286 , -0.06450845848792573 )\n",
      "t_j_k (center of root finding) -108.96408991567854\n",
      "theta_hat -0.2179281798313571\n",
      "( 3 , 9 ): ( -0.3668014613102389 , -0.2619785395573092 )\n",
      "t_j_k (center of root finding) -88.43274612000404\n",
      "theta_hat -0.17686549224000808\n",
      "( 5 , 7 ): ( -0.2108598331366145 , -0.06430259741884108 )\n",
      "t_j_k (center of root finding) -113.39353407969124\n",
      "theta_hat -0.22678706815938246\n",
      "( 8 , 9 ): ( -0.10844996145467053 , -0.10254147222737563 )\n",
      "WARNING: SHORT INTERVAL\n"
     ]
    }
   ],
   "source": [
    "intervals = conditional_inference(X/np.sqrt(n), true_non0)"
   ],
   "metadata": {
    "collapsed": false
   }
  },
  {
   "cell_type": "code",
   "execution_count": 8,
   "outputs": [
    {
     "name": "stdout",
     "output_type": "stream",
     "text": [
      "[[ 1.18999389e+00  1.99714249e-01  2.03606071e-02 -8.35228828e-03\n",
      "   5.34819999e-02 -2.22785874e-01 -2.49132680e-02 -4.30205495e-02\n",
      "  -8.25042850e-03  4.80001580e-03]\n",
      " [ 1.99714249e-01  1.06058983e+00 -7.35904073e-02  1.03391280e-01\n",
      "   3.25089013e-02 -7.83883015e-02 -2.10093303e-02  6.76489551e-02\n",
      "  -9.53730086e-03 -5.36029911e-02]\n",
      " [ 2.03606071e-02 -7.35904073e-02  1.01576286e+00 -5.44000771e-02\n",
      "  -1.40209317e-02  1.11038273e-02  2.26094989e-02 -1.64759759e-02\n",
      "  -4.87192509e-02 -5.98587193e-04]\n",
      " [-8.35228828e-03  1.03391280e-01 -5.44000771e-02  1.00364101e+00\n",
      "   2.22710206e-02 -4.43959755e-02 -1.01392447e-02 -6.61393808e-03\n",
      "   1.03259258e-01  2.13204571e-01]\n",
      " [ 5.34819999e-02  3.25089013e-02 -1.40209317e-02  2.22710206e-02\n",
      "   1.00928287e+00 -6.73358404e-03  8.88218540e-02 -1.07524587e-02\n",
      "   5.59117129e-02  8.28248100e-02]\n",
      " [-2.22785874e-01 -7.83883015e-02  1.11038273e-02 -4.43959755e-02\n",
      "  -6.73358404e-03  9.54014084e-01  1.13460526e-02  1.70100096e-01\n",
      "  -1.41550786e-01 -5.53743105e-02]\n",
      " [-2.49132680e-02 -2.10093303e-02  2.26094989e-02 -1.01392447e-02\n",
      "   8.88218540e-02  1.13460526e-02  1.03933528e+00  3.19594079e-02\n",
      "   2.31784710e-02 -1.62902885e-02]\n",
      " [-4.30205495e-02  6.76489551e-02 -1.64759759e-02 -6.61393808e-03\n",
      "  -1.07524587e-02  1.70100096e-01  3.19594079e-02  1.05862738e+00\n",
      "  -8.04423151e-02  1.06239838e-01]\n",
      " [-8.25042850e-03 -9.53730086e-03 -4.87192509e-02  1.03259258e-01\n",
      "   5.59117129e-02 -1.41550786e-01  2.31784710e-02 -8.04423151e-02\n",
      "   1.12301204e+00  2.50644740e-01]\n",
      " [ 4.80001580e-03 -5.36029911e-02 -5.98587193e-04  2.13204571e-01\n",
      "   8.28248100e-02 -5.53743105e-02 -1.62902885e-02  1.06239838e-01\n",
      "   2.50644740e-01  1.02958359e+00]]\n",
      "t_j_k (center of root finding) -80.6674801729159\n",
      "theta_hat -0.1613349603458318\n",
      "( 0 , 1 ): ( -0.23006612527808284 , -0.08847419488867848 )\n",
      "[[ 1.18999389e+00  5.29271207e-01  2.03606071e-02 -8.35228828e-03\n",
      "   5.34819999e-02 -2.22785874e-01 -2.49132680e-02 -4.30205495e-02\n",
      "  -8.25042850e-03  4.80001580e-03]\n",
      " [ 5.29271207e-01  1.06058983e+00 -7.35904073e-02  1.03391280e-01\n",
      "   3.25089013e-02 -7.83883015e-02 -2.10093303e-02  6.76489551e-02\n",
      "  -9.53730086e-03 -5.36029911e-02]\n",
      " [ 2.03606071e-02 -7.35904073e-02  1.01576286e+00 -5.44000771e-02\n",
      "  -1.40209317e-02  1.11038273e-02  2.26094989e-02 -1.64759759e-02\n",
      "  -4.87192509e-02 -5.98587193e-04]\n",
      " [-8.35228828e-03  1.03391280e-01 -5.44000771e-02  1.00364101e+00\n",
      "   2.22710206e-02 -4.43959755e-02 -1.01392447e-02 -6.61393808e-03\n",
      "   1.03259258e-01  2.13204571e-01]\n",
      " [ 5.34819999e-02  3.25089013e-02 -1.40209317e-02  2.22710206e-02\n",
      "   1.00928287e+00 -6.73358404e-03  8.88218540e-02 -1.07524587e-02\n",
      "   5.59117129e-02  8.28248100e-02]\n",
      " [-2.22785874e-01 -7.83883015e-02  1.11038273e-02 -4.43959755e-02\n",
      "  -6.73358404e-03  9.54014084e-01  1.13460526e-02  1.70100096e-01\n",
      "  -1.41550786e-01 -5.53743105e-02]\n",
      " [-2.49132680e-02 -2.10093303e-02  2.26094989e-02 -1.01392447e-02\n",
      "   8.88218540e-02  1.13460526e-02  1.03933528e+00  3.19594079e-02\n",
      "   2.31784710e-02 -1.62902885e-02]\n",
      " [-4.30205495e-02  6.76489551e-02 -1.64759759e-02 -6.61393808e-03\n",
      "  -1.07524587e-02  1.70100096e-01  3.19594079e-02  1.05862738e+00\n",
      "  -8.04423151e-02  1.06239838e-01]\n",
      " [-8.25042850e-03 -9.53730086e-03 -4.87192509e-02  1.03259258e-01\n",
      "   5.59117129e-02 -1.41550786e-01  2.31784710e-02 -8.04423151e-02\n",
      "   1.12301204e+00  2.50644740e-01]\n",
      " [ 4.80001580e-03 -5.36029911e-02 -5.98587193e-04  2.13204571e-01\n",
      "   8.28248100e-02 -5.53743105e-02 -1.62902885e-02  1.06239838e-01\n",
      "   2.50644740e-01  1.02958359e+00]]\n",
      "t_j_k (center of root finding) 100.62697505694432\n",
      "theta_hat 0.20125395011388864\n",
      "( 0 , 5 ): ( 0.1285888786264619 , 0.2987750167795381 )\n",
      "[[ 1.18999389e+00  5.29271207e-01  2.03606071e-02 -8.35228828e-03\n",
      "   5.34819999e-02  2.89851921e-02 -2.49132680e-02 -4.30205495e-02\n",
      "  -8.25042850e-03  4.80001580e-03]\n",
      " [ 5.29271207e-01  1.06058983e+00 -7.35904073e-02  1.03391280e-01\n",
      "   3.25089013e-02 -7.83883015e-02 -2.10093303e-02  6.76489551e-02\n",
      "  -9.53730086e-03 -5.36029911e-02]\n",
      " [ 2.03606071e-02 -7.35904073e-02  1.01576286e+00 -5.44000771e-02\n",
      "  -1.40209317e-02  1.11038273e-02  2.26094989e-02 -1.64759759e-02\n",
      "  -4.87192509e-02 -5.98587193e-04]\n",
      " [-8.35228828e-03  1.03391280e-01 -5.44000771e-02  1.00364101e+00\n",
      "   2.22710206e-02 -4.43959755e-02 -1.01392447e-02 -6.61393808e-03\n",
      "   1.03259258e-01  2.13204571e-01]\n",
      " [ 5.34819999e-02  3.25089013e-02 -1.40209317e-02  2.22710206e-02\n",
      "   1.00928287e+00 -6.73358404e-03  8.88218540e-02 -1.07524587e-02\n",
      "   5.59117129e-02  8.28248100e-02]\n",
      " [ 2.89851921e-02 -7.83883015e-02  1.11038273e-02 -4.43959755e-02\n",
      "  -6.73358404e-03  9.54014084e-01  1.13460526e-02  1.70100096e-01\n",
      "  -1.41550786e-01 -5.53743105e-02]\n",
      " [-2.49132680e-02 -2.10093303e-02  2.26094989e-02 -1.01392447e-02\n",
      "   8.88218540e-02  1.13460526e-02  1.03933528e+00  3.19594079e-02\n",
      "   2.31784710e-02 -1.62902885e-02]\n",
      " [-4.30205495e-02  6.76489551e-02 -1.64759759e-02 -6.61393808e-03\n",
      "  -1.07524587e-02  1.70100096e-01  3.19594079e-02  1.05862738e+00\n",
      "  -8.04423151e-02  1.06239838e-01]\n",
      " [-8.25042850e-03 -9.53730086e-03 -4.87192509e-02  1.03259258e-01\n",
      "   5.59117129e-02 -1.41550786e-01  2.31784710e-02 -8.04423151e-02\n",
      "   1.12301204e+00  2.50644740e-01]\n",
      " [ 4.80001580e-03 -5.36029911e-02 -5.98587193e-04  2.13204571e-01\n",
      "   8.28248100e-02 -5.53743105e-02 -1.62902885e-02  1.06239838e-01\n",
      "   2.50644740e-01  1.02958359e+00]]\n",
      "t_j_k (center of root finding) -59.125791248052224\n",
      "theta_hat -0.11825158249610444\n",
      "( 1 , 3 ): ( -0.23670532356971286 , -0.06450845848792573 )\n",
      "[[ 1.18999389e+00  5.29271207e-01  2.03606071e-02 -8.35228828e-03\n",
      "   5.34819999e-02  2.89851921e-02 -2.49132680e-02 -4.30205495e-02\n",
      "  -8.25042850e-03  4.80001580e-03]\n",
      " [ 5.29271207e-01  1.06058983e+00 -7.35904073e-02  4.72613951e-01\n",
      "   3.25089013e-02 -7.83883015e-02 -2.10093303e-02  6.76489551e-02\n",
      "  -9.53730086e-03 -5.36029911e-02]\n",
      " [ 2.03606071e-02 -7.35904073e-02  1.01576286e+00 -5.44000771e-02\n",
      "  -1.40209317e-02  1.11038273e-02  2.26094989e-02 -1.64759759e-02\n",
      "  -4.87192509e-02 -5.98587193e-04]\n",
      " [-8.35228828e-03  4.72613951e-01 -5.44000771e-02  1.00364101e+00\n",
      "   2.22710206e-02 -4.43959755e-02 -1.01392447e-02 -6.61393808e-03\n",
      "   1.03259258e-01  2.13204571e-01]\n",
      " [ 5.34819999e-02  3.25089013e-02 -1.40209317e-02  2.22710206e-02\n",
      "   1.00928287e+00 -6.73358404e-03  8.88218540e-02 -1.07524587e-02\n",
      "   5.59117129e-02  8.28248100e-02]\n",
      " [ 2.89851921e-02 -7.83883015e-02  1.11038273e-02 -4.43959755e-02\n",
      "  -6.73358404e-03  9.54014084e-01  1.13460526e-02  1.70100096e-01\n",
      "  -1.41550786e-01 -5.53743105e-02]\n",
      " [-2.49132680e-02 -2.10093303e-02  2.26094989e-02 -1.01392447e-02\n",
      "   8.88218540e-02  1.13460526e-02  1.03933528e+00  3.19594079e-02\n",
      "   2.31784710e-02 -1.62902885e-02]\n",
      " [-4.30205495e-02  6.76489551e-02 -1.64759759e-02 -6.61393808e-03\n",
      "  -1.07524587e-02  1.70100096e-01  3.19594079e-02  1.05862738e+00\n",
      "  -8.04423151e-02  1.06239838e-01]\n",
      " [-8.25042850e-03 -9.53730086e-03 -4.87192509e-02  1.03259258e-01\n",
      "   5.59117129e-02 -1.41550786e-01  2.31784710e-02 -8.04423151e-02\n",
      "   1.12301204e+00  2.50644740e-01]\n",
      " [ 4.80001580e-03 -5.36029911e-02 -5.98587193e-04  2.13204571e-01\n",
      "   8.28248100e-02 -5.53743105e-02 -1.62902885e-02  1.06239838e-01\n",
      "   2.50644740e-01  1.02958359e+00]]\n",
      "t_j_k (center of root finding) -108.96408991567853\n",
      "theta_hat -0.21792817983135707\n",
      "( 3 , 9 ): ( -0.3668014613102389 , -0.2619785395573092 )\n",
      "[[ 1.18999389e+00  5.29271207e-01  2.03606071e-02 -8.35228828e-03\n",
      "   5.34819999e-02  2.89851921e-02 -2.49132680e-02 -4.30205495e-02\n",
      "  -8.25042850e-03  4.80001580e-03]\n",
      " [ 5.29271207e-01  1.06058983e+00 -7.35904073e-02  4.72613951e-01\n",
      "   3.25089013e-02 -7.83883015e-02 -2.10093303e-02  6.76489551e-02\n",
      "  -9.53730086e-03 -5.36029911e-02]\n",
      " [ 2.03606071e-02 -7.35904073e-02  1.01576286e+00 -5.44000771e-02\n",
      "  -1.40209317e-02  1.11038273e-02  2.26094989e-02 -1.64759759e-02\n",
      "  -4.87192509e-02 -5.98587193e-04]\n",
      " [-8.35228828e-03  4.72613951e-01 -5.44000771e-02  1.00364101e+00\n",
      "   2.22710206e-02 -4.43959755e-02 -1.01392447e-02 -6.61393808e-03\n",
      "   1.03259258e-01  9.95662746e-01]\n",
      " [ 5.34819999e-02  3.25089013e-02 -1.40209317e-02  2.22710206e-02\n",
      "   1.00928287e+00 -6.73358404e-03  8.88218540e-02 -1.07524587e-02\n",
      "   5.59117129e-02  8.28248100e-02]\n",
      " [ 2.89851921e-02 -7.83883015e-02  1.11038273e-02 -4.43959755e-02\n",
      "  -6.73358404e-03  9.54014084e-01  1.13460526e-02  1.70100096e-01\n",
      "  -1.41550786e-01 -5.53743105e-02]\n",
      " [-2.49132680e-02 -2.10093303e-02  2.26094989e-02 -1.01392447e-02\n",
      "   8.88218540e-02  1.13460526e-02  1.03933528e+00  3.19594079e-02\n",
      "   2.31784710e-02 -1.62902885e-02]\n",
      " [-4.30205495e-02  6.76489551e-02 -1.64759759e-02 -6.61393808e-03\n",
      "  -1.07524587e-02  1.70100096e-01  3.19594079e-02  1.05862738e+00\n",
      "  -8.04423151e-02  1.06239838e-01]\n",
      " [-8.25042850e-03 -9.53730086e-03 -4.87192509e-02  1.03259258e-01\n",
      "   5.59117129e-02 -1.41550786e-01  2.31784710e-02 -8.04423151e-02\n",
      "   1.12301204e+00  2.50644740e-01]\n",
      " [ 4.80001580e-03 -5.36029911e-02 -5.98587193e-04  9.95662746e-01\n",
      "   8.28248100e-02 -5.53743105e-02 -1.62902885e-02  1.06239838e-01\n",
      "   2.50644740e-01  1.02958359e+00]]\n",
      "t_j_k (center of root finding) -88.43274612000407\n",
      "theta_hat -0.17686549224000814\n",
      "( 5 , 7 ): ( -0.2108598331366146 , -0.06430259741884116 )\n",
      "[[ 1.18999389e+00  5.29271207e-01  2.03606071e-02 -8.35228828e-03\n",
      "   5.34819999e-02  2.89851921e-02 -2.49132680e-02 -4.30205495e-02\n",
      "  -8.25042850e-03  4.80001580e-03]\n",
      " [ 5.29271207e-01  1.06058983e+00 -7.35904073e-02  4.72613951e-01\n",
      "   3.25089013e-02 -7.83883015e-02 -2.10093303e-02  6.76489551e-02\n",
      "  -9.53730086e-03 -5.36029911e-02]\n",
      " [ 2.03606071e-02 -7.35904073e-02  1.01576286e+00 -5.44000771e-02\n",
      "  -1.40209317e-02  1.11038273e-02  2.26094989e-02 -1.64759759e-02\n",
      "  -4.87192509e-02 -5.98587193e-04]\n",
      " [-8.35228828e-03  4.72613951e-01 -5.44000771e-02  1.00364101e+00\n",
      "   2.22710206e-02 -4.43959755e-02 -1.01392447e-02 -6.61393808e-03\n",
      "   1.03259258e-01  9.95662746e-01]\n",
      " [ 5.34819999e-02  3.25089013e-02 -1.40209317e-02  2.22710206e-02\n",
      "   1.00928287e+00 -6.73358404e-03  8.88218540e-02 -1.07524587e-02\n",
      "   5.59117129e-02  8.28248100e-02]\n",
      " [ 2.89851921e-02 -7.83883015e-02  1.11038273e-02 -4.43959755e-02\n",
      "  -6.73358404e-03  9.54014084e-01  1.13460526e-02  5.11852136e-01\n",
      "  -1.41550786e-01 -5.53743105e-02]\n",
      " [-2.49132680e-02 -2.10093303e-02  2.26094989e-02 -1.01392447e-02\n",
      "   8.88218540e-02  1.13460526e-02  1.03933528e+00  3.19594079e-02\n",
      "   2.31784710e-02 -1.62902885e-02]\n",
      " [-4.30205495e-02  6.76489551e-02 -1.64759759e-02 -6.61393808e-03\n",
      "  -1.07524587e-02  5.11852136e-01  3.19594079e-02  1.05862738e+00\n",
      "  -8.04423151e-02  1.06239838e-01]\n",
      " [-8.25042850e-03 -9.53730086e-03 -4.87192509e-02  1.03259258e-01\n",
      "   5.59117129e-02 -1.41550786e-01  2.31784710e-02 -8.04423151e-02\n",
      "   1.12301204e+00  2.50644740e-01]\n",
      " [ 4.80001580e-03 -5.36029911e-02 -5.98587193e-04  9.95662746e-01\n",
      "   8.28248100e-02 -5.53743105e-02 -1.62902885e-02  1.06239838e-01\n",
      "   2.50644740e-01  1.02958359e+00]]\n",
      "t_j_k (center of root finding) -113.39353407969126\n",
      "theta_hat -0.22678706815938252\n",
      "( 8 , 9 ): ( -0.10844996145467065 , -0.10254147222737571 )\n",
      "WARNING: SHORT INTERVAL\n"
     ]
    }
   ],
   "source": [
    "n,p = X.shape\n",
    "\n",
    "S=X.T @ X/n\n",
    "theta_hat = np.linalg.inv(S)\n",
    "# Estimating variances by bootstrap\n",
    "# inner_vars = bootstrap_variance(X)\n",
    "\n",
    "#S_ = (X.T @ X) / n\n",
    "#theta_h = np.linalg.inv(S_)\n",
    "intervals = np.zeros((p,p,2))\n",
    "# condlDists = {}\n",
    "for i in range(p):\n",
    "    for j in range(i+1,p):\n",
    "        if nonzero[i,j]:\n",
    "            print(S)\n",
    "            \"\"\"# neg_int are intervals for n * theta\n",
    "            neg_int, condlWishart = edge_inference(j0=i, k0=j, S=S_,\n",
    "                                                   # var=inner_vars[i, j],\n",
    "                                                   n=n, p=p, ngrid=50000)\"\"\"\n",
    "            pivot, lcb, ucb = edge_inference_scipy(j0=i, k0=j, S=S,\n",
    "                                                   n=n, p=p, Theta_hat=theta_hat)\n",
    "            # interval = invert_interval(neg_int, scalar=n)\n",
    "            intervals[i,j,0] = lcb/n\n",
    "            intervals[i,j,1] = ucb/n\n",
    "            print(\"(\", i, \",\", j, \"): (\", lcb/n, \",\", ucb/n, \")\")\n",
    "            if ucb/n - lcb/n < 0.01:\n",
    "                print(\"WARNING: SHORT INTERVAL\")"
   ],
   "metadata": {
    "collapsed": false
   }
  },
  {
   "cell_type": "code",
   "execution_count": 6,
   "outputs": [],
   "source": [
    "def edge_inference_scipy_test(j0, k0, S, n, p, Theta_hat=None, var=None, level=0.9, ngrid=10000):\n",
    "    # n_total: the total data points in data splitting\n",
    "    #        : the raw dimension of X in naive\n",
    "    inner_prod = S[j0,k0]\n",
    "\n",
    "    # Theta_hat: A low dimensional point estimate of theta\n",
    "    if Theta_hat is None:\n",
    "        t_j_k = - inner_prod * n\n",
    "    else:\n",
    "        t_j_k = Theta_hat[j0,k0] * n\n",
    "\n",
    "    print(\"t_j_k (center of root finding)\", t_j_k)\n",
    "    print(\"theta_hat\", Theta_hat[j0,k0])\n",
    "\n",
    "    S_copy = S\n",
    "\n",
    "    def log_det_S_j_k(s_val):\n",
    "        S_j_k = S_copy\n",
    "        S_j_k[j0,k0] = s_val\n",
    "        S_j_k[k0,j0] = s_val\n",
    "        return np.log(np.abs(np.linalg.det(S_j_k))) * (n-p-1)/2\n",
    "    def det_S_j_k(s_val):\n",
    "        return np.exp(log_det_S_j_k(s_val))\n",
    "\n",
    "    \"\"\"def get_logdet_normalizer():\n",
    "        sparse_grid = np.linspace(-2, 2, num=100)\n",
    "        sparse_log_det = np.zeros((ngrid,))\n",
    "        for g in range(100):\n",
    "            sparse_log_det[g] = log_det_S_j_k(sparse_grid[g])\n",
    "        log_det_normalizer = np.max(sparse_log_det)\n",
    "        return log_det_normalizer\n",
    "\n",
    "    ldn = get_logdet_normalizer()\n",
    "    print(\"ldn\", np.exp(ldn))\n",
    "    # normalized determinant by multiplying 1/det_S_j_k(0)\n",
    "\n",
    "    def det_S_j_k_nomalized(s_val, log_normalizer=0):\n",
    "        return np.exp(log_det_S_j_k(s_val) - np.log(det_S_j_k(0)))\"\"\"\n",
    "\n",
    "    def condl_pdf(t,theta=0):\n",
    "        return det_S_j_k(t) * np.exp(-theta*t)\n",
    "\n",
    "    def condl_log_pdf(t,theta=0):\n",
    "        return log_det_S_j_k(t) - theta * t\n",
    "\n",
    "    def get_pivot(theta0=0, plot=False):\n",
    "        # print(\"new run\")\n",
    "        # Normalize the pdf by the maximum over a sparse grid\n",
    "        def get_pdf_log_normalizer(theta0):\n",
    "            sparse_grid = np.linspace(-1, 1, num=100)\n",
    "            sparse_lpdf = np.zeros((100,))\n",
    "            for g in range(100):\n",
    "                sparse_lpdf[g] = condl_log_pdf(sparse_grid[g],theta0)\n",
    "            pdf_log_normalizer = np.max(sparse_lpdf)# - 5\n",
    "\n",
    "            \"\"\"# for test uses\n",
    "            stat_grid = np.linspace(-1, 1, num=ngrid)\n",
    "            density = np.zeros((ngrid,))\n",
    "            for g in range(ngrid):\n",
    "                density[g] = np.exp(condl_log_pdf(stat_grid[g],theta0) - pdf_log_normalizer)\n",
    "            print(\"pdfln:\", pdf_log_normalizer)\n",
    "            print(\"normalized pdf mode\",np.max(density))\n",
    "\n",
    "            if pdf_log_normalizer == 0.0:\n",
    "                plt.plot(sparse_grid, sparse_lpdf)\"\"\"\n",
    "\n",
    "            \"\"\"if pdf_log_normalizer > 100:\n",
    "                pdf_log_normalizer -= 100\"\"\"\n",
    "            return pdf_log_normalizer\n",
    "\n",
    "        pdfln = get_pdf_log_normalizer(theta0)\n",
    "        #print(\"pdfln\", pdfln)\n",
    "        # Normalized pdf\n",
    "        def condl_pdf_normalized(t, theta=0):\n",
    "            return np.exp(log_det_S_j_k(t) - theta*t - pdfln)\n",
    "\n",
    "        grid_lb = -1\n",
    "        grid_ub = 1\n",
    "        normalizer = quad(condl_pdf_normalized,\n",
    "                          grid_lb,\n",
    "                          grid_ub, args=(theta0,))[0]\n",
    "        #print(\"normalizer\", normalizer)\n",
    "        #print(\"normalizer == 0\", normalizer == 0)\n",
    "        #print(\"log normalizer:\", np.log(normalizer))\n",
    "        cdf_upper = np.exp(np.log(quad(condl_pdf_normalized, inner_prod, grid_ub,\n",
    "                         args=(theta0,))[0]) - np.log(normalizer))\n",
    "\n",
    "        if plot:\n",
    "            stat_grid = np.zeros((1, ngrid))\n",
    "\n",
    "            stat_grid[0, :] = np.linspace(grid_lb,\n",
    "                                          grid_ub,\n",
    "                                          num=ngrid)\n",
    "            density = np.zeros((ngrid,))\n",
    "            for g in range(ngrid):\n",
    "                density[g] = condl_pdf_normalized(stat_grid[0, g], theta0)\n",
    "\n",
    "            # print(\"Max normalized pdf:\", np.max(density))\n",
    "            plt.plot(stat_grid[0, :], density)\n",
    "        return cdf_upper\n",
    "\n",
    "    pivot = get_pivot(0)\n",
    "\n",
    "    def get_pivot_val(x,val=0.99):\n",
    "        return get_pivot(x) - val\n",
    "\n",
    "    # print(\"bracket\", t_j_k - 0.2 * n, t_j_k + 0.2 * n)\n",
    "\n",
    "    # Construct CI\n",
    "    margin = (1 - level) / 2\n",
    "    \"\"\"root_low = root_scalar(get_pivot_val, bracket=[t_j_k - 0.05 * n, t_j_k + 0.15 * n], args=(margin,),\n",
    "                           method='bisect')\n",
    "    root_up = root_scalar(get_pivot_val, bracket=[t_j_k - 0.15 * n, t_j_k + 0.05 * n], args=(1 - margin,),\n",
    "                          method='bisect')\n",
    "\n",
    "    return pivot, root_up.root, root_low.root\"\"\"\n",
    "    root_low = find_root(f=get_pivot, y=margin, lb=t_j_k - 0.2 * n, ub=t_j_k + 0.4 * n, tol=1e-4)\n",
    "    root_up = find_root(f=get_pivot, y=1 - margin, lb=t_j_k - 0.4 * n, ub=t_j_k + 0.2 * n, tol=1e-4)\n",
    "\n",
    "    pvtlow = get_pivot(t_j_k - 0.4 * n, plot=True)\n",
    "    pvtup = get_pivot(t_j_k + 0.4 * n, plot=True)\n",
    "    F_low = get_pivot(root_low)\n",
    "    F_up = get_pivot(root_up)\n",
    "    #print(\"p-value at lower root:\", F_low)\n",
    "    #print(\"p-value at upper root:\", F_up)\n",
    "\n",
    "    return pivot, root_up, root_low"
   ],
   "metadata": {
    "collapsed": false
   }
  },
  {
   "cell_type": "code",
   "execution_count": 22,
   "outputs": [
    {
     "name": "stdout",
     "output_type": "stream",
     "text": [
      "t_j_k (center of root finding) -113.39353407969126\n",
      "theta_hat -0.22678706815938252\n",
      "-0.3011046665022781 -0.14661495855550072\n"
     ]
    },
    {
     "data": {
      "text/plain": "<Figure size 640x480 with 1 Axes>",
      "image/png": "[encoded data removed]"
     },
     "metadata": {},
     "output_type": "display_data"
    }
   ],
   "source": [
    "S_ = (X.T @ X) / n\n",
    "thetah = np.linalg.inv(S_)\n",
    "pivot, lcb, ucb = edge_inference_scipy_test(j0=8, k0=9, S=S_, n=n, p=p,\n",
    "                                            Theta_hat=thetah)\n",
    "print(lcb/n, ucb/n)"
   ],
   "metadata": {
    "collapsed": false
   }
  },
  {
   "cell_type": "code",
   "execution_count": 15,
   "outputs": [
    {
     "name": "stdout",
     "output_type": "stream",
     "text": [
      "[[ True False  True  True  True False  True  True  True  True]\n",
      " [False  True  True False  True  True  True  True  True  True]\n",
      " [ True  True  True  True  True  True  True  True  True  True]\n",
      " [ True False  True  True  True  True  True  True  True False]\n",
      " [ True  True  True  True  True  True  True  True  True  True]\n",
      " [False  True  True  True  True  True False False  True  True]\n",
      " [ True  True  True  True  True False  True  True  True  True]\n",
      " [ True  True  True  True  True False  True  True  True  True]\n",
      " [ True  True  True  True  True  True  True  True  True False]\n",
      " [ True  True  True False  True  True  True  True False  True]]\n"
     ]
    }
   ],
   "source": [
    "print(S == S_)"
   ],
   "metadata": {
    "collapsed": false
   }
  },
  {
   "cell_type": "code",
   "execution_count": 16,
   "outputs": [
    {
     "name": "stdout",
     "output_type": "stream",
     "text": [
      "[[False  True False False False  True False False False False]\n",
      " [ True False False  True False False False False False False]\n",
      " [False False False False False False False False False False]\n",
      " [False  True False False False False False False False  True]\n",
      " [False False False False False False False False False False]\n",
      " [ True False False False False False False  True False False]\n",
      " [False False False False False False False False False False]\n",
      " [False False False False False  True False False False False]\n",
      " [False False False False False False False False False  True]\n",
      " [False False False  True False False False False  True False]]\n"
     ]
    }
   ],
   "source": [
    "print(true_non0)"
   ],
   "metadata": {
    "collapsed": false
   }
  },
  {
   "cell_type": "code",
   "execution_count": 135,
   "outputs": [
    {
     "name": "stdout",
     "output_type": "stream",
     "text": [
      "t_j_k (center of root finding) 74.22304190358531\n",
      "theta_hat 0.14844608380717061\n",
      "0.0706165797941091 0.22248902394694117\n"
     ]
    },
    {
     "data": {
      "text/plain": "<Figure size 640x480 with 1 Axes>",
      "image/png": "[encoded data removed]"
     },
     "metadata": {},
     "output_type": "display_data"
    }
   ],
   "source": [
    "S_new = (X.T @ X) / n\n",
    "thetah = np.linalg.inv(S_new)\n",
    "pivot, lcb, ucb = edge_inference_scipy_test(j0=3, k0=9, S=S_new, n=n, p=p,\n",
    "                                            Theta_hat=thetah)\n",
    "print(lcb/n, ucb/n)"
   ],
   "metadata": {
    "collapsed": false
   }
  },
  {
   "cell_type": "code",
   "execution_count": 11,
   "outputs": [],
   "source": [
    "def evaluate_pivot(iter=500):\n",
    "    pvals = []\n",
    "    for i in range(iter):\n",
    "        prec,cov,X = GGM_instance(n=1000,p=10, max_edges=2)\n",
    "        S=X.T @ X/n\n",
    "        theta_hat = np.linalg.inv(S)\n",
    "        pivot, lcb, ucb = edge_inference_scipy(j0=6,k0=8,S=X.T @ X/n,n=n,p=p,Theta_hat=theta_hat, prec=prec)\n",
    "        pvals.append(pivot)\n",
    "\n",
    "    plt.clf()\n",
    "    ecdf_pivot = ECDF(np.asarray(pvals))\n",
    "    grid = np.linspace(0, 1, iter)\n",
    "    plt.plot(grid, ecdf_pivot(grid), c='blue', marker='^')\n",
    "    plt.plot(grid, grid, 'k--')\n",
    "    plt.show()"
   ],
   "metadata": {
    "collapsed": false
   }
  },
  {
   "cell_type": "code",
   "execution_count": 80,
   "outputs": [
    {
     "ename": "TypeError",
     "evalue": "edge_inference_scipy() got an unexpected keyword argument 'prec'",
     "output_type": "error",
     "traceback": [
      "\u001B[0;31m---------------------------------------------------------------------------\u001B[0m",
      "\u001B[0;31mTypeError\u001B[0m                                 Traceback (most recent call last)",
      "Cell \u001B[0;32mIn[80], line 1\u001B[0m\n\u001B[0;32m----> 1\u001B[0m \u001B[43mevaluate_pivot\u001B[49m\u001B[43m(\u001B[49m\u001B[43m)\u001B[49m\n",
      "Cell \u001B[0;32mIn[79], line 7\u001B[0m, in \u001B[0;36mevaluate_pivot\u001B[0;34m(iter)\u001B[0m\n\u001B[1;32m      5\u001B[0m     S\u001B[38;5;241m=\u001B[39mX\u001B[38;5;241m.\u001B[39mT \u001B[38;5;241m@\u001B[39m X\u001B[38;5;241m/\u001B[39mn\n\u001B[1;32m      6\u001B[0m     theta_hat \u001B[38;5;241m=\u001B[39m np\u001B[38;5;241m.\u001B[39mlinalg\u001B[38;5;241m.\u001B[39minv(S)\n\u001B[0;32m----> 7\u001B[0m     pivot, lcb, ucb \u001B[38;5;241m=\u001B[39m \u001B[43medge_inference_scipy\u001B[49m\u001B[43m(\u001B[49m\u001B[43mj0\u001B[49m\u001B[38;5;241;43m=\u001B[39;49m\u001B[38;5;241;43m6\u001B[39;49m\u001B[43m,\u001B[49m\u001B[43mk0\u001B[49m\u001B[38;5;241;43m=\u001B[39;49m\u001B[38;5;241;43m8\u001B[39;49m\u001B[43m,\u001B[49m\u001B[43mS\u001B[49m\u001B[38;5;241;43m=\u001B[39;49m\u001B[43mX\u001B[49m\u001B[38;5;241;43m.\u001B[39;49m\u001B[43mT\u001B[49m\u001B[43m \u001B[49m\u001B[38;5;241;43m@\u001B[39;49m\u001B[43m \u001B[49m\u001B[43mX\u001B[49m\u001B[38;5;241;43m/\u001B[39;49m\u001B[43mn\u001B[49m\u001B[43m,\u001B[49m\u001B[43mn\u001B[49m\u001B[38;5;241;43m=\u001B[39;49m\u001B[43mn\u001B[49m\u001B[43m,\u001B[49m\u001B[43mp\u001B[49m\u001B[38;5;241;43m=\u001B[39;49m\u001B[43mp\u001B[49m\u001B[43m,\u001B[49m\u001B[43mTheta_hat\u001B[49m\u001B[38;5;241;43m=\u001B[39;49m\u001B[43mtheta_hat\u001B[49m\u001B[43m,\u001B[49m\u001B[43m \u001B[49m\u001B[43mprec\u001B[49m\u001B[38;5;241;43m=\u001B[39;49m\u001B[43mprec\u001B[49m\u001B[43m)\u001B[49m\n\u001B[1;32m      8\u001B[0m     pvals\u001B[38;5;241m.\u001B[39mappend(pivot)\n\u001B[1;32m     10\u001B[0m plt\u001B[38;5;241m.\u001B[39mclf()\n",
      "\u001B[0;31mTypeError\u001B[0m: edge_inference_scipy() got an unexpected keyword argument 'prec'"
     ]
    }
   ],
   "source": [
    "evaluate_pivot()"
   ],
   "metadata": {
    "collapsed": false
   }
  },
  {
   "cell_type": "code",
   "execution_count": null,
   "outputs": [],
   "source": [
    "lcb, ucb"
   ],
   "metadata": {
    "collapsed": false
   }
  },
  {
   "cell_type": "code",
   "execution_count": null,
   "outputs": [],
   "source": [
    "int(1>0)"
   ],
   "metadata": {
    "collapsed": false
   }
  },
  {
   "cell_type": "code",
   "execution_count": 34,
   "outputs": [
    {
     "name": "stdout",
     "output_type": "stream",
     "text": [
      "-0.034277203964113476\n"
     ]
    }
   ],
   "source": [
    "j0=1\n",
    "k0=5\n",
    "S=X.T @ X/n\n",
    "theta_hat = np.linalg.inv(S)\n",
    "t_j_k = theta_hat[j0,k0] * n\n",
    "ngrid=10000\n",
    "# n_total: the total data points in data splitting\n",
    "#        : the raw dimension of X in naive\n",
    "inner_prod = S[j0,k0]\n",
    "\n",
    "print(inner_prod)\n",
    "\n",
    "def log_det_S_j_k(s_val):\n",
    "    S_j_k = S\n",
    "    S_j_k[j0,k0] = s_val\n",
    "    S_j_k[k0,j0] = s_val\n",
    "    return np.log(np.abs(np.linalg.det(S_j_k))) * (n-p-1)/2\n",
    "def det_S_j_k(s_val):\n",
    "    return np.exp(log_det_S_j_k(s_val))\n",
    "\n",
    "\"\"\"def get_logdet_normalizer():\n",
    "    sparse_grid = np.linspace(-2, 2, num=100)\n",
    "    sparse_log_det = np.zeros((ngrid,))\n",
    "    for g in range(100):\n",
    "        sparse_log_det[g] = log_det_S_j_k(sparse_grid[g])\n",
    "    log_det_normalizer = np.max(sparse_log_det)\n",
    "    return log_det_normalizer\n",
    "\n",
    "ldn = get_logdet_normalizer()\n",
    "print(\"ldn\", np.exp(ldn))\n",
    "# normalized determinant by multiplying 1/det_S_j_k(0)\n",
    "\n",
    "def det_S_j_k_nomalized(s_val, log_normalizer=0):\n",
    "    return np.exp(log_det_S_j_k(s_val) - np.log(det_S_j_k(0)))\"\"\"\n",
    "\n",
    "def condl_pdf(t,theta=0):\n",
    "    return det_S_j_k(t) * np.exp(-theta*t)\n",
    "\n",
    "def condl_log_pdf(t,theta=0):\n",
    "    return log_det_S_j_k(t) - theta * t\n",
    "\n",
    "def get_pivot(theta0=0):\n",
    "    # Normalize the pdf by the maximum over a sparse grid\n",
    "    def get_pdf_log_normalizer(theta0):\n",
    "        sparse_grid = np.linspace(-2, 2, num=100)\n",
    "        sparse_lpdf = np.zeros((ngrid,))\n",
    "        for g in range(100):\n",
    "            sparse_lpdf[g] = condl_log_pdf(sparse_grid[g],theta0)\n",
    "        pdf_log_normalizer = np.max(sparse_lpdf)\n",
    "\n",
    "        if pdf_log_normalizer > 100:\n",
    "            pdf_log_normalizer /= 10\n",
    "        return pdf_log_normalizer\n",
    "\n",
    "    pdfln = get_pdf_log_normalizer(theta0)\n",
    "    print(\"pdfln\", pdfln)\n",
    "    # Normalized pdf\n",
    "    def condl_pdf_normalized(t, theta=0):\n",
    "        return det_S_j_k(t) * np.exp(-theta*t - pdfln)\n",
    "\n",
    "    grid_lb = -1\n",
    "    grid_ub = 1\n",
    "    normalizer = quad(condl_pdf_normalized,\n",
    "                      grid_lb,\n",
    "                      grid_ub, args=(theta0,))[0]\n",
    "\n",
    "    cdf_upper = quad(condl_pdf_normalized, inner_prod, grid_ub,\n",
    "                     args=(theta0,))[0] / normalizer\n",
    "\n",
    "    stat_grid = np.zeros((1, ngrid))\n",
    "\n",
    "    stat_grid[0,:] = np.linspace(grid_lb,\n",
    "                                 grid_ub,\n",
    "                                 num=ngrid)\n",
    "    density = np.zeros((ngrid,))\n",
    "    logdet = np.zeros((ngrid,))\n",
    "    for g in range(ngrid):\n",
    "        density[g] = condl_pdf_normalized(stat_grid[0,g], theta0)\n",
    "        logdet[g] = det_S_j_k(stat_grid[0,g])\n",
    "\n",
    "    plt.plot(stat_grid[0,:], density)\n",
    "    plt.figure(2)\n",
    "    plt.plot(stat_grid[0,:], logdet)\n",
    "    return cdf_upper"
   ],
   "metadata": {
    "collapsed": false
   }
  },
  {
   "cell_type": "code",
   "execution_count": null,
   "outputs": [],
   "source": [
    "def get_pivot_val(x,val=0.99):\n",
    "    return get_pivot(x) - val"
   ],
   "metadata": {
    "collapsed": false
   }
  },
  {
   "cell_type": "code",
   "execution_count": null,
   "outputs": [],
   "source": [
    "root_up = root_scalar(get_pivot_val, bracket=[t_j_k-300,t_j_k+300], args=(0.95,),\n",
    "                           method='bisect')"
   ],
   "metadata": {
    "collapsed": false
   }
  },
  {
   "cell_type": "code",
   "execution_count": null,
   "outputs": [],
   "source": [
    "root_low = root_scalar(get_pivot_val, bracket=[t_j_k-300,t_j_k+300], args=(0.05,),\n",
    "                           method='bisect')"
   ],
   "metadata": {
    "collapsed": false
   }
  },
  {
   "cell_type": "code",
   "execution_count": null,
   "outputs": [],
   "source": [
    "root_up, root_low"
   ],
   "metadata": {
    "collapsed": false
   }
  },
  {
   "cell_type": "code",
   "execution_count": null,
   "outputs": [],
   "source": [
    "get_pivot(300)# - 0.95"
   ],
   "metadata": {
    "collapsed": false
   }
  },
  {
   "cell_type": "code",
   "execution_count": null,
   "outputs": [],
   "source": [
    "root_up.root"
   ],
   "metadata": {
    "collapsed": false
   }
  },
  {
   "cell_type": "code",
   "execution_count": null,
   "outputs": [],
   "source": [
    "get_pivot_val(-1000,0.05)"
   ],
   "metadata": {
    "collapsed": false
   }
  },
  {
   "cell_type": "code",
   "execution_count": null,
   "outputs": [],
   "source": [
    "get_pivot_val(2,0.95)"
   ],
   "metadata": {
    "collapsed": false
   }
  },
  {
   "cell_type": "code",
   "execution_count": null,
   "outputs": [],
   "source": [],
   "metadata": {
    "collapsed": false
   }
  },
  {
   "cell_type": "code",
   "execution_count": 13,
   "outputs": [],
   "source": [
    "X = np.zeros((2,5))\n",
    "Y = np.copy(X)\n",
    "X[1,3] = 1"
   ],
   "metadata": {
    "collapsed": false
   }
  },
  {
   "cell_type": "code",
   "execution_count": 14,
   "outputs": [
    {
     "name": "stdout",
     "output_type": "stream",
     "text": [
      "[[0. 0. 0. 0. 0.]\n",
      " [0. 0. 0. 0. 0.]]\n"
     ]
    }
   ],
   "source": [
    "print(Y)"
   ],
   "metadata": {
    "collapsed": false
   }
  },
  {
   "cell_type": "code",
   "execution_count": null,
   "outputs": [],
   "source": [],
   "metadata": {
    "collapsed": false
   }
  }
 ],
 "metadata": {
  "kernelspec": {
   "display_name": "Python 3",
   "language": "python",
   "name": "python3"
  },
  "language_info": {
   "codemirror_mode": {
    "name": "ipython",
    "version": 2
   },
   "file_extension": ".py",
   "mimetype": "text/x-python",
   "name": "python",
   "nbconvert_exporter": "python",
   "pygments_lexer": "ipython2",
   "version": "2.7.6"
  }
 },
 "nbformat": 4,
 "nbformat_minor": 0
}
