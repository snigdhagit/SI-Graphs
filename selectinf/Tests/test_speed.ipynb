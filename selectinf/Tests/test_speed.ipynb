{
 "cells": [
  {
   "cell_type": "code",
   "execution_count": 1,
   "id": "initial_id",
   "metadata": {
    "collapsed": true,
    "ExecuteTime": {
     "end_time": "2023-11-19T19:18:40.802563Z",
     "start_time": "2023-11-19T19:18:40.750157Z"
    }
   },
   "outputs": [],
   "source": [
    "import numpy as np\n",
    "import pandas as pd\n",
    "import random\n",
    "import time\n",
    "\n",
    "from matplotlib import pyplot as plt\n",
    "import seaborn as sns\n",
    "\n",
    "from selectinf.nbd_lasso import nbd_lasso\n",
    "from selectinf.Utils.discrete_family import discrete_family\n",
    "from selectinf.Tests.instance import GGM_instance\n",
    "\n",
    "from selectinf.Tests.nbd_naive_and_ds import *"
   ]
  },
  {
   "cell_type": "code",
   "execution_count": 14,
   "outputs": [],
   "source": [
    "n = 400#np_pair[0]\n",
    "p = 20#np_pair[1]\n",
    "weights_const = 0.2\n",
    "ridge_const = 1.\n",
    "randomizer_scale = 1.\n",
    "ncoarse = 200\n",
    "logic=1"
   ],
   "metadata": {
    "collapsed": false,
    "ExecuteTime": {
     "end_time": "2023-11-19T19:25:21.315182Z",
     "start_time": "2023-11-19T19:25:21.305283Z"
    }
   },
   "id": "d8b43baee656a2d2"
  },
  {
   "cell_type": "code",
   "execution_count": 15,
   "outputs": [],
   "source": [
    "def approx_inference_sim(X, prec, weights_const=1., ridge_const=0., randomizer_scale=1.,\n",
    "                         parallel=False, ncores=4, logic = 'OR', ncoarse=200,\n",
    "                         solve_only=False, continued=False, nbd_instance_cont=None):\n",
    "    # Precision matrix is in its original order, not scaled by root n\n",
    "    # X is also in its original order\n",
    "    n,p = X.shape\n",
    "\n",
    "    if not continued:\n",
    "        nbd_instance = nbd_lasso.gaussian(X, n_scaled=False, weights_const=weights_const,\n",
    "                                          ridge_terms=ridge_const, randomizer_scale=randomizer_scale)\n",
    "        active_signs_random = nbd_instance.fit(logic=logic)\n",
    "        nonzero = nbd_instance.nonzero\n",
    "\n",
    "    # If we only need to solve the Lasso\n",
    "    if solve_only:\n",
    "        return nonzero, nbd_instance\n",
    "\n",
    "    # If we continue a previous run with a nontrivial selection\n",
    "    if continued:\n",
    "        nbd_instance = nbd_instance_cont\n",
    "        nonzero = nbd_instance.nonzero\n",
    "        assert nonzero.sum() > 0\n",
    "\n",
    "    # Construct intervals\n",
    "    if nonzero.sum() > 0:\n",
    "        # Intervals returned is in its original (unscaled) order\n",
    "        intervals = nbd_instance.inference(parallel=parallel, ncoarse=ncoarse, ncores=ncores)\n",
    "        # coverage is upper-triangular\n",
    "        coverage = get_coverage(nonzero, intervals, prec, n, p, scale=False)\n",
    "        interval_len = 0\n",
    "        nonzero_count = 0  # nonzero_count is essentially upper-triangular\n",
    "        for i in range(p):\n",
    "            for j in range(i+1,p):\n",
    "                if nonzero[i,j]:\n",
    "                    interval = intervals[i,j,:]\n",
    "                    interval_len = interval_len + (interval[1] - interval[0])\n",
    "                    nonzero_count = nonzero_count + 1\n",
    "        avg_len = interval_len / nonzero_count\n",
    "        cov_rate = coverage.sum() / nonzero_count\n",
    "        return nonzero, intervals, cov_rate, avg_len\n",
    "    return None, None, None, None"
   ],
   "metadata": {
    "collapsed": false,
    "ExecuteTime": {
     "end_time": "2023-11-19T19:25:21.926462Z",
     "start_time": "2023-11-19T19:25:21.924793Z"
    }
   },
   "id": "c341ce552979d96"
  },
  {
   "cell_type": "code",
   "execution_count": 18,
   "outputs": [],
   "source": [
    "prec,cov,X = GGM_instance(n=n, p=p, max_edges=2, signal=0.7)"
   ],
   "metadata": {
    "collapsed": false,
    "ExecuteTime": {
     "end_time": "2023-11-19T19:25:29.112013Z",
     "start_time": "2023-11-19T19:25:29.081435Z"
    }
   },
   "id": "d79bd9653b974d1b"
  },
  {
   "cell_type": "code",
   "execution_count": 19,
   "outputs": [
    {
     "name": "stdout",
     "output_type": "stream",
     "text": [
      "|E^*|: 40\n"
     ]
    }
   ],
   "source": [
    "print(\"|E^*|:\", (prec != 0).sum())"
   ],
   "metadata": {
    "collapsed": false,
    "ExecuteTime": {
     "end_time": "2023-11-19T19:25:29.557291Z",
     "start_time": "2023-11-19T19:25:29.553799Z"
    }
   },
   "id": "10ce6027cb4a8507"
  },
  {
   "cell_type": "code",
   "execution_count": 20,
   "outputs": [
    {
     "name": "stdout",
     "output_type": "stream",
     "text": [
      "Inference for 0 , 1\n",
      "Inference for 0 , 2\n",
      "Inference for 0 , 3\n",
      "Inference for 0 , 5\n"
     ]
    },
    {
     "ename": "KeyboardInterrupt",
     "evalue": "",
     "output_type": "error",
     "traceback": [
      "\u001B[0;31m---------------------------------------------------------------------------\u001B[0m",
      "\u001B[0;31mKeyboardInterrupt\u001B[0m                         Traceback (most recent call last)",
      "Cell \u001B[0;32mIn[20], line 4\u001B[0m\n\u001B[1;32m      1\u001B[0m start \u001B[38;5;241m=\u001B[39m time\u001B[38;5;241m.\u001B[39mtime()\n\u001B[1;32m      2\u001B[0m \u001B[38;5;66;03m# Approximate inference\u001B[39;00m\n\u001B[1;32m      3\u001B[0m nonzero_approx, intervals_approx, cov_rate_approx, avg_len_approx \\\n\u001B[0;32m----> 4\u001B[0m     \u001B[38;5;241m=\u001B[39m \u001B[43mapprox_inference_sim\u001B[49m\u001B[43m(\u001B[49m\u001B[43mX\u001B[49m\u001B[43m,\u001B[49m\u001B[43m \u001B[49m\u001B[43mprec\u001B[49m\u001B[43m,\u001B[49m\u001B[43m \u001B[49m\u001B[43mweights_const\u001B[49m\u001B[38;5;241;43m=\u001B[39;49m\u001B[43mweights_const\u001B[49m\u001B[43m,\u001B[49m\n\u001B[1;32m      5\u001B[0m \u001B[43m                           \u001B[49m\u001B[43mridge_const\u001B[49m\u001B[38;5;241;43m=\u001B[39;49m\u001B[43mridge_const\u001B[49m\u001B[43m,\u001B[49m\u001B[43m \u001B[49m\u001B[43mrandomizer_scale\u001B[49m\u001B[38;5;241;43m=\u001B[39;49m\u001B[43mrandomizer_scale\u001B[49m\u001B[43m,\u001B[49m\n\u001B[1;32m      6\u001B[0m \u001B[43m                           \u001B[49m\u001B[43mparallel\u001B[49m\u001B[38;5;241;43m=\u001B[39;49m\u001B[38;5;28;43;01mFalse\u001B[39;49;00m\u001B[43m,\u001B[49m\u001B[43m \u001B[49m\u001B[43mncores\u001B[49m\u001B[38;5;241;43m=\u001B[39;49m\u001B[38;5;241;43m1\u001B[39;49m\u001B[43m,\u001B[49m\n\u001B[1;32m      7\u001B[0m \u001B[43m                           \u001B[49m\u001B[43mlogic\u001B[49m\u001B[38;5;241;43m=\u001B[39;49m\u001B[43mlogic\u001B[49m\u001B[43m,\u001B[49m\u001B[43m \u001B[49m\u001B[43msolve_only\u001B[49m\u001B[38;5;241;43m=\u001B[39;49m\u001B[38;5;28;43;01mFalse\u001B[39;49;00m\u001B[43m,\u001B[49m\u001B[43m \u001B[49m\u001B[43mcontinued\u001B[49m\u001B[38;5;241;43m=\u001B[39;49m\u001B[38;5;28;43;01mFalse\u001B[39;49;00m\u001B[43m)\u001B[49m\n\u001B[1;32m      8\u001B[0m \u001B[38;5;28mprint\u001B[39m(\u001B[38;5;124m\"\u001B[39m\u001B[38;5;124mApprox |E|:\u001B[39m\u001B[38;5;124m\"\u001B[39m, nonzero_approx\u001B[38;5;241m.\u001B[39msum())\n\u001B[1;32m      9\u001B[0m end \u001B[38;5;241m=\u001B[39m time\u001B[38;5;241m.\u001B[39mtime()\n",
      "Cell \u001B[0;32mIn[15], line 27\u001B[0m, in \u001B[0;36mapprox_inference_sim\u001B[0;34m(X, prec, weights_const, ridge_const, randomizer_scale, parallel, ncores, logic, ncoarse, solve_only, continued, nbd_instance_cont)\u001B[0m\n\u001B[1;32m     24\u001B[0m \u001B[38;5;66;03m# Construct intervals\u001B[39;00m\n\u001B[1;32m     25\u001B[0m \u001B[38;5;28;01mif\u001B[39;00m nonzero\u001B[38;5;241m.\u001B[39msum() \u001B[38;5;241m>\u001B[39m \u001B[38;5;241m0\u001B[39m:\n\u001B[1;32m     26\u001B[0m     \u001B[38;5;66;03m# Intervals returned is in its original (unscaled) order\u001B[39;00m\n\u001B[0;32m---> 27\u001B[0m     intervals \u001B[38;5;241m=\u001B[39m \u001B[43mnbd_instance\u001B[49m\u001B[38;5;241;43m.\u001B[39;49m\u001B[43minference\u001B[49m\u001B[43m(\u001B[49m\u001B[43mparallel\u001B[49m\u001B[38;5;241;43m=\u001B[39;49m\u001B[43mparallel\u001B[49m\u001B[43m,\u001B[49m\u001B[43m \u001B[49m\u001B[43mncoarse\u001B[49m\u001B[38;5;241;43m=\u001B[39;49m\u001B[43mncoarse\u001B[49m\u001B[43m,\u001B[49m\u001B[43m \u001B[49m\u001B[43mncores\u001B[49m\u001B[38;5;241;43m=\u001B[39;49m\u001B[43mncores\u001B[49m\u001B[43m)\u001B[49m\n\u001B[1;32m     28\u001B[0m     \u001B[38;5;66;03m# coverage is upper-triangular\u001B[39;00m\n\u001B[1;32m     29\u001B[0m     coverage \u001B[38;5;241m=\u001B[39m get_coverage(nonzero, intervals, prec, n, p, scale\u001B[38;5;241m=\u001B[39m\u001B[38;5;28;01mFalse\u001B[39;00m)\n",
      "File \u001B[0;32m~/Desktop/PhD/SI_Codes/SI-Graphs/selectinf/nbd_lasso.py:223\u001B[0m, in \u001B[0;36mnbd_lasso.inference\u001B[0;34m(self, level, parallel, ncoarse, ncores)\u001B[0m\n\u001B[1;32m    221\u001B[0m \u001B[38;5;28;01mif\u001B[39;00m nonzero[i, j]:\n\u001B[1;32m    222\u001B[0m     \u001B[38;5;28mprint\u001B[39m(\u001B[38;5;124m\"\u001B[39m\u001B[38;5;124mInference for\u001B[39m\u001B[38;5;124m\"\u001B[39m, i, \u001B[38;5;124m\"\u001B[39m\u001B[38;5;124m,\u001B[39m\u001B[38;5;124m\"\u001B[39m, j)\n\u001B[0;32m--> 223\u001B[0m     pivot, lcb, ucb \u001B[38;5;241m=\u001B[39m \u001B[43mapprox_inference\u001B[49m\u001B[43m(\u001B[49m\u001B[43mquery_spec\u001B[49m\u001B[38;5;241;43m=\u001B[39;49m\u001B[43mquery_spec\u001B[49m\u001B[43m,\u001B[49m\n\u001B[1;32m    224\u001B[0m \u001B[43m                                       \u001B[49m\u001B[43mj0k0\u001B[49m\u001B[38;5;241;43m=\u001B[39;49m\u001B[43m(\u001B[49m\u001B[43mi\u001B[49m\u001B[43m,\u001B[49m\u001B[43mj\u001B[49m\u001B[43m)\u001B[49m\u001B[43m,\u001B[49m\u001B[43m \u001B[49m\u001B[43mX_n\u001B[49m\u001B[38;5;241;43m=\u001B[39;49m\u001B[43mX_n\u001B[49m\u001B[43m,\u001B[49m\u001B[43m \u001B[49m\u001B[43mn\u001B[49m\u001B[38;5;241;43m=\u001B[39;49m\u001B[43mn\u001B[49m\u001B[43m,\u001B[49m\u001B[43m \u001B[49m\u001B[43mp\u001B[49m\u001B[38;5;241;43m=\u001B[39;49m\u001B[43mp\u001B[49m\u001B[43m,\u001B[49m\n\u001B[1;32m    225\u001B[0m \u001B[43m                                       \u001B[49m\u001B[43mngrid\u001B[49m\u001B[38;5;241;43m=\u001B[39;49m\u001B[38;5;241;43m10000\u001B[39;49m\u001B[43m,\u001B[49m\u001B[43m \u001B[49m\u001B[43mncoarse\u001B[49m\u001B[38;5;241;43m=\u001B[39;49m\u001B[43mncoarse\u001B[49m\u001B[43m,\u001B[49m\u001B[43m \u001B[49m\u001B[43mlevel\u001B[49m\u001B[38;5;241;43m=\u001B[39;49m\u001B[43mlevel\u001B[49m\u001B[43m)\u001B[49m\n\u001B[1;32m    226\u001B[0m     intervals[i, j, \u001B[38;5;241m0\u001B[39m] \u001B[38;5;241m=\u001B[39m lcb \u001B[38;5;241m/\u001B[39m n\n\u001B[1;32m    227\u001B[0m     intervals[i, j, \u001B[38;5;241m1\u001B[39m] \u001B[38;5;241m=\u001B[39m ucb \u001B[38;5;241m/\u001B[39m n\n",
      "File \u001B[0;32m~/Desktop/PhD/SI_Codes/SI-Graphs/selectinf/approx_reference_nbd.py:136\u001B[0m, in \u001B[0;36mapprox_inference\u001B[0;34m(j0k0, query_spec, X_n, n, p, ngrid, ncoarse, level)\u001B[0m\n\u001B[1;32m    134\u001B[0m \u001B[38;5;28;01melse\u001B[39;00m:\n\u001B[1;32m    135\u001B[0m     eval_grid \u001B[38;5;241m=\u001B[39m stat_grid\n\u001B[0;32m--> 136\u001B[0m ref_hat \u001B[38;5;241m=\u001B[39m \u001B[43m_approx_log_reference\u001B[49m\u001B[43m(\u001B[49m\u001B[43mquery_spec\u001B[49m\u001B[43m,\u001B[49m\u001B[43m \u001B[49m\u001B[43meval_grid\u001B[49m\u001B[43m,\u001B[49m\u001B[43m \u001B[49m\u001B[43mj0\u001B[49m\u001B[43m,\u001B[49m\u001B[43m \u001B[49m\u001B[43mk0\u001B[49m\u001B[43m,\u001B[49m\u001B[43m \u001B[49m\u001B[43mS_copy\u001B[49m\u001B[43m,\u001B[49m\u001B[43m \u001B[49m\u001B[43mn\u001B[49m\u001B[43m,\u001B[49m\u001B[43m \u001B[49m\u001B[43mp\u001B[49m\u001B[43m)\u001B[49m\n\u001B[1;32m    137\u001B[0m \u001B[38;5;66;03m#print(\"ref_hat shape:\", ref_hat.shape)\u001B[39;00m\n\u001B[1;32m    139\u001B[0m \u001B[38;5;28;01mif\u001B[39;00m ncoarse \u001B[38;5;129;01mis\u001B[39;00m \u001B[38;5;28;01mNone\u001B[39;00m:\n",
      "File \u001B[0;32m~/Desktop/PhD/SI_Codes/SI-Graphs/selectinf/approx_reference_nbd.py:74\u001B[0m, in \u001B[0;36m_approx_log_reference\u001B[0;34m(query_spec, grid, j0, k0, S_copy, n, p)\u001B[0m\n\u001B[1;32m     68\u001B[0m \u001B[38;5;28;01massert\u001B[39;00m QS\u001B[38;5;241m.\u001B[39moffsets[i] \u001B[38;5;129;01mis\u001B[39;00m \u001B[38;5;129;01mnot\u001B[39;00m \u001B[38;5;28;01mNone\u001B[39;00m\n\u001B[1;32m     70\u001B[0m \u001B[38;5;66;03m#print(\"i:\", i)\u001B[39;00m\n\u001B[1;32m     71\u001B[0m \u001B[38;5;66;03m#print(\"linear:\", QS.linear_parts[i])\u001B[39;00m\n\u001B[1;32m     72\u001B[0m \u001B[38;5;66;03m#print(\"offset:\", QS.offsets[i])\u001B[39;00m\n\u001B[0;32m---> 74\u001B[0m val, _, _ \u001B[38;5;241m=\u001B[39m \u001B[43msolver\u001B[49m\u001B[43m(\u001B[49m\u001B[43mA\u001B[49m\u001B[38;5;241;43m=\u001B[39;49m\u001B[43mB_i\u001B[49m\u001B[43m,\u001B[49m\u001B[43m \u001B[49m\u001B[43mprecision\u001B[49m\u001B[38;5;241;43m=\u001B[39;49m\u001B[43mprec_rand_i\u001B[49m\u001B[43m,\u001B[49m\u001B[43m \u001B[49m\u001B[43mc\u001B[49m\u001B[38;5;241;43m=\u001B[39;49m\u001B[43ma_i\u001B[49m\u001B[43m \u001B[49m\u001B[38;5;241;43m+\u001B[39;49m\u001B[43m \u001B[49m\u001B[43mc_i\u001B[49m\u001B[43m,\u001B[49m\n\u001B[1;32m     75\u001B[0m \u001B[43m                   \u001B[49m\u001B[43mfeasible_point\u001B[49m\u001B[38;5;241;43m=\u001B[39;49m\u001B[43mQS\u001B[49m\u001B[38;5;241;43m.\u001B[39;49m\u001B[43mobserved_soln\u001B[49m\u001B[43m[\u001B[49m\u001B[43mi\u001B[49m\u001B[43m,\u001B[49m\u001B[43mnp\u001B[49m\u001B[38;5;241;43m.\u001B[39;49m\u001B[43mdelete\u001B[49m\u001B[43m(\u001B[49m\u001B[43mactive_i\u001B[49m\u001B[43m,\u001B[49m\u001B[43mi\u001B[49m\u001B[43m)\u001B[49m\u001B[43m]\u001B[49m\u001B[43m,\u001B[49m\n\u001B[1;32m     76\u001B[0m \u001B[43m                   \u001B[49m\u001B[43mcon_linear\u001B[49m\u001B[38;5;241;43m=\u001B[39;49m\u001B[43mQS\u001B[49m\u001B[38;5;241;43m.\u001B[39;49m\u001B[43mlinear_parts\u001B[49m\u001B[43m[\u001B[49m\u001B[43mi\u001B[49m\u001B[43m]\u001B[49m\u001B[43m,\u001B[49m\n\u001B[1;32m     77\u001B[0m \u001B[43m                   \u001B[49m\u001B[43mcon_offset\u001B[49m\u001B[38;5;241;43m=\u001B[39;49m\u001B[43mQS\u001B[49m\u001B[38;5;241;43m.\u001B[39;49m\u001B[43moffsets\u001B[49m\u001B[43m[\u001B[49m\u001B[43mi\u001B[49m\u001B[43m]\u001B[49m\u001B[43m)\u001B[49m\n\u001B[1;32m     79\u001B[0m \u001B[38;5;28;01mif\u001B[39;00m np\u001B[38;5;241m.\u001B[39misnan(val):\n\u001B[1;32m     80\u001B[0m     \u001B[38;5;28mprint\u001B[39m(\u001B[38;5;124m\"\u001B[39m\u001B[38;5;124m(\u001B[39m\u001B[38;5;124m\"\u001B[39m,j0,\u001B[38;5;124m\"\u001B[39m\u001B[38;5;124m,\u001B[39m\u001B[38;5;124m\"\u001B[39m,k0,\u001B[38;5;124m\"\u001B[39m\u001B[38;5;124m), grid no.:\u001B[39m\u001B[38;5;124m\"\u001B[39m, k, \u001B[38;5;124m\"\u001B[39m\u001B[38;5;124m, problem: \u001B[39m\u001B[38;5;124m\"\u001B[39m, i)\n",
      "File \u001B[0;32m~/Desktop/PhD/SI_Codes/SI-Graphs/selectinf/Utils/barrier_affine.py:241\u001B[0m, in \u001B[0;36msolve_barrier_GGM\u001B[0;34m(A, precision, c, feasible_point, con_linear, con_offset, step, nstep, min_its, tol)\u001B[0m\n\u001B[1;32m    238\u001B[0m     \u001B[38;5;28;01mif\u001B[39;00m itercount \u001B[38;5;241m%\u001B[39m \u001B[38;5;241m4\u001B[39m \u001B[38;5;241m==\u001B[39m \u001B[38;5;241m0\u001B[39m:\n\u001B[1;32m    239\u001B[0m         step \u001B[38;5;241m*\u001B[39m\u001B[38;5;241m=\u001B[39m \u001B[38;5;241m2\u001B[39m\n\u001B[0;32m--> 241\u001B[0m hess \u001B[38;5;241m=\u001B[39m \u001B[43mnp\u001B[49m\u001B[38;5;241;43m.\u001B[39;49m\u001B[43mlinalg\u001B[49m\u001B[38;5;241;43m.\u001B[39;49m\u001B[43minv\u001B[49m\u001B[43m(\u001B[49m\u001B[43mcenter\u001B[49m\u001B[43m \u001B[49m\u001B[38;5;241;43m+\u001B[39;49m\u001B[43m \u001B[49m\u001B[43mbarrier_hessian\u001B[49m\u001B[43m(\u001B[49m\u001B[43mcurrent\u001B[49m\u001B[43m)\u001B[49m\u001B[43m)\u001B[49m\n\u001B[1;32m    242\u001B[0m \u001B[38;5;28;01mif\u001B[39;00m np\u001B[38;5;241m.\u001B[39misnan(current_value):\n\u001B[1;32m    243\u001B[0m     \u001B[38;5;28mprint\u001B[39m(\u001B[38;5;124m\"\u001B[39m\u001B[38;5;124mLaplace approximation returning nan\u001B[39m\u001B[38;5;124m\"\u001B[39m)\n",
      "File \u001B[0;32m<__array_function__ internals>:180\u001B[0m, in \u001B[0;36minv\u001B[0;34m(*args, **kwargs)\u001B[0m\n",
      "File \u001B[0;32m~/Desktop/PhD/SI_Codes/SI-Graphs/env3/lib/python3.10/site-packages/numpy/linalg/linalg.py:552\u001B[0m, in \u001B[0;36minv\u001B[0;34m(a)\u001B[0m\n\u001B[1;32m    550\u001B[0m signature \u001B[38;5;241m=\u001B[39m \u001B[38;5;124m'\u001B[39m\u001B[38;5;124mD->D\u001B[39m\u001B[38;5;124m'\u001B[39m \u001B[38;5;28;01mif\u001B[39;00m isComplexType(t) \u001B[38;5;28;01melse\u001B[39;00m \u001B[38;5;124m'\u001B[39m\u001B[38;5;124md->d\u001B[39m\u001B[38;5;124m'\u001B[39m\n\u001B[1;32m    551\u001B[0m extobj \u001B[38;5;241m=\u001B[39m get_linalg_error_extobj(_raise_linalgerror_singular)\n\u001B[0;32m--> 552\u001B[0m ainv \u001B[38;5;241m=\u001B[39m \u001B[43m_umath_linalg\u001B[49m\u001B[38;5;241;43m.\u001B[39;49m\u001B[43minv\u001B[49m\u001B[43m(\u001B[49m\u001B[43ma\u001B[49m\u001B[43m,\u001B[49m\u001B[43m \u001B[49m\u001B[43msignature\u001B[49m\u001B[38;5;241;43m=\u001B[39;49m\u001B[43msignature\u001B[49m\u001B[43m,\u001B[49m\u001B[43m \u001B[49m\u001B[43mextobj\u001B[49m\u001B[38;5;241;43m=\u001B[39;49m\u001B[43mextobj\u001B[49m\u001B[43m)\u001B[49m\n\u001B[1;32m    553\u001B[0m \u001B[38;5;28;01mreturn\u001B[39;00m wrap(ainv\u001B[38;5;241m.\u001B[39mastype(result_t, copy\u001B[38;5;241m=\u001B[39m\u001B[38;5;28;01mFalse\u001B[39;00m))\n",
      "\u001B[0;31mKeyboardInterrupt\u001B[0m: "
     ]
    }
   ],
   "source": [
    "start = time.time()\n",
    "# Approximate inference\n",
    "nonzero_approx, intervals_approx, cov_rate_approx, avg_len_approx \\\n",
    "    = approx_inference_sim(X, prec, weights_const=weights_const,\n",
    "                           ridge_const=ridge_const, randomizer_scale=randomizer_scale,\n",
    "                           parallel=False, ncores=1,\n",
    "                           logic=logic, solve_only=False, continued=False)\n",
    "print(\"Approx |E|:\", nonzero_approx.sum())\n",
    "end = time.time()\n",
    "print(\"time used:\", end-start)\n",
    "print(\"avg time:\", (end-start) / nonzero_approx.sum())"
   ],
   "metadata": {
    "collapsed": false,
    "ExecuteTime": {
     "end_time": "2023-11-19T19:26:49.476313Z",
     "start_time": "2023-11-19T19:25:30.203605Z"
    }
   },
   "id": "ea2e3247bf493d81"
  },
  {
   "cell_type": "code",
   "execution_count": 13,
   "outputs": [],
   "source": [
    "#Approx |E|: 98\n",
    "#time used: 492.61628794670105\n",
    "#avg time: 5.026696815782664"
   ],
   "metadata": {
    "collapsed": false,
    "ExecuteTime": {
     "end_time": "2023-11-19T19:24:06.110712Z",
     "start_time": "2023-11-19T19:24:06.109252Z"
    }
   },
   "id": "a5e0b9897c7ebd8a"
  },
  {
   "cell_type": "code",
   "execution_count": null,
   "outputs": [],
   "source": [],
   "metadata": {
    "collapsed": false
   },
   "id": "c12ee0f6cbde202b"
  }
 ],
 "metadata": {
  "kernelspec": {
   "display_name": "Python 3",
   "language": "python",
   "name": "python3"
  },
  "language_info": {
   "codemirror_mode": {
    "name": "ipython",
    "version": 2
   },
   "file_extension": ".py",
   "mimetype": "text/x-python",
   "name": "python",
   "nbconvert_exporter": "python",
   "pygments_lexer": "ipython2",
   "version": "2.7.6"
  }
 },
 "nbformat": 4,
 "nbformat_minor": 5
}
