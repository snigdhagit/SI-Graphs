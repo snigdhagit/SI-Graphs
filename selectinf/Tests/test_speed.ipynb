{
 "cells": [
  {
   "cell_type": "code",
   "execution_count": 2,
   "id": "initial_id",
   "metadata": {
    "collapsed": true,
    "ExecuteTime": {
     "end_time": "2024-01-26T17:09:47.055610Z",
     "start_time": "2024-01-26T17:09:47.049649Z"
    }
   },
   "outputs": [],
   "source": [
    "import numpy as np\n",
    "import pandas as pd\n",
    "import random\n",
    "import time\n",
    "\n",
    "from matplotlib import pyplot as plt\n",
    "import seaborn as sns\n",
    "\n",
    "from selectinf.nbd_lasso import nbd_lasso\n",
    "from selectinf.Utils.discrete_family import discrete_family\n",
    "from selectinf.Tests.instance import GGM_instance\n",
    "\n",
    "from selectinf.Tests.nbd_naive_and_ds import *"
   ]
  },
  {
   "cell_type": "code",
   "execution_count": 7,
   "outputs": [],
   "source": [
    "n = 800#np_pair[0]\n",
    "p = 30#np_pair[1]\n",
    "weights_const = 0.5\n",
    "ridge_const = 1.\n",
    "randomizer_scale = 1.\n",
    "ncoarse = 200\n",
    "logic=1"
   ],
   "metadata": {
    "collapsed": false,
    "ExecuteTime": {
     "end_time": "2023-12-21T13:48:06.511948Z",
     "start_time": "2023-12-21T13:48:06.507331Z"
    }
   },
   "id": "d8b43baee656a2d2"
  },
  {
   "cell_type": "code",
   "execution_count": 8,
   "outputs": [],
   "source": [
    "def approx_inference_sim(X, prec, weights_const=1., ridge_const=0., randomizer_scale=1.,\n",
    "                         parallel=False, ncores=4, logic = 'OR', ncoarse=200,\n",
    "                         solve_only=False, continued=False, nbd_instance_cont=None):\n",
    "    # Precision matrix is in its original order, not scaled by root n\n",
    "    # X is also in its original order\n",
    "    n,p = X.shape\n",
    "\n",
    "    if not continued:\n",
    "        nbd_instance = nbd_lasso.gaussian(X, n_scaled=False, weights_const=weights_const,\n",
    "                                          ridge_terms=ridge_const, randomizer_scale=randomizer_scale)\n",
    "        active_signs_random = nbd_instance.fit(logic=logic)\n",
    "        nonzero = nbd_instance.nonzero\n",
    "\n",
    "    # If we only need to solve the Lasso\n",
    "    if solve_only:\n",
    "        return nonzero, nbd_instance\n",
    "\n",
    "    # If we continue a previous run with a nontrivial selection\n",
    "    if continued:\n",
    "        nbd_instance = nbd_instance_cont\n",
    "        nonzero = nbd_instance.nonzero\n",
    "        assert nonzero.sum() > 0\n",
    "\n",
    "    # Construct intervals\n",
    "    if nonzero.sum() > 0:\n",
    "        # Intervals returned is in its original (unscaled) order\n",
    "        intervals = nbd_instance.inference(parallel=parallel, ncoarse=ncoarse, ncores=ncores)\n",
    "        # coverage is upper-triangular\n",
    "        coverage = get_coverage(nonzero, intervals, prec, n, p, scale=False)\n",
    "        interval_len = 0\n",
    "        nonzero_count = 0  # nonzero_count is essentially upper-triangular\n",
    "        for i in range(p):\n",
    "            for j in range(i+1,p):\n",
    "                if nonzero[i,j]:\n",
    "                    interval = intervals[i,j,:]\n",
    "                    interval_len = interval_len + (interval[1] - interval[0])\n",
    "                    nonzero_count = nonzero_count + 1\n",
    "        avg_len = interval_len / nonzero_count\n",
    "        cov_rate = coverage.sum() / nonzero_count\n",
    "        return nonzero, intervals, cov_rate, avg_len\n",
    "    return None, None, None, None"
   ],
   "metadata": {
    "collapsed": false,
    "ExecuteTime": {
     "end_time": "2023-12-21T13:48:07.049047Z",
     "start_time": "2023-12-21T13:48:07.037626Z"
    }
   },
   "id": "c341ce552979d96"
  },
  {
   "cell_type": "code",
   "execution_count": 50,
   "outputs": [],
   "source": [
    "def GGM_instance(n=100, p=100, max_edges=10, signal=1.):\n",
    "    from scipy.stats import norm\n",
    "    def generate_vertices(p):\n",
    "        vertices = np.random.uniform(size=(p,2))\n",
    "        return vertices\n",
    "    def connecting_prob(v1,v2,p):\n",
    "        # Euclidean distance of v1, v2\n",
    "        d = np.linalg.norm(v1-v2)\n",
    "        # calculating connecting probability\n",
    "        prob = norm.pdf(d/np.sqrt(p))\n",
    "        return prob\n",
    "    def remove_edges(p, adj, max_edges):\n",
    "        idx = list(range(p))\n",
    "        np.random.shuffle(idx)\n",
    "\n",
    "        for i in idx:\n",
    "            if np.all(np.sum(adj, axis=1) <= (max_edges+1)):\n",
    "                break\n",
    "            # Indices of nodes connected to v_i\n",
    "            nonzero_i = list(np.nonzero(adj[i])[0])\n",
    "            n_edges = len(nonzero_i)\n",
    "\n",
    "            # Delete some edges if there are redundancies\n",
    "            if n_edges > (max_edges+1):\n",
    "                nonzero_i.remove(i)\n",
    "                removed_idx_i = random.sample(nonzero_i,n_edges-max_edges)\n",
    "                # Remove other edges\n",
    "                adj[i,removed_idx_i] = 0\n",
    "                adj[removed_idx_i,i] = 0\n",
    "\n",
    "        return adj\n",
    "\n",
    "    vertices = generate_vertices(p)\n",
    "\n",
    "    adj_mat = np.eye(p)\n",
    "\n",
    "    for i in range(p):\n",
    "        for j in range(i+1,p):\n",
    "            v_i = vertices[i]\n",
    "            v_j = vertices[j]\n",
    "            adj_mat[i,j] = np.random.binomial(n=1,\n",
    "                                              p=connecting_prob(v1=v_i,\n",
    "                                                                v2=v_j,\n",
    "                                                                p=p))\n",
    "\n",
    "    # symmetrize\n",
    "    adj_mat = adj_mat + adj_mat.T - np.eye(p)\n",
    "\n",
    "    # remove redundant edges\n",
    "    adj_mat = remove_edges(p, adj_mat, max_edges)\n",
    "\n",
    "    # maximal off-diag value to guarantee diagonal dominance\n",
    "    max_off_diag = 1/max_edges\n",
    "\n",
    "    # generate a PD precision\n",
    "    precision = np.random.uniform(size=(p,p), low=0.75,\n",
    "                                  high=0.85)\n",
    "\n",
    "    # precision = max_off_diag * (np.random.binomial(n=1,p=0.5,size=(p, p)) * 2 - 1)\n",
    "    # symmetrize precision\n",
    "    precision = np.tril(precision)\n",
    "    precision = precision + precision.T\n",
    "    # sparsify precision based on adjacency matrix\n",
    "    precision = precision * adj_mat\n",
    "    np.fill_diagonal(precision, 1)\n",
    "    cov = np.linalg.inv(precision)\n",
    "\n",
    "    # standardize the covariance\n",
    "    cov = cov / np.outer(np.sqrt(np.diag(cov)), np.sqrt(np.diag(cov)))\n",
    "    precision = np.linalg.inv(cov)\n",
    "\n",
    "    X = np.random.multivariate_normal(mean=np.zeros(p),\n",
    "                                      cov=cov, size=n)\n",
    "\n",
    "    return precision, cov, X"
   ],
   "metadata": {
    "collapsed": false,
    "ExecuteTime": {
     "end_time": "2023-12-21T14:00:48.687860Z",
     "start_time": "2023-12-21T14:00:48.683519Z"
    }
   },
   "id": "f20a08d5383f0dd8"
  },
  {
   "cell_type": "code",
   "execution_count": 51,
   "outputs": [],
   "source": [
    "prec,cov,X = GGM_instance(n=n, p=p, max_edges=1, signal=1)"
   ],
   "metadata": {
    "collapsed": false,
    "ExecuteTime": {
     "end_time": "2023-12-21T14:00:49.175667Z",
     "start_time": "2023-12-21T14:00:49.137263Z"
    }
   },
   "id": "d79bd9653b974d1b"
  },
  {
   "cell_type": "code",
   "execution_count": 52,
   "outputs": [
    {
     "name": "stdout",
     "output_type": "stream",
     "text": [
      "|E^*|: 32\n"
     ]
    }
   ],
   "source": [
    "print(\"|E^*|:\", (prec != 0).sum())"
   ],
   "metadata": {
    "collapsed": false,
    "ExecuteTime": {
     "end_time": "2023-12-21T14:00:49.578133Z",
     "start_time": "2023-12-21T14:00:49.572919Z"
    }
   },
   "id": "10ce6027cb4a8507"
  },
  {
   "cell_type": "code",
   "execution_count": 53,
   "outputs": [
    {
     "data": {
      "text/plain": "array([3.52017075, 2.97849481, 2.97849481, 3.52017075])"
     },
     "execution_count": 53,
     "metadata": {},
     "output_type": "execute_result"
    }
   ],
   "source": [
    "prec[prec>1]"
   ],
   "metadata": {
    "collapsed": false,
    "ExecuteTime": {
     "end_time": "2023-12-21T14:00:50.178464Z",
     "start_time": "2023-12-21T14:00:50.172395Z"
    }
   },
   "id": "c8b023e98a4dc7c1"
  },
  {
   "cell_type": "code",
   "execution_count": 54,
   "outputs": [
    {
     "name": "stdout",
     "output_type": "stream",
     "text": [
      "Inference for 0 , 2\n",
      "Inference for 4 , 20\n"
     ]
    },
    {
     "name": "stderr",
     "output_type": "stream",
     "text": [
      "/Users/yilingh/Desktop/PhD/SI_Codes/SI-Graphs/selectinf/Utils/discrete_family.py:147: RuntimeWarning: overflow encountered in exp\n",
      "  self._partition *= np.exp(_largest)\n"
     ]
    },
    {
     "name": "stdout",
     "output_type": "stream",
     "text": [
      "Inference for 4 , 21\n",
      "Inference for 5 , 7\n",
      "Inference for 9 , 19\n",
      "Inference for 18 , 19\n",
      "Inference for 19 , 28\n",
      "Inference for 21 , 24\n",
      "Inference for 22 , 29\n",
      "Approx |E|: 18\n",
      "time used: 15.44553804397583\n",
      "avg time: 0.8580854468875461\n"
     ]
    }
   ],
   "source": [
    "start = time.time()\n",
    "# Approximate inference\n",
    "nbd_instance = nbd_lasso.gaussian(X, n_scaled=False, weights_const=weights_const,\n",
    "                                          ridge_terms=ridge_const, randomizer_scale=randomizer_scale)\n",
    "active_signs_random = nbd_instance.fit(logic=logic)\n",
    "nonzero = nbd_instance.nonzero\n",
    "intervals = nbd_instance.inference(parallel=False, ncoarse=200, ncores=1)\n",
    "\n",
    "\n",
    "print(\"Approx |E|:\", nonzero.sum())\n",
    "end = time.time()\n",
    "print(\"time used:\", end-start)\n",
    "print(\"avg time:\", (end-start) / nonzero.sum())"
   ],
   "metadata": {
    "collapsed": false,
    "ExecuteTime": {
     "end_time": "2023-12-21T14:01:06.922798Z",
     "start_time": "2023-12-21T14:00:51.475351Z"
    }
   },
   "id": "ea2e3247bf493d81"
  },
  {
   "cell_type": "code",
   "execution_count": 56,
   "outputs": [
    {
     "data": {
      "text/plain": "array([2.95457443, 3.54074396])"
     },
     "execution_count": 56,
     "metadata": {},
     "output_type": "execute_result"
    }
   ],
   "source": [
    "intervals[4,20]"
   ],
   "metadata": {
    "collapsed": false,
    "ExecuteTime": {
     "end_time": "2023-12-21T14:01:13.424782Z",
     "start_time": "2023-12-21T14:01:13.413862Z"
    }
   },
   "id": "cce89733289cf5e"
  },
  {
   "cell_type": "code",
   "execution_count": 13,
   "outputs": [],
   "source": [
    "#Approx |E|: 98\n",
    "#time used: 492.61628794670105\n",
    "#avg time: 5.026696815782664"
   ],
   "metadata": {
    "collapsed": false,
    "ExecuteTime": {
     "end_time": "2023-11-19T19:24:06.110712Z",
     "start_time": "2023-11-19T19:24:06.109252Z"
    }
   },
   "id": "a5e0b9897c7ebd8a"
  },
  {
   "cell_type": "code",
   "execution_count": 57,
   "outputs": [
    {
     "data": {
      "text/plain": "1.7976931348623157e+308"
     },
     "execution_count": 57,
     "metadata": {},
     "output_type": "execute_result"
    }
   ],
   "source": [
    "np.finfo(np.float64).max"
   ],
   "metadata": {
    "collapsed": false,
    "ExecuteTime": {
     "end_time": "2023-12-21T14:08:43.613558Z",
     "start_time": "2023-12-21T14:08:43.591094Z"
    }
   },
   "id": "c12ee0f6cbde202b"
  },
  {
   "cell_type": "code",
   "execution_count": 59,
   "outputs": [
    {
     "data": {
      "text/plain": "1.7976931348623157e+308"
     },
     "execution_count": 59,
     "metadata": {},
     "output_type": "execute_result"
    }
   ],
   "source": [
    "np.finfo(float).max"
   ],
   "metadata": {
    "collapsed": false,
    "ExecuteTime": {
     "end_time": "2023-12-21T14:09:25.083493Z",
     "start_time": "2023-12-21T14:09:25.073841Z"
    }
   },
   "id": "e4cd117d83996e8e"
  },
  {
   "cell_type": "code",
   "execution_count": null,
   "outputs": [],
   "source": [],
   "metadata": {
    "collapsed": false
   },
   "id": "42c758856128044e"
  }
 ],
 "metadata": {
  "kernelspec": {
   "display_name": "Python 3",
   "language": "python",
   "name": "python3"
  },
  "language_info": {
   "codemirror_mode": {
    "name": "ipython",
    "version": 2
   },
   "file_extension": ".py",
   "mimetype": "text/x-python",
   "name": "python",
   "nbconvert_exporter": "python",
   "pygments_lexer": "ipython2",
   "version": "2.7.6"
  }
 },
 "nbformat": 4,
 "nbformat_minor": 5
}
